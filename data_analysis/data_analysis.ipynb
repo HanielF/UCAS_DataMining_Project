{
 "cells": [
  {
   "cell_type": "code",
   "execution_count": null,
   "metadata": {},
   "outputs": [],
   "source": [
    "import numpy as np\n",
    "import pandas as pd\n",
    "import seaborn as sns\n",
    "import matplotlib.pyplot as plt"
   ]
  },
  {
   "cell_type": "code",
   "execution_count": null,
   "metadata": {},
   "outputs": [],
   "source": [
    "data_path = './data/dataset.csv'\n",
    "para_path = './data/wind_turbine_parameters.csv'"
   ]
  },
  {
   "cell_type": "markdown",
   "metadata": {},
   "source": [
    "## 读入数据"
   ]
  },
  {
   "cell_type": "code",
   "execution_count": null,
   "metadata": {},
   "outputs": [],
   "source": [
    "raw_data = pd.read_csv(data_path)\n",
    "para = pd.read_csv(para_path)"
   ]
  },
  {
   "cell_type": "code",
   "execution_count": null,
   "metadata": {},
   "outputs": [],
   "source": [
    "raw_data.head()"
   ]
  },
  {
   "cell_type": "code",
   "execution_count": null,
   "metadata": {},
   "outputs": [],
   "source": [
    "para.head()"
   ]
  },
  {
   "cell_type": "markdown",
   "metadata": {},
   "source": [
    "## 预处理部分数据"
   ]
  },
  {
   "cell_type": "markdown",
   "metadata": {},
   "source": [
    "### 去掉标号的‘#’"
   ]
  },
  {
   "cell_type": "code",
   "execution_count": null,
   "metadata": {},
   "outputs": [],
   "source": [
    "def remove_chr(row):\n",
    "    return row.iloc[0][:-1]\n",
    "para['Number']=para[['Number']].apply(remove_chr, axis=1)"
   ]
  },
  {
   "cell_type": "code",
   "execution_count": null,
   "metadata": {},
   "outputs": [],
   "source": [
    "para.head()"
   ]
  },
  {
   "cell_type": "markdown",
   "metadata": {},
   "source": [
    "### 将WheelSpeedRange 切分为WheelSpeedMin和WheelSpeedMax"
   ]
  },
  {
   "cell_type": "code",
   "execution_count": null,
   "metadata": {},
   "outputs": [],
   "source": [
    "def get_min_wheel_speed(row):\n",
    "    return float(row.iloc[0].split('-')[0])\n",
    "def get_max_wheel_speed(row):\n",
    "    return float(row.iloc[0].split('-')[1])\n",
    "para['WheelSpeedMin'] = para[['WheelSpeedRange']].apply(get_min_wheel_speed, axis=1)\n",
    "para['WheelSpesdMax'] = para[['WheelSpeedRange']].apply(get_max_wheel_speed, axis=1)"
   ]
  },
  {
   "cell_type": "code",
   "execution_count": null,
   "metadata": {},
   "outputs": [],
   "source": [
    "para.columns.values"
   ]
  },
  {
   "cell_type": "code",
   "execution_count": null,
   "metadata": {},
   "outputs": [],
   "source": [
    "para = para[['Number', 'Width', 'RatedPower', 'CutInWindSpeed',\n",
    "       'CutOutWindSpeed', 'WheelSpeedMin',\n",
    "       'WheelSpesdMax']]"
   ]
  },
  {
   "cell_type": "code",
   "execution_count": null,
   "metadata": {},
   "outputs": [],
   "source": [
    "para.head()"
   ]
  },
  {
   "cell_type": "code",
   "execution_count": null,
   "metadata": {},
   "outputs": [],
   "source": [
    "raw_data.head()"
   ]
  },
  {
   "cell_type": "markdown",
   "metadata": {},
   "source": [
    "## 合并raw data和para data"
   ]
  },
  {
   "cell_type": "code",
   "execution_count": null,
   "metadata": {},
   "outputs": [],
   "source": [
    "def insert_para(row):\n",
    "    num = row['WindNumber']\n",
    "    para_ = para.iloc[num-1,1:]\n",
    "    return pd.concat([row, para_])\n",
    "combined_data = raw_data.apply(insert_para, axis=1)"
   ]
  },
  {
   "cell_type": "code",
   "execution_count": null,
   "metadata": {},
   "outputs": [],
   "source": [
    "combined_data.head()"
   ]
  },
  {
   "cell_type": "code",
   "execution_count": null,
   "metadata": {
    "tags": []
   },
   "outputs": [],
   "source": [
    "raw_data.info()"
   ]
  },
  {
   "cell_type": "code",
   "execution_count": null,
   "metadata": {
    "tags": []
   },
   "outputs": [],
   "source": [
    " combined_data.info()"
   ]
  },
  {
   "cell_type": "markdown",
   "metadata": {},
   "source": [
    "- 发现数据中没有缺失值"
   ]
  },
  {
   "cell_type": "markdown",
   "metadata": {},
   "source": [
    "## 保存数据"
   ]
  },
  {
   "cell_type": "code",
   "execution_count": null,
   "metadata": {},
   "outputs": [],
   "source": [
    "combined_data.to_csv('./data/combined_data.csv', index=0)"
   ]
  },
  {
   "cell_type": "markdown",
   "metadata": {},
   "source": [
    "## 导入新数据"
   ]
  },
  {
   "cell_type": "code",
   "execution_count": null,
   "metadata": {
    "tags": []
   },
   "outputs": [],
   "source": [
    "combined_data = pd.read_csv('./data/combined_data.csv')\n",
    "combined_data.head()"
   ]
  },
  {
   "cell_type": "markdown",
   "metadata": {},
   "source": [
    "## 可视化数据"
   ]
  },
  {
   "cell_type": "markdown",
   "metadata": {},
   "source": [
    "### Time-WindSpeed-Power"
   ]
  },
  {
   "cell_type": "markdown",
   "metadata": {},
   "source": [
    "- 数据按照编号分组"
   ]
  },
  {
   "cell_type": "code",
   "execution_count": null,
   "metadata": {},
   "outputs": [],
   "source": [
    "group_data = combined_data.groupby('WindNumber')"
   ]
  },
  {
   "cell_type": "markdown",
   "metadata": {},
   "source": [
    "- 查看每组数据量"
   ]
  },
  {
   "cell_type": "code",
   "execution_count": null,
   "metadata": {},
   "outputs": [],
   "source": [
    "rotor_cnt = group_data['WindNumber'].count()\n",
    "type(rotor_cnt), rotor_cnt.values.shape,rotor_cnt, rotor_cnt.values"
   ]
  },
  {
   "cell_type": "markdown",
   "metadata": {},
   "source": [
    "- 无法直接根据`Time`或者时间对应的index可视化所有数据，从[dataset](data/dataset.csv)中可以发现不同风电机的运行时间不同：\n",
    "\n",
    "| Number | Start Time     | End Time          |\n",
    "| ------ | -------------- | ----------------- |\n",
    "| 1      | 2017/11/1 0:20 | 2017/11/1 0:20    |\n",
    "| 2      | 2017/11/1 0:10 | 2017/11/1 0:10    |\n",
    "| 3      | 2017/11/1 0:10 | 2018/10/30 23:500 |\n",
    "| 4      | 2018/11/1 0:00 | 2019/10/17 14:50  |\n",
    "| 5      | 2019/1/2 11:40 | 2017/11/1 0:10    |\n",
    "\n",
    "\n",
    "- 如下的方式无法使用，可将Time映射到index，或者直接使用range\n",
    "\n",
    "`sns.relplot(x='Time' , y='WindSpeed', hue='WindNumber',kind='line',data=combined_data)`"
   ]
  },
  {
   "cell_type": "code",
   "execution_count": null,
   "metadata": {},
   "outputs": [],
   "source": [
    "group_data.get_group(1)"
   ]
  },
  {
   "cell_type": "markdown",
   "metadata": {},
   "source": [
    "- 使用g_idx控制绘图数据"
   ]
  },
  {
   "cell_type": "code",
   "execution_count": null,
   "metadata": {},
   "outputs": [],
   "source": [
    "g_idx = 0\n",
    "data_size = 10000"
   ]
  },
  {
   "cell_type": "markdown",
   "metadata": {},
   "source": [
    "- 绘制wind_speed-power图"
   ]
  },
  {
   "cell_type": "code",
   "execution_count": null,
   "metadata": {},
   "outputs": [],
   "source": [
    "# 查看：5000数据\n",
    "g_data = group_data.get_group(g_idx+1).iloc[:5000]\n",
    "sns.relplot(x='WindSpeed' , y='Power', kind='scatter', data=g_data, height=4, aspect=4)"
   ]
  },
  {
   "cell_type": "markdown",
   "metadata": {},
   "source": [
    "- 前5000条数据，并没有出现曲线左上方的异常"
   ]
  },
  {
   "cell_type": "code",
   "execution_count": null,
   "metadata": {},
   "outputs": [],
   "source": [
    "# 查看5000：10000的数据\n",
    "data_size=5000\n",
    "g_data = group_data.get_group(g_idx+1).iloc[data_size:data_size*2]\n",
    "sns.relplot(x='WindSpeed' , y='Power', kind='scatter', data=g_data, height=5, aspect=4)"
   ]
  },
  {
   "cell_type": "markdown",
   "metadata": {},
   "source": [
    "- 从5000-10000开始有了左上方的异常，以及曲线右边的异常点"
   ]
  },
  {
   "cell_type": "markdown",
   "metadata": {},
   "source": [
    "- 看到后面很多在wind_speed很大的时候，power降到了0,这是异常\n",
    "- 切入风速以下，应该Power为0，否则，也可能是异常\n",
    "- 有部分数据在风速上升的时候保持了不变，应该是达到了额定功率"
   ]
  },
  {
   "cell_type": "code",
   "execution_count": null,
   "metadata": {},
   "outputs": [],
   "source": [
    "# 查看所有数据\n",
    "g_data = group_data.get_group(g_idx+1)\n",
    "plt.figure(figsize=(25,10))\n",
    "plt.plot(g_data['WindSpeed'], g_data['Power'], '.b', ms=4, label='WindSpeed-Power')\n",
    "plt.legend()\n",
    "plt.xlabel('Wind Speed')\n",
    "plt.ylabel('Power')\n",
    "plt.xticks(np.linspace(0, int(max(g_data['WindSpeed'])), int(max(g_data['WindSpeed']))+1))"
   ]
  },
  {
   "cell_type": "code",
   "execution_count": null,
   "metadata": {
    "tags": []
   },
   "outputs": [],
   "source": [
    "wind_speed = g_data['WindSpeed']\n",
    "power = g_data['Power']\n",
    "time = np.arange(power.shape[0])\n",
    "\n",
    "plt.figure(figsize=(25,10))\n",
    "ax=plt.subplot(111)\n",
    "ax.plot(time, wind_speed, 'b-', lw=.5, label='wind_speed')\n",
    "\n",
    "ax.set_xlabel('time')\n",
    "ax.set_ylabel('wind_speed')\n",
    "plt.legend(loc='upper left')\n",
    "\n",
    "# 重点来了，twinx 或者 twiny 函数\n",
    "ax2 = ax.twinx()\n",
    "ax2.plot(time, power, '.r', ms=2, label='power')\n",
    "\n",
    "ax2.set_ylabel('power')\n",
    "plt.title('wind_speed and power')\n",
    "plt.legend(loc='upper right')"
   ]
  },
  {
   "cell_type": "markdown",
   "metadata": {},
   "source": [
    "- 这里看的也很明显，红色power曲线下方有很多为0的部分，而蓝色线非0\n",
    "\n",
    "- 有风但是功率为0的可能有很多，比如断电了，坏了，之类的\n",
    "\n",
    "- 下面查看有风时电机转不转，数据同上面一样为最后的5k条数据"
   ]
  },
  {
   "cell_type": "markdown",
   "metadata": {},
   "source": [
    "### WindSpeed-RotorSpeed"
   ]
  },
  {
   "cell_type": "markdown",
   "metadata": {},
   "source": [
    "- 底部存在有风的时候，电机速度为0,说明是很多是不转了导致power为0\n",
    "- 上方存在有风但是电机转的特别快的点\n",
    "- 风速和电机曲线右侧，偏低的点\n",
    "- 风速和电机曲线右侧，呈一条直线的点\n",
    "\n",
    "- 查看windspeed-power-rotorspeed关系"
   ]
  },
  {
   "cell_type": "code",
   "execution_count": null,
   "metadata": {},
   "outputs": [],
   "source": [
    "g_idx = 0\n",
    "g_data = group_data.get_group(g_idx+1)\n",
    "\n",
    "wind_speed = g_data['WindSpeed']\n",
    "rotor_speed = g_data['RotorSpeed']\n",
    "\n",
    "plt.figure(figsize=(25,10))\n",
    "ax=plt.subplot(111)\n",
    "ax.plot(wind_speed, rotor_speed, '.r', ms=2, label='power')\n",
    "ax.set_xlabel('wind speed')\n",
    "ax.set_ylabel('RotorSpeed')\n",
    "plt.legend(loc='upper right')"
   ]
  },
  {
   "cell_type": "markdown",
   "metadata": {},
   "source": [
    "### wind speed - rotor speed - power"
   ]
  },
  {
   "cell_type": "code",
   "execution_count": null,
   "metadata": {
    "tags": []
   },
   "outputs": [],
   "source": [
    "wind_speed = g_data['WindSpeed']\n",
    "power = g_data['Power']\n",
    "rotor_speed = g_data['RotorSpeed']\n",
    "\n",
    "plt.figure(figsize=(25,10))\n",
    "ax=plt.subplot(111)\n",
    "ax.plot(wind_speed, power, '.b', ms=2, label='power')\n",
    "ax.set_xlabel('wind speed')\n",
    "ax.set_ylabel('power')\n",
    "plt.legend(loc='upper left')\n",
    "\n",
    "ax2 = ax.twinx()\n",
    "ax2.plot(wind_speed, rotor_speed, 'vr', ms=2, label='rotor speed')\n",
    "ax2.set_ylabel('rotor speed')\n",
    "plt.title('wind_speed, power and rotor speed')\n",
    "plt.legend(loc='upper right')"
   ]
  },
  {
   "cell_type": "markdown",
   "metadata": {},
   "source": [
    "1. wind speed在2.5-5范围内，随着wind spee增大，power和rotor speed增加并不同步，有很多点在中间部位\n",
    "1. wind speed 在cut in speed 之前，rotor speed和power应该都是0，但是有很多明显的异常点\n",
    "1. 后半部分，有很多是wind speed高，但是rotor speed和power都几乎为0，这应该可以说明是**有风不转**\n",
    "1. 右半部分，中间区域有很多零散点"
   ]
  },
  {
   "cell_type": "markdown",
   "metadata": {},
   "source": [
    "### rotor speed - power"
   ]
  },
  {
   "cell_type": "code",
   "execution_count": null,
   "metadata": {},
   "outputs": [],
   "source": [
    "g_idx = 0\n",
    "g_data = group_data.get_group(g_idx+1)\n",
    "power = g_data['Power']\n",
    "rotor_speed = g_data['RotorSpeed']\n",
    "\n",
    "plt.figure(figsize=(25,10))\n",
    "ax=plt.subplot(111)\n",
    "ax.plot(rotor_speed, power, '.b', ms=2, label='rotor_speed-power')\n",
    "ax.set_xlabel('RotorSpeed')\n",
    "ax.set_ylabel('Power')\n",
    "plt.legend(loc='upper right')"
   ]
  },
  {
   "cell_type": "markdown",
   "metadata": {},
   "source": [
    "- 很明显，应该是有一个指数的曲线存在，曲线上方的就是异常点"
   ]
  },
  {
   "cell_type": "markdown",
   "metadata": {},
   "source": [
    "## WindNumber - Power - WindSpeed"
   ]
  },
  {
   "cell_type": "code",
   "execution_count": null,
   "metadata": {},
   "outputs": [],
   "source": [
    "sns.set_palette(\"Paired\")\n",
    "sns.set(rc={\"figure.figsize\": (25, 10)})\n",
    "sns.relplot('WindSpeed','Power',hue='WindNumber', data=combined_data,kind='scatter', )"
   ]
  },
  {
   "cell_type": "code",
   "execution_count": null,
   "metadata": {},
   "outputs": [],
   "source": []
  }
 ],
 "metadata": {
  "kernelspec": {
   "display_name": "Python 3",
   "language": "python",
   "name": "python3"
  },
  "language_info": {
   "codemirror_mode": {
    "name": "ipython",
    "version": 3
   },
   "file_extension": ".py",
   "mimetype": "text/x-python",
   "name": "python",
   "nbconvert_exporter": "python",
   "pygments_lexer": "ipython3",
   "version": "3.7.7"
  }
 },
 "nbformat": 4,
 "nbformat_minor": 4
}
