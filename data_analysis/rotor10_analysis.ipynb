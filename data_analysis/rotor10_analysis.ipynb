{
 "metadata": {
  "language_info": {
   "codemirror_mode": {
    "name": "ipython",
    "version": 3
   },
   "file_extension": ".py",
   "mimetype": "text/x-python",
   "name": "python",
   "nbconvert_exporter": "python",
   "pygments_lexer": "ipython3",
   "version": "3.7.7-final"
  },
  "orig_nbformat": 2,
  "kernelspec": {
   "name": "python_defaultSpec_1600701431956",
   "display_name": "Python 3.7.7 64-bit ('pytorch37': conda)"
  }
 },
 "nbformat": 4,
 "nbformat_minor": 2,
 "cells": [
  {
   "cell_type": "code",
   "execution_count": null,
   "metadata": {},
   "outputs": [],
   "source": [
    "import numpy as np\n",
    "import pandas as pd\n",
    "import seaborn as sns\n",
    "import matplotlib.pyplot as plt"
   ]
  },
  {
   "cell_type": "code",
   "execution_count": null,
   "metadata": {},
   "outputs": [],
   "source": [
    "data_path = './data/combined_data.csv'"
   ]
  },
  {
   "cell_type": "markdown",
   "metadata": {},
   "source": [
    "## 读入数据"
   ]
  },
  {
   "cell_type": "code",
   "execution_count": null,
   "metadata": {},
   "outputs": [],
   "source": [
    "raw_data = pd.read_csv(data_path)\n",
    "raw_data.head()"
   ]
  },
  {
   "cell_type": "code",
   "execution_count": null,
   "metadata": {},
   "outputs": [],
   "source": [
    "raw_data['label']=-1"
   ]
  },
  {
   "cell_type": "markdown",
   "metadata": {},
   "source": [
    "### 设置待处理的部分数据\n",
    "\n",
    "**！修改这里切换数据集！**"
   ]
  },
  {
   "cell_type": "code",
   "execution_count": null,
   "metadata": {},
   "outputs": [],
   "source": [
    "current_rotor = 10\n",
    "current_data = raw_data[raw_data['WindNumber']==current_rotor]"
   ]
  },
  {
   "cell_type": "code",
   "execution_count": null,
   "metadata": {},
   "outputs": [],
   "source": [
    "current_data.shape"
   ]
  },
  {
   "cell_type": "markdown",
   "metadata": {},
   "source": [
    "### 获得年月日的特征"
   ]
  },
  {
   "cell_type": "code",
   "execution_count": null,
   "metadata": {},
   "outputs": [],
   "source": [
    "# 获得年月日的特征\n",
    "current_data['Year'] = current_data['Time'].apply(lambda x:int(x.split(' ')[0].split('/')[0]))\n",
    "current_data['Month'] = current_data['Time'].apply(lambda x:int(x.split(' ')[0].split('/')[1]))\n",
    "current_data['Day'] = current_data['Time'].apply(lambda x:int(x.split(' ')[0].split('/')[2]))\n",
    "current_data.head()"
   ]
  },
  {
   "cell_type": "code",
   "execution_count": null,
   "metadata": {},
   "outputs": [],
   "source": [
    "set(current_data['Month'].values)"
   ]
  },
  {
   "cell_type": "markdown",
   "metadata": {},
   "source": [
    "### 查看数据分布"
   ]
  },
  {
   "cell_type": "code",
   "execution_count": null,
   "metadata": {},
   "outputs": [],
   "source": [
    "plt.figure(figsize=(25, 10))\n",
    "g_data_2 = current_data[current_data['label'] == -1]\n",
    "plt.plot(g_data_2['WindSpeed'],\n",
    "            g_data_2['Power'],\n",
    "            '.y',\n",
    "            ms=4,\n",
    "            label='data')\n",
    "plt.legend()\n",
    "plt.xlabel('Wind Speed')\n",
    "plt.ylabel('Power')\n",
    "cur_title = \"{}_origin\".format(current_rotor)\n",
    "plt.title(cur_title)\n",
    "plt.show()"
   ]
  },
  {
   "cell_type": "markdown",
   "metadata": {},
   "source": [
    "### 查看四个季节的数据"
   ]
  },
  {
   "cell_type": "code",
   "execution_count": null,
   "metadata": {},
   "outputs": [],
   "source": [
    "season_data = current_data.groupby('Month')\n",
    "# season_data.groups\n",
    "spring_data = pd.concat([season_data.get_group(1), season_data.get_group(2), season_data.get_group(3)])\n",
    "summer_data = pd.concat([season_data.get_group(4), season_data.get_group(5), season_data.get_group(6)])\n",
    "autumn_data = pd.concat([season_data.get_group(7), season_data.get_group(8), season_data.get_group(9)])\n",
    "winter_data = pd.concat([season_data.get_group(10), season_data.get_group(11), season_data.get_group(12)])"
   ]
  },
  {
   "cell_type": "code",
   "execution_count": null,
   "metadata": {},
   "outputs": [],
   "source": [
    "plt.figure(figsize=(10,8))\n",
    "g_data_2 = spring_data\n",
    "plt.plot(g_data_2['WindSpeed'],\n",
    "            g_data_2['Power'],\n",
    "            '.b',\n",
    "            ms=4,\n",
    "            label='spring data')\n",
    "g_data_2 = summer_data\n",
    "plt.plot(g_data_2['WindSpeed'],\n",
    "            g_data_2['Power'],\n",
    "            '.r',\n",
    "            ms=4,\n",
    "            label='summer data')\n",
    "g_data_2 = autumn_data\n",
    "plt.plot(g_data_2['WindSpeed'],\n",
    "            g_data_2['Power'],\n",
    "            '.y',\n",
    "            ms=4,\n",
    "            label='autumn data')\n",
    "g_data_2 = winter_data\n",
    "plt.plot(g_data_2['WindSpeed'],\n",
    "            g_data_2['Power'],\n",
    "            '.m',\n",
    "            ms=4,\n",
    "            label='winter data')\n",
    "plt.legend()\n",
    "plt.xlabel('Wind Speed')\n",
    "plt.ylabel('Power')\n",
    "cur_title = \"{}_origin\".format(current_rotor)\n",
    "plt.title(cur_title)\n",
    "plt.show()"
   ]
  },
  {
   "cell_type": "markdown",
   "metadata": {},
   "source": [
    "### 查看月份数据"
   ]
  },
  {
   "cell_type": "code",
   "execution_count": null,
   "metadata": {},
   "outputs": [],
   "source": [
    "sns.relplot(x='WindSpeed', y='Power', hue='Month', data=current_data[(current_data['Month']==1)] , palette='muted', size=5, aspect=2)"
   ]
  },
  {
   "cell_type": "code",
   "execution_count": null,
   "metadata": {},
   "outputs": [],
   "source": [
    "sns.relplot(x='WindSpeed', y='Power', hue='Month', data=current_data[(current_data['Month']==10)] , palette='muted', size=5, aspect=2)"
   ]
  },
  {
   "cell_type": "markdown",
   "metadata": {},
   "source": [
    "### 十号风机数据\n",
    "1. 左边曲线\n",
    "    - 12, 1月<=7日，11月>=12日\n",
    "2. 右边曲线\n",
    "    - 2, 3, 4, 5, 6, 7, 8, 9, 10，1月>7日，11月<12日\n"
   ]
  },
  {
   "cell_type": "code",
   "execution_count": null,
   "metadata": {},
   "outputs": [],
   "source": [
    "sns.relplot(x='WindSpeed', y='Power', hue='Month', data=current_data[(current_data['Month']==10) | (current_data['Month']==11) | (current_data['Month']==12)] , palette='muted', size=5, aspect=2)"
   ]
  },
  {
   "cell_type": "code",
   "execution_count": null,
   "metadata": {},
   "outputs": [],
   "source": [
    "line_high_data = pd.concat([season_data.get_group(x) for x in [12]])\n",
    "line_low_data = pd.concat([season_data.get_group(x) for x in [2,3,4,5,6,7,8,9,10,]])\n",
    "line_both_data = pd.concat(season_data.get_group(x) for x in [1,11])"
   ]
  },
  {
   "cell_type": "markdown",
   "metadata": {},
   "source": [
    "- line high data"
   ]
  },
  {
   "cell_type": "code",
   "execution_count": null,
   "metadata": {},
   "outputs": [],
   "source": [
    "plt.figure(figsize=(10, 8))\n",
    "g_data = line_high_data\n",
    "plt.plot(g_data['WindSpeed'],g_data['Power'],'.b',ms=4,label='line high 12')\n",
    "plt.legend()\n",
    "plt.xlabel('Wind Speed')\n",
    "plt.ylabel('Power')\n",
    "cur_title = \"{}_origin\".format(current_rotor)\n",
    "plt.title(cur_title)\n",
    "plt.show()"
   ]
  },
  {
   "cell_type": "markdown",
   "metadata": {},
   "source": [
    "- line-low-data"
   ]
  },
  {
   "cell_type": "code",
   "execution_count": null,
   "metadata": {},
   "outputs": [],
   "source": [
    "plt.figure(figsize=(10, 8))\n",
    "g_data = line_low_data\n",
    "plt.plot(g_data['WindSpeed'],g_data['Power'],'.b',ms=4,label='line low 2,3,4,5,6,7,8,9,10,')\n",
    "plt.legend()\n",
    "plt.xlabel('Wind Speed')\n",
    "plt.ylabel('Power')\n",
    "cur_title = \"{}_origin\".format(current_rotor)\n",
    "plt.title(cur_title)\n",
    "plt.show()"
   ]
  },
  {
   "cell_type": "markdown",
   "metadata": {},
   "source": [
    "- line_both_data"
   ]
  },
  {
   "cell_type": "code",
   "execution_count": null,
   "metadata": {},
   "outputs": [],
   "source": [
    "plt.figure(figsize=(10, 8))\n",
    "g_data = line_both_data\n",
    "plt.plot(g_data['WindSpeed'],g_data['Power'],'.b',ms=4,label='line both 1, 11')\n",
    "plt.legend()\n",
    "plt.xlabel('Wind Speed')\n",
    "plt.ylabel('Power')\n",
    "cur_title = \"{}_origin\".format(current_rotor)\n",
    "plt.title(cur_title)\n",
    "plt.show()"
   ]
  },
  {
   "cell_type": "markdown",
   "metadata": {},
   "source": [
    "- 一月数据\n",
    "    - 左边：1-7\n",
    "    - 右边：8-31"
   ]
  },
  {
   "cell_type": "code",
   "execution_count": null,
   "metadata": {},
   "outputs": [],
   "source": [
    "Mon_data = current_data[current_data['Month']==1]"
   ]
  },
  {
   "cell_type": "code",
   "execution_count": null,
   "metadata": {},
   "outputs": [],
   "source": [
    "sns.relplot('WindSpeed', 'Power', data=Mon_data[(Mon_data['Day']<=7)], hue='Day', palette='muted', size=5, aspect=2)"
   ]
  },
  {
   "cell_type": "code",
   "execution_count": null,
   "metadata": {},
   "outputs": [],
   "source": [
    "sns.relplot('WindSpeed', 'Power', data=Mon_data[(Mon_data['Day']>7) & (Mon_data['Day']<=31)], hue='Day', palette='muted', size=5, aspect=2)"
   ]
  },
  {
   "cell_type": "markdown",
   "metadata": {},
   "source": [
    "- 十一月数据\n",
    "    - 左边:12-31\n",
    "    - 右边:<12"
   ]
  },
  {
   "cell_type": "code",
   "execution_count": null,
   "metadata": {},
   "outputs": [],
   "source": [
    "Nov_data = current_data[current_data['Month']==11]"
   ]
  },
  {
   "cell_type": "code",
   "execution_count": null,
   "metadata": {},
   "outputs": [],
   "source": [
    "sns.relplot('WindSpeed', 'Power', data=Nov_data[(Nov_data['Day']>=12)], hue='Day', palette='muted', size=5, aspect=2)"
   ]
  },
  {
   "cell_type": "code",
   "execution_count": null,
   "metadata": {},
   "outputs": [],
   "source": [
    "sns.relplot('WindSpeed', 'Power', data=Nov_data[(Nov_data['Day']<12)], hue='Day', palette='muted', size=5, aspect=2)"
   ]
  },
  {
   "cell_type": "code",
   "execution_count": null,
   "metadata": {},
   "outputs": [],
   "source": [
    "com_data = pd.concat([Nov_data[(Nov_data['Day']<12)], Mon_data[(Mon_data['Day']>7) & (Mon_data['Day']<=31)]])"
   ]
  },
  {
   "cell_type": "code",
   "execution_count": null,
   "metadata": {},
   "outputs": [],
   "source": [
    "sns.relplot('WindSpeed', 'Power', data=com_data, hue='Day', palette='muted', size=5, aspect=2)"
   ]
  }
 ]
}