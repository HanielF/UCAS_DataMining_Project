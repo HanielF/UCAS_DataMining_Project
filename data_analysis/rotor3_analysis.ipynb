{
 "metadata": {
  "language_info": {
   "codemirror_mode": {
    "name": "ipython",
    "version": 3
   },
   "file_extension": ".py",
   "mimetype": "text/x-python",
   "name": "python",
   "nbconvert_exporter": "python",
   "pygments_lexer": "ipython3",
   "version": "3.7.7-final"
  },
  "orig_nbformat": 2,
  "kernelspec": {
   "name": "python_defaultSpec_1600501151687",
   "display_name": "Python 3.7.7 64-bit ('pytorch37': conda)"
  }
 },
 "nbformat": 4,
 "nbformat_minor": 2,
 "cells": [
  {
   "cell_type": "code",
   "execution_count": null,
   "metadata": {},
   "outputs": [],
   "source": [
    "import numpy as np\n",
    "import pandas as pd\n",
    "import seaborn as sns\n",
    "import matplotlib.pyplot as plt"
   ]
  },
  {
   "cell_type": "code",
   "execution_count": null,
   "metadata": {},
   "outputs": [],
   "source": [
    "data_path = './data/combined_data.csv'"
   ]
  },
  {
   "cell_type": "markdown",
   "metadata": {},
   "source": [
    "## 读入数据"
   ]
  },
  {
   "cell_type": "code",
   "execution_count": null,
   "metadata": {},
   "outputs": [],
   "source": [
    "raw_data = pd.read_csv(data_path)\n",
    "raw_data.head()"
   ]
  },
  {
   "cell_type": "code",
   "execution_count": null,
   "metadata": {},
   "outputs": [],
   "source": [
    "raw_data['label']=-1"
   ]
  },
  {
   "cell_type": "markdown",
   "metadata": {},
   "source": [
    "### 设置待处理的部分数据\n",
    "\n",
    "**！修改这里切换数据集！**"
   ]
  },
  {
   "cell_type": "code",
   "execution_count": null,
   "metadata": {},
   "outputs": [],
   "source": [
    "current_rotor = 3\n",
    "current_data = raw_data[raw_data['WindNumber']==current_rotor]"
   ]
  },
  {
   "cell_type": "code",
   "execution_count": null,
   "metadata": {},
   "outputs": [],
   "source": [
    "current_data.shape"
   ]
  },
  {
   "cell_type": "markdown",
   "metadata": {},
   "source": [
    "### 获得年月日的特征"
   ]
  },
  {
   "cell_type": "code",
   "execution_count": null,
   "metadata": {},
   "outputs": [],
   "source": [
    "# 获得年月日的特征\n",
    "current_data['Year'] = current_data['Time'].apply(lambda x:int(x.split(' ')[0].split('/')[0]))\n",
    "current_data['Month'] = current_data['Time'].apply(lambda x:int(x.split(' ')[0].split('/')[1]))\n",
    "current_data['Day'] = current_data['Time'].apply(lambda x:int(x.split(' ')[0].split('/')[2]))\n",
    "current_data.head()"
   ]
  },
  {
   "cell_type": "code",
   "execution_count": null,
   "metadata": {},
   "outputs": [],
   "source": [
    "set(current_data['Month'].values)"
   ]
  },
  {
   "cell_type": "markdown",
   "metadata": {},
   "source": [
    "### 查看数据分布"
   ]
  },
  {
   "cell_type": "code",
   "execution_count": null,
   "metadata": {},
   "outputs": [],
   "source": [
    "plt.figure(figsize=(25, 10))\n",
    "g_data_2 = current_data[current_data['label'] == -1]\n",
    "plt.plot(g_data_2['WindSpeed'],\n",
    "            g_data_2['Power'],\n",
    "            '.y',\n",
    "            ms=4,\n",
    "            label='data')\n",
    "plt.legend()\n",
    "plt.xlabel('Wind Speed')\n",
    "plt.ylabel('Power')\n",
    "cur_title = \"{}_origin\".format(current_rotor)\n",
    "plt.title(cur_title)\n",
    "plt.show()"
   ]
  },
  {
   "cell_type": "markdown",
   "metadata": {},
   "source": [
    "### 查看四个季节的数据"
   ]
  },
  {
   "cell_type": "code",
   "execution_count": null,
   "metadata": {},
   "outputs": [],
   "source": [
    "season_data = current_data.groupby('Month')\n",
    "# season_data.groups\n",
    "spring_data = pd.concat([season_data.get_group(1), season_data.get_group(2), season_data.get_group(3)])\n",
    "summer_data = pd.concat([season_data.get_group(4), season_data.get_group(5), season_data.get_group(6)])\n",
    "autumn_data = pd.concat([season_data.get_group(7), season_data.get_group(8), season_data.get_group(9)])\n",
    "winter_data = pd.concat([season_data.get_group(10), season_data.get_group(11), season_data.get_group(12)])"
   ]
  },
  {
   "cell_type": "code",
   "execution_count": null,
   "metadata": {},
   "outputs": [],
   "source": [
    "plt.figure(figsize=(10,8))\n",
    "g_data_2 = spring_data\n",
    "plt.plot(g_data_2['WindSpeed'],\n",
    "            g_data_2['Power'],\n",
    "            '.b',\n",
    "            ms=4,\n",
    "            label='spring data')\n",
    "g_data_2 = summer_data\n",
    "plt.plot(g_data_2['WindSpeed'],\n",
    "            g_data_2['Power'],\n",
    "            '.r',\n",
    "            ms=4,\n",
    "            label='summer data')\n",
    "g_data_2 = autumn_data\n",
    "plt.plot(g_data_2['WindSpeed'],\n",
    "            g_data_2['Power'],\n",
    "            '.y',\n",
    "            ms=4,\n",
    "            label='autumn data')\n",
    "g_data_2 = winter_data\n",
    "plt.plot(g_data_2['WindSpeed'],\n",
    "            g_data_2['Power'],\n",
    "            '.m',\n",
    "            ms=4,\n",
    "            label='winter data')\n",
    "plt.legend()\n",
    "plt.xlabel('Wind Speed')\n",
    "plt.ylabel('Power')\n",
    "cur_title = \"{}_origin\".format(current_rotor)\n",
    "plt.title(cur_title)\n",
    "plt.show()"
   ]
  },
  {
   "cell_type": "markdown",
   "metadata": {},
   "source": [
    "### 查看月份数据"
   ]
  },
  {
   "cell_type": "code",
   "execution_count": null,
   "metadata": {},
   "outputs": [],
   "source": [
    "sns.relplot(x='WindSpeed', y='Power', hue='Month', data=current_data[(current_data['Month']==4) | (current_data['Month']==5) | (current_data['Month']==6) | (current_data['Month']==7)] , palette='muted', size=5, aspect=2)"
   ]
  },
  {
   "cell_type": "code",
   "execution_count": null,
   "metadata": {},
   "outputs": [],
   "source": [
    "line_high_data = pd.concat([season_data.get_group(x) for x in [5,6,7]])\n",
    "line_low_data = pd.concat([season_data.get_group(x) for x in [1,2,3,9,11,12]])\n",
    "line_both_data = pd.concat(season_data.get_group(x) for x in [4,8,10])"
   ]
  },
  {
   "cell_type": "markdown",
   "metadata": {},
   "source": [
    "- line high data"
   ]
  },
  {
   "cell_type": "code",
   "execution_count": null,
   "metadata": {},
   "outputs": [],
   "source": [
    "plt.figure(figsize=(10,8))\n",
    "g_data = line_high_data\n",
    "plt.plot(g_data['WindSpeed'],\n",
    "            g_data['Power'],\n",
    "            '.b',\n",
    "            ms=4,\n",
    "            label='line_high_data 5,6,7')\n",
    "plt.legend()\n",
    "plt.xlabel('Wind Speed')\n",
    "plt.ylabel('Power')\n",
    "cur_title = \"{}_origin\".format(current_rotor)\n",
    "plt.title(cur_title)\n",
    "plt.show()"
   ]
  },
  {
   "cell_type": "markdown",
   "metadata": {},
   "source": [
    "- line low data"
   ]
  },
  {
   "cell_type": "code",
   "execution_count": null,
   "metadata": {},
   "outputs": [],
   "source": [
    "plt.figure(figsize=(10,8))\n",
    "g_data = line_low_data\n",
    "plt.plot(g_data['WindSpeed'],\n",
    "            g_data['Power'],\n",
    "            '.r',\n",
    "            ms=4,\n",
    "            label='line_low_data 1,2,3,9,11,12')\n",
    "plt.legend()\n",
    "plt.xlabel('Wind Speed')\n",
    "plt.ylabel('Power')\n",
    "cur_title = \"{}_origin\".format(current_rotor)\n",
    "plt.title(cur_title)\n",
    "plt.show()"
   ]
  },
  {
   "cell_type": "markdown",
   "metadata": {},
   "source": [
    "- line both data"
   ]
  },
  {
   "cell_type": "code",
   "execution_count": null,
   "metadata": {},
   "outputs": [],
   "source": [
    "fig = plt.figure(figsize=(10,20))\n",
    "g_data = season_data.get_group(4)\n",
    "ax1 = fig.add_subplot(3,1,1)\n",
    "ax1.plot(g_data['WindSpeed'],\n",
    "            g_data['Power'],\n",
    "            '.b',\n",
    "            ms=4,\n",
    "            label='line_both_data 4')\n",
    "plt.legend()\n",
    "g_data = season_data.get_group(8)\n",
    "ax2 = fig.add_subplot(3,1,2)\n",
    "ax2.plot(g_data['WindSpeed'],\n",
    "            g_data['Power'],\n",
    "            '.b',\n",
    "            ms=4,\n",
    "            label='line_both_data 8')\n",
    "plt.legend()\n",
    "g_data = season_data.get_group(10)\n",
    "ax3 = fig.add_subplot(3,1,3)\n",
    "ax3.plot(g_data['WindSpeed'],\n",
    "            g_data['Power'],\n",
    "            '.b',\n",
    "            ms=4,\n",
    "            label='line_both_data 10')\n",
    "plt.legend()\n",
    "plt.xlabel('Wind Speed')\n",
    "plt.ylabel('Power')\n",
    "cur_title = \"{}_origin\".format(current_rotor)\n",
    "plt.title(cur_title)\n",
    "plt.show()"
   ]
  },
  {
   "cell_type": "markdown",
   "metadata": {},
   "source": [
    "### 三号风机两条曲线数据\n",
    "\n",
    "1. 第一条到达额定功率2000曲线\n",
    "    - 5,6,7,4月12-31号,8月1-21号,10月29号\\[99:], 30号\\[:50]\n",
    "2. 第二条功率1000左右的\n",
    "    - 1,2,3,9,11,12, 4月1-11号,8月22号-31号,10月1-28号,29号\\[:99], 30号\\[50:]\n",
    "3. 两条都有的\n",
    "    - 4,8,10"
   ]
  },
  {
   "cell_type": "markdown",
   "metadata": {},
   "source": [
    "### 查看四月数据\n",
    "\n",
    "- 700左右\n",
    "    - 1-11号\n",
    "- 2000左右\n",
    "    - 12-31号"
   ]
  },
  {
   "cell_type": "code",
   "execution_count": null,
   "metadata": {},
   "outputs": [],
   "source": [
    "Apr_data = current_data[current_data['Month']==4]"
   ]
  },
  {
   "cell_type": "markdown",
   "metadata": {},
   "source": [
    "- 1-11号"
   ]
  },
  {
   "cell_type": "code",
   "execution_count": null,
   "metadata": {},
   "outputs": [],
   "source": [
    "sns.relplot('WindSpeed', 'Power', data=Apr_data[(Apr_data['Day']<=11)], hue='Day', palette='muted', size=5, aspect=2)"
   ]
  },
  {
   "cell_type": "markdown",
   "metadata": {},
   "source": [
    "- 12-31号"
   ]
  },
  {
   "cell_type": "code",
   "execution_count": null,
   "metadata": {},
   "outputs": [],
   "source": [
    "sns.relplot('WindSpeed', 'Power', data=Apr_data[(Apr_data['Day']>11) & (Apr_data['Day']<=31)], hue='Day', palette='muted', size=5, aspect=2)"
   ]
  },
  {
   "cell_type": "markdown",
   "metadata": {},
   "source": [
    "### 查看8月数据\n",
    "\n",
    "- 1700左右\n",
    "    - 1-21号\n",
    "- 500左右\n",
    "    - 22-31号"
   ]
  },
  {
   "cell_type": "code",
   "execution_count": null,
   "metadata": {},
   "outputs": [],
   "source": [
    "Aug_data = current_data[current_data['Month']==8]"
   ]
  },
  {
   "cell_type": "markdown",
   "metadata": {},
   "source": [
    "- 1-21号数据"
   ]
  },
  {
   "cell_type": "code",
   "execution_count": null,
   "metadata": {},
   "outputs": [],
   "source": [
    "sns.relplot('WindSpeed', 'Power', data=Aug_data[(Aug_data['Day']<=21)], hue='Day', palette='muted', size=5, aspect=2)"
   ]
  },
  {
   "cell_type": "markdown",
   "metadata": {},
   "source": [
    "- 22-31号数据"
   ]
  },
  {
   "cell_type": "code",
   "execution_count": null,
   "metadata": {},
   "outputs": [],
   "source": [
    "sns.relplot('WindSpeed', 'Power', data=Aug_data[(Aug_data['Day']>21)], hue='Day', palette='muted', size=5, aspect=2)"
   ]
  },
  {
   "cell_type": "code",
   "execution_count": null,
   "metadata": {},
   "outputs": [],
   "source": [
    "sns.relplot('WindSpeed', 'Power', data=Aug_data[(Aug_data['Day']>21)], hue='Day', palette='muted', size=5, aspect=2)"
   ]
  },
  {
   "cell_type": "markdown",
   "metadata": {},
   "source": [
    "### 十月数据"
   ]
  },
  {
   "cell_type": "markdown",
   "metadata": {},
   "source": [
    "### 查看10月数据\n",
    "\n",
    "- 600左右\n",
    "    - 1-28号,29号\\[:99], 30号\\[50:]\n",
    "- 高的\n",
    "    - 29号\\[99:], 30号\\[:50]"
   ]
  },
  {
   "cell_type": "code",
   "execution_count": null,
   "metadata": {},
   "outputs": [],
   "source": [
    "Oct_data = current_data[current_data['Month']==10]"
   ]
  },
  {
   "cell_type": "code",
   "execution_count": null,
   "metadata": {},
   "outputs": [],
   "source": [
    "sns.relplot('WindSpeed', 'Power', data=Oct_data[(Oct_data['Day']<=28)], hue='Day', palette='muted', size=5, aspect=2)"
   ]
  },
  {
   "cell_type": "code",
   "execution_count": null,
   "metadata": {},
   "outputs": [],
   "source": [
    "np.sum(Oct_data['Day']==29)"
   ]
  },
  {
   "cell_type": "markdown",
   "metadata": {},
   "source": [
    "### 29号前99个是下面曲线的"
   ]
  },
  {
   "cell_type": "code",
   "execution_count": null,
   "metadata": {},
   "outputs": [],
   "source": [
    "plt.figure(figsize=(6,6))\n",
    "\n",
    "g_data = Oct_data[(Oct_data['Day']==29)]\n",
    "# print(g_data.shape)\n",
    "g_data = g_data[:99]\n",
    "plt.plot(g_data['WindSpeed'],g_data['Power'], '.g', ms=4,label='origin data')\n",
    "plt.ylim((0,2200))\n",
    "plt.legend()"
   ]
  },
  {
   "cell_type": "markdown",
   "metadata": {},
   "source": [
    "### 30号前50个是上面曲线的"
   ]
  },
  {
   "cell_type": "code",
   "execution_count": null,
   "metadata": {},
   "outputs": [],
   "source": [
    "plt.figure(figsize=(6,6))\n",
    "\n",
    "g_data = Oct_data[(Oct_data['Day']==30)]\n",
    "# print(g_data.shape)\n",
    "g_data = g_data[:50]\n",
    "plt.plot(g_data['WindSpeed'],g_data['Power'], '.g', ms=4,label='origin data')\n",
    "plt.ylim((0,2200))\n",
    "plt.xlim((0,25))\n",
    "plt.legend()"
   ]
  },
  {
   "cell_type": "code",
   "execution_count": null,
   "metadata": {},
   "outputs": [],
   "source": []
  }
 ]
}