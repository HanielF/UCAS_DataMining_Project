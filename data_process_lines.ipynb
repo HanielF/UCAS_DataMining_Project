{
 "cells": [
  {
   "cell_type": "code",
   "execution_count": 1,
   "metadata": {},
   "outputs": [],
   "source": [
    "import numpy as np\n",
    "import pandas as pd\n",
    "import seaborn as sns\n",
    "import matplotlib.pyplot as plt\n",
    "from func_helper import *"
   ]
  },
  {
   "cell_type": "markdown",
   "metadata": {},
   "source": [
    "## 读入数据并处理特征"
   ]
  },
  {
   "cell_type": "code",
   "execution_count": 2,
   "metadata": {},
   "outputs": [
    {
     "output_type": "execute_result",
     "data": {
      "text/plain": "   WindNumber            Time  WindSpeed       Power  RotorSpeed  Width  \\\n0           1  2017/11/1 0:20   4.188333   65.750000    5.779167   99.0   \n1           1  2017/11/1 0:30   4.042500  120.700000    8.636500   99.0   \n2           1  2017/11/1 0:40   4.137368  135.157895    8.668421   99.0   \n3           1  2017/11/1 0:50   4.274737  157.315789    8.727895   99.0   \n4           1  2017/11/1 1:00   4.108947  129.894737    8.656842   99.0   \n\n   RatedPower  CutInWindSpeed  CutOutWindSpeed  WheelSpeedMin  WheelSpesdMax  \n0        2000             3.0               25           8.33           16.8  \n1        2000             3.0               25           8.33           16.8  \n2        2000             3.0               25           8.33           16.8  \n3        2000             3.0               25           8.33           16.8  \n4        2000             3.0               25           8.33           16.8  ",
      "text/html": "<div>\n<style scoped>\n    .dataframe tbody tr th:only-of-type {\n        vertical-align: middle;\n    }\n\n    .dataframe tbody tr th {\n        vertical-align: top;\n    }\n\n    .dataframe thead th {\n        text-align: right;\n    }\n</style>\n<table border=\"1\" class=\"dataframe\">\n  <thead>\n    <tr style=\"text-align: right;\">\n      <th></th>\n      <th>WindNumber</th>\n      <th>Time</th>\n      <th>WindSpeed</th>\n      <th>Power</th>\n      <th>RotorSpeed</th>\n      <th>Width</th>\n      <th>RatedPower</th>\n      <th>CutInWindSpeed</th>\n      <th>CutOutWindSpeed</th>\n      <th>WheelSpeedMin</th>\n      <th>WheelSpesdMax</th>\n    </tr>\n  </thead>\n  <tbody>\n    <tr>\n      <th>0</th>\n      <td>1</td>\n      <td>2017/11/1 0:20</td>\n      <td>4.188333</td>\n      <td>65.750000</td>\n      <td>5.779167</td>\n      <td>99.0</td>\n      <td>2000</td>\n      <td>3.0</td>\n      <td>25</td>\n      <td>8.33</td>\n      <td>16.8</td>\n    </tr>\n    <tr>\n      <th>1</th>\n      <td>1</td>\n      <td>2017/11/1 0:30</td>\n      <td>4.042500</td>\n      <td>120.700000</td>\n      <td>8.636500</td>\n      <td>99.0</td>\n      <td>2000</td>\n      <td>3.0</td>\n      <td>25</td>\n      <td>8.33</td>\n      <td>16.8</td>\n    </tr>\n    <tr>\n      <th>2</th>\n      <td>1</td>\n      <td>2017/11/1 0:40</td>\n      <td>4.137368</td>\n      <td>135.157895</td>\n      <td>8.668421</td>\n      <td>99.0</td>\n      <td>2000</td>\n      <td>3.0</td>\n      <td>25</td>\n      <td>8.33</td>\n      <td>16.8</td>\n    </tr>\n    <tr>\n      <th>3</th>\n      <td>1</td>\n      <td>2017/11/1 0:50</td>\n      <td>4.274737</td>\n      <td>157.315789</td>\n      <td>8.727895</td>\n      <td>99.0</td>\n      <td>2000</td>\n      <td>3.0</td>\n      <td>25</td>\n      <td>8.33</td>\n      <td>16.8</td>\n    </tr>\n    <tr>\n      <th>4</th>\n      <td>1</td>\n      <td>2017/11/1 1:00</td>\n      <td>4.108947</td>\n      <td>129.894737</td>\n      <td>8.656842</td>\n      <td>99.0</td>\n      <td>2000</td>\n      <td>3.0</td>\n      <td>25</td>\n      <td>8.33</td>\n      <td>16.8</td>\n    </tr>\n  </tbody>\n</table>\n</div>"
     },
     "metadata": {},
     "execution_count": 2
    }
   ],
   "source": [
    "data_path = './data/combined_data.csv'\n",
    "raw_data = pd.read_csv(data_path)\n",
    "raw_data.head()"
   ]
  },
  {
   "cell_type": "markdown",
   "metadata": {},
   "source": [
    "## 正式开始处理数据"
   ]
  },
  {
   "cell_type": "markdown",
   "metadata": {},
   "source": [
    "### 一号"
   ]
  },
  {
   "cell_type": "code",
   "execution_count": null,
   "metadata": {
    "tags": []
   },
   "outputs": [],
   "source": [
    "current_rotor = 1\n",
    "current_data = raw_data[raw_data['WindNumber']==current_rotor]\n",
    "\n",
    "process_current_data(current_data)"
   ]
  },
  {
   "cell_type": "code",
   "execution_count": null,
   "metadata": {},
   "outputs": [],
   "source": [
    "is_save=True\n",
    "line_num = 1\n",
    "fp = \"./figures/vp_{}_{}.png\".format(current_rotor,line_num)\n",
    "plot_current_data(current_data,rotor_num=current_rotor,save=is_save,file_path=fp)"
   ]
  },
  {
   "cell_type": "markdown",
   "metadata": {},
   "source": [
    "### 二号"
   ]
  },
  {
   "cell_type": "code",
   "execution_count": null,
   "metadata": {
    "tags": []
   },
   "outputs": [],
   "source": [
    "current_rotor = 2\n",
    "current_data = raw_data[raw_data['WindNumber']==current_rotor]\n",
    "# process_current_data(current_data)"
   ]
  },
  {
   "cell_type": "code",
   "execution_count": null,
   "metadata": {
    "tags": []
   },
   "outputs": [],
   "source": [
    "# 去底部异常\n",
    "removed_neg_data, neg_power_idx = remove_neg_power(current_data, current_rotor)\n",
    "current_data.loc[neg_power_idx, 'label']=1\n",
    "print(\"bottom: {}\".format(neg_power_idx.shape))\n",
    "\n",
    "# 去除最下面的线\n",
    "low_idx = current_data[((current_data['Month']==1) | (current_data['Month']==2) | (current_data['Month']==12)) & (current_data['WindSpeed']>9)].index\n",
    "current_data.loc[low_idx, 'label']=1\n",
    "print(\"low line: {}\".format(low_idx.shape))\n",
    "\n",
    "# 去中部异常\n",
    "removed_mid_data, mid_anomaly_idx = remove_mid_anomaly(current_data, max_time=9, max_diff=8, power_step=20)\n",
    "current_data.loc[mid_anomaly_idx, 'label']=1\n",
    "print(\"mid: {}\".format(mid_anomaly_idx.shape))\n",
    "\n",
    "# 横向四分法\n",
    "horizonal_data, horizonal_anomaly_idx = horizonal_process(current_data,low_coef=2.5,up_coef=2.8)\n",
    "current_data.loc[horizonal_anomaly_idx, 'label']=1\n",
    "print(\"horizonal: {}\".format(horizonal_anomaly_idx.shape))\n",
    "\n",
    "# # 纵向四分法\n",
    "vertical_data, vertical_anomaly_idx = vertical_process(current_data[current_data['WindSpeed']>8])\n",
    "current_data.loc[vertical_anomaly_idx, 'label']=1\n",
    "print(\"vertical: {}\".format(vertical_anomaly_idx.shape))\n",
    "\n",
    "# 横向四分法\n",
    "horizonal_data, horizonal_anomaly_idx = horizonal_process(current_data,low_coef=2,up_coef=1)\n",
    "current_data.loc[horizonal_anomaly_idx, 'label']=1\n",
    "print(\"horizonal: {}\".format(horizonal_anomaly_idx.shape))\n"
   ]
  },
  {
   "cell_type": "code",
   "execution_count": null,
   "metadata": {},
   "outputs": [],
   "source": [
    "is_save=True\n",
    "line_num = 1\n",
    "fp = './figures/vp_{}_{}.png'.format(current_rotor,line_num)\n",
    "plot_current_data(current_data,rotor_num=current_rotor,save=is_save,file_path=fp)"
   ]
  },
  {
   "cell_type": "code",
   "execution_count": null,
   "metadata": {
    "tags": []
   },
   "outputs": [],
   "source": [
    "# 更新到raw_data\n",
    "current_anomaly_idx = current_data[current_data['label']==1].index\n",
    "print(\"sum of current anomaly data: {}\".format(current_anomaly_idx.shape))\n",
    "\n",
    "raw_data.loc[current_anomaly_idx, 'label']=1\n",
    "print(\"sum of raw data anomaly data: {}\".format(np.sum(raw_data['label']==1)))"
   ]
  },
  {
   "cell_type": "markdown",
   "metadata": {},
   "source": [
    "### 三号\n",
    "\n",
    "- **三号风机两条曲线数据**\n",
    "\n",
    "1. 第一条到达额定功率2000曲线\n",
    "    - 5,6,7月，4月12-31号，8月1-21号，10月29号\\[99:], 30号\\[:50]\n",
    "2. 第二条功率1000左右的\n",
    "    - 1,2,3,9,11,12, 4月1-11号，8月22-31号，10月1-28号,29号\\[:99], 30号\\[50:]"
   ]
  },
  {
   "cell_type": "markdown",
   "metadata": {},
   "source": [
    "#### 3.1 三号第一条线"
   ]
  },
  {
   "cell_type": "code",
   "execution_count": null,
   "metadata": {
    "tags": []
   },
   "outputs": [],
   "source": [
    "current_rotor = 3\n",
    "# 处理第一条线 5,6,7月，4月18-31号，8月1-21号\n",
    "current_data = raw_data[raw_data['WindNumber']==current_rotor]\n",
    "\n",
    "oct29_data = current_data[((current_data['Month']==10) & (current_data['Day']==29))][99:]\n",
    "oct30_data = current_data[((current_data['Month']==10) & (current_data['Day']==30))][:50]\n",
    "\n",
    "current_data = current_data[(current_data['Month']==5) | (current_data['Month']==6) | (current_data['Month']==7) | ( (current_data['Month']==4) & (current_data['Day']>=12) ) | ( (current_data['Month']==8) & (current_data['Day']<=21) )]\n",
    "current_data = pd.concat([current_data, oct29_data, oct30_data])\n",
    "\n",
    "# process_current_data(current_data)"
   ]
  },
  {
   "cell_type": "code",
   "execution_count": null,
   "metadata": {
    "tags": []
   },
   "outputs": [],
   "source": [
    "# 去底部异常\n",
    "removed_neg_data, neg_power_idx = remove_neg_power(current_data, current_rotor)\n",
    "current_data.loc[neg_power_idx, 'label']=1\n",
    "print(\"bottom: {}\".format(neg_power_idx.shape))\n",
    "# 应用横部四分法\n",
    "horizonal_data, horizonal_anomaly_idx = horizonal_process(current_data,low_coef=1.5, up_coef=1.5)\n",
    "current_data.loc[horizonal_anomaly_idx, 'label']=1\n",
    "print(\"horizonal: {}\".format(horizonal_anomaly_idx.shape))\n",
    "\n",
    "\n",
    "vertical_data, vertical_anomaly_idx = vertical_process(current_data, low_coef=2, up_coef=2)\n",
    "current_data.loc[vertical_anomaly_idx, 'label']=1\n",
    "print(\"vertical: {}\".format(vertical_anomaly_idx.shape))"
   ]
  },
  {
   "cell_type": "code",
   "execution_count": null,
   "metadata": {},
   "outputs": [],
   "source": [
    "is_save=True\n",
    "line_num = 1\n",
    "fp = './figures/vp_{}_{}.png'.format(current_rotor,line_num)\n",
    "plot_current_data(current_data,rotor_num=current_rotor,save=is_save,file_path=fp)"
   ]
  },
  {
   "cell_type": "code",
   "execution_count": null,
   "metadata": {
    "tags": []
   },
   "outputs": [],
   "source": [
    "# 更新到raw_data\n",
    "current_anomaly_idx = current_data[current_data['label']==1].index\n",
    "print(\"sum of current anomaly data: {}\".format(current_anomaly_idx.shape))\n",
    "\n",
    "raw_data.loc[current_anomaly_idx, 'label']=1\n",
    "print(\"sum of raw data anomaly data: {}\".format(np.sum(raw_data['label']==1)))"
   ]
  },
  {
   "cell_type": "markdown",
   "metadata": {},
   "source": [
    "#### 3.2 三号第二条线"
   ]
  },
  {
   "cell_type": "code",
   "execution_count": null,
   "metadata": {
    "tags": []
   },
   "outputs": [],
   "source": [
    "current_rotor = 3\n",
    "# 处理第二条线 1,2,3,9,11,12, 4月1-11号，8月22-31号，10月1-28号,29号[:99], 30号[50:]\n",
    "current_data = raw_data[raw_data['WindNumber']==current_rotor]\n",
    "\n",
    "oct29_data = current_data[((current_data['Month']==10) & (current_data['Day']==29))][:99]\n",
    "oct30_data = current_data[((current_data['Month']==10) & (current_data['Day']==30))][50:]\n",
    "\n",
    "current_data = current_data[(current_data['Month']==1) | (current_data['Month']==2) | (current_data['Month']==3) | (current_data['Month']==9) | (current_data['Month']==11) | (current_data['Month']==12) | ( (current_data['Month']==4) & (current_data['Day']<12) ) | ( (current_data['Month']==8) & (current_data['Day']>21) ) | ( (current_data['Month']==10) & (current_data['Day']<29) )]\n",
    "current_data = pd.concat([current_data, oct29_data, oct30_data])\n",
    "\n",
    "# process_current_data(current_data)"
   ]
  },
  {
   "cell_type": "code",
   "execution_count": null,
   "metadata": {
    "tags": []
   },
   "outputs": [],
   "source": [
    "# # 去底部异常\n",
    "# removed_neg_data, neg_power_idx = remove_neg_power(current_data, current_rotor)\n",
    "# current_data.loc[neg_power_idx, 'label']=1\n",
    "# print(\"bottom: {}\".format(neg_power_idx.shape))\n",
    "# # 应用横部四分法\n",
    "# horizonal_data, horizonal_anomaly_idx = horizonal_process(current_data,low_coef=1.7, up_coef=1.9)\n",
    "# current_data.loc[horizonal_anomaly_idx, 'label']=1\n",
    "# print(\"horizonal: {}\".format(horizonal_anomaly_idx.shape))"
   ]
  },
  {
   "cell_type": "code",
   "execution_count": null,
   "metadata": {},
   "outputs": [],
   "source": [
    "current_data['label']=1"
   ]
  },
  {
   "cell_type": "code",
   "execution_count": null,
   "metadata": {},
   "outputs": [],
   "source": [
    "is_save=True\n",
    "line_num = 2\n",
    "fp = './figures/vp_{}_{}.png'.format(current_rotor,line_num)\n",
    "plot_current_data(current_data,rotor_num=current_rotor,save=is_save,file_path=fp)"
   ]
  },
  {
   "cell_type": "code",
   "execution_count": null,
   "metadata": {
    "tags": []
   },
   "outputs": [],
   "source": [
    "# 全部当作异常点\n",
    "current_anomaly_idx = current_data.index\n",
    "print(\"sum of current anomaly data: {}\".format(current_anomaly_idx.shape))\n",
    "\n",
    "raw_data.loc[current_anomaly_idx, 'label']=1\n",
    "print(\"sum of raw data anomaly data: {}\".format(np.sum(raw_data['label']==1)))"
   ]
  },
  {
   "cell_type": "markdown",
   "metadata": {},
   "source": [
    "### 四号"
   ]
  },
  {
   "cell_type": "code",
   "execution_count": null,
   "metadata": {
    "tags": []
   },
   "outputs": [],
   "source": [
    "current_rotor = 4\n",
    "current_data = raw_data[raw_data['WindNumber']==current_rotor]\n",
    "# process_current_data(current_data)"
   ]
  },
  {
   "cell_type": "code",
   "execution_count": null,
   "metadata": {
    "tags": []
   },
   "outputs": [],
   "source": [
    "# 去底部异常\n",
    "removed_neg_data, neg_power_idx = remove_neg_power(current_data, current_rotor)\n",
    "current_data.loc[neg_power_idx, 'label']=1\n",
    "print(\"bottom: {}\".format(neg_power_idx.shape))\n",
    "\n",
    "# 横向四分法\n",
    "horizonal_data, horizonal_anomaly_idx = horizonal_process(current_data, low_coef=4, up_coef=3)\n",
    "current_data.loc[horizonal_anomaly_idx, 'label']=1\n",
    "print(\"horizonal: {}\".format(horizonal_anomaly_idx.shape))\n",
    "\n",
    "# 纵向四分法\n",
    "vertical_data, vertical_anomaly_idx = vertical_process(current_data, low_coef=2, up_coef=2)\n",
    "current_data.loc[vertical_anomaly_idx, 'label']=1\n",
    "print(\"vertical: {}\".format(vertical_anomaly_idx.shape))"
   ]
  },
  {
   "cell_type": "code",
   "execution_count": null,
   "metadata": {},
   "outputs": [],
   "source": [
    "is_save=True\n",
    "line_num = 1\n",
    "fp = './figures/vp_{}_{}.png'.format(current_rotor,line_num)\n",
    "plot_current_data(current_data,rotor_num=current_rotor,save=is_save,file_path=fp)"
   ]
  },
  {
   "cell_type": "code",
   "execution_count": null,
   "metadata": {
    "tags": []
   },
   "outputs": [],
   "source": [
    "# 更新到raw_data\n",
    "current_anomaly_idx = current_data[current_data['label']==1].index\n",
    "print(\"sum of current anomaly data: {}\".format(current_anomaly_idx.shape))\n",
    "\n",
    "raw_data.loc[current_anomaly_idx, 'label']=1\n",
    "print(\"sum of raw data anomaly data: {}\".format(np.sum(raw_data['label']==1)))"
   ]
  },
  {
   "cell_type": "markdown",
   "metadata": {},
   "source": [
    "### 五号"
   ]
  },
  {
   "cell_type": "code",
   "execution_count": null,
   "metadata": {
    "tags": []
   },
   "outputs": [],
   "source": [
    "current_rotor = 5\n",
    "current_data = raw_data[raw_data['WindNumber']==current_rotor]\n",
    "# process_current_data(current_data)"
   ]
  },
  {
   "cell_type": "code",
   "execution_count": null,
   "metadata": {
    "tags": []
   },
   "outputs": [],
   "source": [
    "# 去底部异常\n",
    "removed_neg_data, neg_power_idx = remove_neg_power(current_data, current_rotor)\n",
    "current_data.loc[neg_power_idx, 'label']=1\n",
    "print(\"bottom: {}\".format(neg_power_idx.shape))\n",
    "\n",
    "# 去中部异常\n",
    "removed_mid_data, mid_anomaly_idx = remove_mid_anomaly(current_data)\n",
    "current_data.loc[mid_anomaly_idx, 'label']=1\n",
    "print(\"mid: {}\".format(mid_anomaly_idx.shape))\n",
    "\n",
    "# 横向四分法\n",
    "horizonal_data, horizonal_anomaly_idx = horizonal_process(current_data, low_coef=5, up_coef=4)\n",
    "current_data.loc[horizonal_anomaly_idx, 'label']=1\n",
    "print(\"horizonal: {}\".format(horizonal_anomaly_idx.shape))\n"
   ]
  },
  {
   "cell_type": "code",
   "execution_count": null,
   "metadata": {
    "tags": []
   },
   "outputs": [],
   "source": [
    "# 纵向四分法\n",
    "vertical_data, vertical_anomaly_idx = vertical_process(current_data, low_coef=1.5, up_coef=3)\n",
    "current_data.loc[vertical_anomaly_idx, 'label']=1\n",
    "print(\"vertical: {}\".format(vertical_anomaly_idx.shape))"
   ]
  },
  {
   "cell_type": "code",
   "execution_count": null,
   "metadata": {},
   "outputs": [],
   "source": [
    "is_save=True\n",
    "line_num = 1\n",
    "fp = './figures/vp_{}_{}.png'.format(current_rotor,line_num)\n",
    "plot_current_data(current_data,rotor_num=current_rotor,save=is_save,file_path=fp)"
   ]
  },
  {
   "cell_type": "code",
   "execution_count": null,
   "metadata": {
    "tags": []
   },
   "outputs": [],
   "source": [
    "# 更新到raw_data\n",
    "current_anomaly_idx = current_data[current_data['label']==1].index\n",
    "print(\"sum of current anomaly data: {}\".format(current_anomaly_idx.shape))\n",
    "\n",
    "raw_data.loc[current_anomaly_idx, 'label']=1\n",
    "print(\"sum of raw data anomaly data: {}\".format(np.sum(raw_data['label']==1)))"
   ]
  },
  {
   "cell_type": "markdown",
   "metadata": {},
   "source": [
    "### 六号\n",
    "\n",
    "1. 第一条到达额定功率2000曲线\n",
    "    - 9，10月\n",
    "2. 从下往上第二条功率1000左右的\n",
    "    - 5月18-31号，6，7，8月\n",
    "3. 最下面功率800左右的\n",
    "    - 1，2，3，4，11，12月，5月1-17号"
   ]
  },
  {
   "cell_type": "code",
   "execution_count": null,
   "metadata": {
    "tags": []
   },
   "outputs": [],
   "source": [
    "current_rotor = 6\n",
    "# 处理第一条线 9，10月\n",
    "current_data = raw_data[raw_data['WindNumber']==current_rotor]\n",
    "current_data = current_data[(current_data['Month']==9) | (current_data['Month']==10)]\n",
    "# process_current_data(current_data)"
   ]
  },
  {
   "cell_type": "markdown",
   "metadata": {},
   "source": [
    "#### 6.1 六号第一条线"
   ]
  },
  {
   "cell_type": "code",
   "execution_count": null,
   "metadata": {
    "tags": []
   },
   "outputs": [],
   "source": [
    "vertical_data, vertical_anomaly_idx = vertical_process(current_data)\n",
    "current_data.loc[vertical_anomaly_idx, 'label']=1\n",
    "print(\"vertical: {}\".format(vertical_anomaly_idx.shape))"
   ]
  },
  {
   "cell_type": "code",
   "execution_count": null,
   "metadata": {},
   "outputs": [],
   "source": [
    "is_save=True\n",
    "line_num = 1\n",
    "fp = './figures/vp_{}_{}.png'.format(current_rotor,line_num)\n",
    "plot_current_data(current_data,rotor_num=current_rotor,save=is_save,file_path=fp)"
   ]
  },
  {
   "cell_type": "code",
   "execution_count": null,
   "metadata": {
    "tags": []
   },
   "outputs": [],
   "source": [
    "# 更新到raw_data\n",
    "current_anomaly_idx = current_data[current_data['label']==1].index\n",
    "print(\"sum of current anomaly data: {}\".format(current_anomaly_idx.shape))\n",
    "\n",
    "raw_data.loc[current_anomaly_idx, 'label']=1\n",
    "print(\"sum of raw data anomaly data: {}\".format(np.sum(raw_data['label']==1)))"
   ]
  },
  {
   "cell_type": "markdown",
   "metadata": {},
   "source": [
    "#### 6.2 六号第二条线"
   ]
  },
  {
   "cell_type": "code",
   "execution_count": null,
   "metadata": {
    "tags": []
   },
   "outputs": [],
   "source": [
    "current_rotor = 6\n",
    "# 处理第二条线 5月18-31号，6，7，8月\n",
    "current_data = raw_data[raw_data['WindNumber']==current_rotor]\n",
    "current_data = current_data[(current_data['Month']==6) | (current_data['Month']==7) | (current_data['Month']==8) | ( (current_data['Month']==5) & (current_data['Day']>=18) ) ]\n",
    "# process_current_data(current_data)"
   ]
  },
  {
   "cell_type": "code",
   "execution_count": null,
   "metadata": {
    "tags": []
   },
   "outputs": [],
   "source": [
    "# # 去底部异常\n",
    "# removed_neg_data, neg_power_idx = remove_neg_power(current_data, current_rotor)\n",
    "# current_data.loc[neg_power_idx, 'label']=1\n",
    "# print(\"bottom: {}\".format(neg_power_idx.shape))\n",
    "\n",
    "# # 横向四分法\n",
    "# horizonal_data, horizonal_anomaly_idx = horizonal_process(current_data,low_coef=2, up_coef=2.5)\n",
    "# current_data.loc[horizonal_anomaly_idx, 'label']=1\n",
    "# print(\"horizonal: {}\".format(horizonal_anomaly_idx.shape))"
   ]
  },
  {
   "cell_type": "code",
   "execution_count": null,
   "metadata": {},
   "outputs": [],
   "source": [
    "current_data['label']=1"
   ]
  },
  {
   "cell_type": "code",
   "execution_count": null,
   "metadata": {},
   "outputs": [],
   "source": [
    "is_save=True\n",
    "line_num = 2\n",
    "fp = './figures/vp_{}_{}.png'.format(current_rotor,line_num)\n",
    "plot_current_data(current_data,rotor_num=current_rotor,save=is_save,file_path=fp)"
   ]
  },
  {
   "cell_type": "code",
   "execution_count": null,
   "metadata": {
    "tags": []
   },
   "outputs": [],
   "source": [
    "# 全部当作异常\n",
    "current_anomaly_idx = current_data[current_data['label']==1].index\n",
    "print(\"sum of current anomaly data: {}\".format(current_anomaly_idx.shape))\n",
    "\n",
    "raw_data.loc[current_anomaly_idx, 'label']=1\n",
    "print(\"sum of raw data anomaly data: {}\".format(np.sum(raw_data['label']==1)))"
   ]
  },
  {
   "cell_type": "markdown",
   "metadata": {},
   "source": [
    "#### 6.3 六号第三条曲线"
   ]
  },
  {
   "cell_type": "code",
   "execution_count": null,
   "metadata": {
    "tags": []
   },
   "outputs": [],
   "source": [
    "current_rotor = 6\n",
    "# 处理第三条线 1，2，3，4，11，12月，5月1-17号\n",
    "current_data = raw_data[raw_data['WindNumber']==current_rotor]\n",
    "current_data = current_data[(current_data['Month']==1) | (current_data['Month']==2) | (current_data['Month']==3)  | (current_data['Month']==4) | (current_data['Month']==11) | (current_data['Month']==12) | ( (current_data['Month']==5) & (current_data['Day']<18) ) ]\n",
    "# process_current_data(current_data)"
   ]
  },
  {
   "cell_type": "code",
   "execution_count": null,
   "metadata": {
    "tags": []
   },
   "outputs": [],
   "source": [
    "# # 去底部异常\n",
    "# removed_neg_data, neg_power_idx = remove_neg_power(current_data, current_rotor)\n",
    "# current_data.loc[neg_power_idx, 'label']=1\n",
    "# print(\"bottom: {}\".format(neg_power_idx.shape))\n",
    "\n",
    "# # 去中部异常\n",
    "# removed_mid_data, mid_anomaly_idx = remove_mid_anomaly(current_data)\n",
    "# current_data.loc[mid_anomaly_idx, 'label']=1\n",
    "# print(\"mid: {}\".format(mid_anomaly_idx.shape))\n",
    "\n",
    "# # 横向四分法\n",
    "# horizonal_data, horizonal_anomaly_idx = horizonal_process(current_data, low_coef=2.5, up_coef=3.5)\n",
    "# current_data.loc[horizonal_anomaly_idx, 'label']=1\n",
    "# print(\"horizonal: {}\".format(horizonal_anomaly_idx.shape))\n",
    "\n",
    "# # 纵向四分法\n",
    "# vertical_data, vertical_anomaly_idx = vertical_process(current_data, low_coef=1.5, up_coef=1.5)\n",
    "# current_data.loc[vertical_anomaly_idx, 'label']=1\n",
    "# print(\"vertical: {}\".format(vertical_anomaly_idx.shape))"
   ]
  },
  {
   "cell_type": "code",
   "execution_count": null,
   "metadata": {},
   "outputs": [],
   "source": [
    "current_data['label']=1"
   ]
  },
  {
   "cell_type": "code",
   "execution_count": null,
   "metadata": {},
   "outputs": [],
   "source": [
    "is_save=True\n",
    "line_num = 3\n",
    "fp = './figures/vp_{}_{}.png'.format(current_rotor,line_num)\n",
    "plot_current_data(current_data,rotor_num=current_rotor,save=is_save,file_path=fp)"
   ]
  },
  {
   "cell_type": "code",
   "execution_count": null,
   "metadata": {
    "tags": []
   },
   "outputs": [],
   "source": [
    "# 更新到raw_data\n",
    "current_anomaly_idx = current_data[current_data['label']==1].index\n",
    "print(\"sum of current anomaly data: {}\".format(current_anomaly_idx.shape))\n",
    "\n",
    "raw_data.loc[current_anomaly_idx, 'label']=1\n",
    "print(\"sum of raw data anomaly data: {}\".format(np.sum(raw_data['label']==1)))"
   ]
  },
  {
   "cell_type": "markdown",
   "metadata": {},
   "source": [
    "### 七号\n",
    "\n",
    "1. 左边曲线\n",
    "    - 9月10-17号\n",
    "2. 右边曲线\n",
    "    - 除了9月，加上0月1-9号，>=18号"
   ]
  },
  {
   "cell_type": "markdown",
   "metadata": {},
   "source": [
    "#### 7.1 七号第一条"
   ]
  },
  {
   "cell_type": "code",
   "execution_count": null,
   "metadata": {
    "tags": []
   },
   "outputs": [],
   "source": [
    "current_rotor = 7\n",
    "# 处理左边，9月10-17\n",
    "current_data = raw_data[raw_data['WindNumber']==current_rotor]\n",
    "current_data = current_data[( (current_data['Month']==9) & (current_data['Day']<=17) & (current_data['Day']>=10))]\n",
    "# process_current_data(current_data)"
   ]
  },
  {
   "cell_type": "code",
   "execution_count": null,
   "metadata": {
    "tags": []
   },
   "outputs": [],
   "source": [
    "# 去底部异常\n",
    "# removed_neg_data, neg_power_idx = remove_neg_power(current_data, current_rotor)\n",
    "# current_data.loc[neg_power_idx, 'label']=1\n",
    "# print(\"bottom: {}\".format(neg_power_idx.shape))\n",
    "\n",
    "# # 纵向四分法\n",
    "# vertical_data, vertical_anomaly_idx = vertical_process(current_data, low_coef=1.5, up_coef=1.5)\n",
    "# current_data.loc[vertical_anomaly_idx, 'label']=1\n",
    "# print(\"vertical: {}\".format(vertical_anomaly_idx.shape))\n",
    "\n",
    "# 全部当作异常\n",
    "current_data['label']=1"
   ]
  },
  {
   "cell_type": "markdown",
   "metadata": {},
   "source": [
    "#### 如果加上去掉功率异常的, 会导致下面去掉一条线, 是因为在切入风速以内,有power"
   ]
  },
  {
   "cell_type": "code",
   "execution_count": null,
   "metadata": {},
   "outputs": [],
   "source": [
    "is_save=True\n",
    "line_num = 1\n",
    "fp = './figures/vp_{}_{}.png'.format(current_rotor,line_num)\n",
    "plot_current_data(current_data,rotor_num=current_rotor,save=is_save,file_path=fp)"
   ]
  },
  {
   "cell_type": "code",
   "execution_count": null,
   "metadata": {
    "tags": []
   },
   "outputs": [],
   "source": [
    "# 更新到raw_data\n",
    "current_anomaly_idx = current_data[current_data['label']==1].index\n",
    "print(\"sum of current anomaly data: {}\".format(current_anomaly_idx.shape))\n",
    "\n",
    "raw_data.loc[current_anomaly_idx, 'label']=1\n",
    "print(\"sum of raw data anomaly data: {}\".format(np.sum(raw_data['label']==1)))"
   ]
  },
  {
   "cell_type": "markdown",
   "metadata": {},
   "source": [
    "#### 7.2 七号第二条"
   ]
  },
  {
   "cell_type": "code",
   "execution_count": null,
   "metadata": {
    "tags": []
   },
   "outputs": [],
   "source": [
    "current_rotor = 7\n",
    "# 处理右边，除了9月，加上9月1-9号，>=18号\n",
    "current_data = raw_data[raw_data['WindNumber']==current_rotor]\n",
    "\n",
    "sep_data = current_data[( (current_data['Month']==9) & (current_data['Day']>=18) ) | ((current_data['Month']==9) & (current_data['Day']<10))]\n",
    "\n",
    "current_data = current_data[( (current_data['Month']==1) | (current_data['Month']==2) | (current_data['Month']==3) | (current_data['Month']==4) | (current_data['Month']==5) | (current_data['Month']==6) | (current_data['Month']==7) | (current_data['Month']==8) | (current_data['Month']==10) | (current_data['Month']==11) | (current_data['Month']==12))]\n",
    "current_data = pd.concat([current_data, sep_data])\n",
    "\n",
    "# process_current_data(current_data)"
   ]
  },
  {
   "cell_type": "code",
   "execution_count": null,
   "metadata": {
    "tags": []
   },
   "outputs": [],
   "source": [
    "# 去底部异常\n",
    "removed_neg_data, neg_power_idx = remove_neg_power(current_data, current_rotor)\n",
    "current_data.loc[neg_power_idx, 'label']=1\n",
    "print(\"bottom: {}\".format(neg_power_idx.shape))\n",
    "\n",
    "# 去中部异常\n",
    "removed_mid_data, mid_anomaly_idx = remove_mid_anomaly(current_data)\n",
    "current_data.loc[mid_anomaly_idx, 'label']=1\n",
    "print(\"mid: {}\".format(mid_anomaly_idx.shape))\n",
    "\n",
    "# 横向四分法\n",
    "horizonal_data, horizonal_anomaly_idx = horizonal_process(current_data, low_coef=1.5, up_coef=1.7)\n",
    "current_data.loc[horizonal_anomaly_idx, 'label']=1\n",
    "print(\"horizonal: {}\".format(horizonal_anomaly_idx.shape))\n",
    "\n",
    "# 纵向四分法\n",
    "vertical_data, vertical_anomaly_idx = vertical_process(current_data)\n",
    "current_data.loc[vertical_anomaly_idx, 'label']=1\n",
    "print(\"vertical: {}\".format(vertical_anomaly_idx.shape))"
   ]
  },
  {
   "cell_type": "code",
   "execution_count": null,
   "metadata": {},
   "outputs": [],
   "source": [
    "is_save=True\n",
    "line_num = 2\n",
    "fp = './figures/vp_{}_{}.png'.format(current_rotor,line_num)\n",
    "plot_current_data(current_data,rotor_num=current_rotor,save=is_save,file_path=fp)"
   ]
  },
  {
   "cell_type": "code",
   "execution_count": null,
   "metadata": {
    "tags": []
   },
   "outputs": [],
   "source": [
    "# 更新到raw_data\n",
    "current_anomaly_idx = current_data[current_data['label']==1].index\n",
    "print(\"sum of current anomaly data: {}\".format(current_anomaly_idx.shape))\n",
    "\n",
    "raw_data.loc[current_anomaly_idx, 'label']=1\n",
    "print(\"sum of raw data anomaly data: {}\".format(np.sum(raw_data['label']==1)))"
   ]
  },
  {
   "cell_type": "markdown",
   "metadata": {},
   "source": [
    "### 八号"
   ]
  },
  {
   "cell_type": "code",
   "execution_count": null,
   "metadata": {
    "tags": []
   },
   "outputs": [],
   "source": [
    "current_rotor = 8\n",
    "current_data = raw_data[raw_data['WindNumber']==current_rotor]\n",
    "# process_current_data(current_data)"
   ]
  },
  {
   "cell_type": "code",
   "execution_count": null,
   "metadata": {
    "tags": []
   },
   "outputs": [],
   "source": [
    "# 去底部异常\n",
    "removed_neg_data, neg_power_idx = remove_neg_power(current_data, current_rotor)\n",
    "current_data.loc[neg_power_idx, 'label']=1\n",
    "print(\"bottom: {}\".format(neg_power_idx.shape))\n",
    "\n",
    "# 去中部异常\n",
    "removed_mid_data, mid_anomaly_idx = remove_mid_anomaly(current_data,max_diff=2,max_time=6)\n",
    "current_data.loc[mid_anomaly_idx, 'label']=1\n",
    "print(\"mid: {}\".format(mid_anomaly_idx.shape))\n",
    "\n",
    "# 横向四分法\n",
    "horizonal_data, horizonal_anomaly_idx = horizonal_process(current_data, low_coef=1.5, up_coef=2.2)\n",
    "current_data.loc[horizonal_anomaly_idx, 'label']=1\n",
    "print(\"horizonal: {}\".format(horizonal_anomaly_idx.shape))\n",
    "\n",
    "# 纵向四分法\n",
    "vertical_data, vertical_anomaly_idx = vertical_process(current_data, up_coef=2.2)\n",
    "current_data.loc[vertical_anomaly_idx, 'label']=1\n",
    "print(\"vertical: {}\".format(vertical_anomaly_idx.shape))"
   ]
  },
  {
   "cell_type": "code",
   "execution_count": null,
   "metadata": {},
   "outputs": [],
   "source": [
    "is_save=True\n",
    "line_num = 1\n",
    "fp = './figures/vp_{}_{}.png'.format(current_rotor,line_num)\n",
    "plot_current_data(current_data,rotor_num=current_rotor,save=is_save,file_path=fp)"
   ]
  },
  {
   "cell_type": "code",
   "execution_count": null,
   "metadata": {
    "tags": []
   },
   "outputs": [],
   "source": [
    "# 更新到raw_data\n",
    "current_anomaly_idx = current_data[current_data['label']==1].index\n",
    "print(\"sum of current anomaly data: {}\".format(current_anomaly_idx.shape))\n",
    "\n",
    "raw_data.loc[current_anomaly_idx, 'label']=1\n",
    "print(\"sum of raw data anomaly data: {}\".format(np.sum(raw_data['label']==1)))"
   ]
  },
  {
   "cell_type": "markdown",
   "metadata": {},
   "source": [
    "### 九号\n",
    "\n",
    "1. 上边曲线\n",
    "    - 9，10月，8月>26号\n",
    "2. 下边曲线\n",
    "    - 除了9月，10月的月份，其中八月：1-26号"
   ]
  },
  {
   "cell_type": "markdown",
   "metadata": {},
   "source": [
    "#### 9.1 九号第一条"
   ]
  },
  {
   "cell_type": "code",
   "execution_count": null,
   "metadata": {
    "tags": []
   },
   "outputs": [],
   "source": [
    "current_rotor = 9\n",
    "# 处理左边，9月，10月，8月>26号\n",
    "current_data = raw_data[raw_data['WindNumber']==current_rotor]\n",
    "current_data = current_data[( (current_data['Month']==9) | (current_data['Month']==10) | ((current_data['Month']==8) & (current_data['Day']>26)))]\n",
    "# process_current_data(current_data)"
   ]
  },
  {
   "cell_type": "code",
   "execution_count": null,
   "metadata": {
    "tags": []
   },
   "outputs": [],
   "source": [
    "# 去底部异常\n",
    "removed_neg_data, neg_power_idx = remove_neg_power(current_data, current_rotor)\n",
    "current_data.loc[neg_power_idx, 'label']=1\n",
    "print(\"bottom: {}\".format(neg_power_idx.shape))\n",
    "\n",
    "# 去中部异常\n",
    "removed_mid_data, mid_anomaly_idx = remove_mid_anomaly(current_data)\n",
    "current_data.loc[mid_anomaly_idx, 'label']=1\n",
    "print(\"mid: {}\".format(mid_anomaly_idx.shape))\n",
    "\n",
    "# 横向四分法\n",
    "horizonal_data, horizonal_anomaly_idx = horizonal_process(current_data,up_coef=2.6)\n",
    "current_data.loc[horizonal_anomaly_idx, 'label']=1\n",
    "print(\"horizonal: {}\".format(horizonal_anomaly_idx.shape))\n",
    "\n",
    "# # 纵向四分法\n",
    "vertical_data, vertical_anomaly_idx = vertical_process(current_data)\n",
    "current_data.loc[vertical_anomaly_idx, 'label']=1\n",
    "print(\"vertical: {}\".format(vertical_anomaly_idx.shape))"
   ]
  },
  {
   "cell_type": "code",
   "execution_count": null,
   "metadata": {},
   "outputs": [],
   "source": [
    "is_save=True\n",
    "line_num = 1\n",
    "fp = './figures/vp_{}_{}.png'.format(current_rotor,line_num)\n",
    "plot_current_data(current_data,rotor_num=current_rotor,save=is_save,file_path=fp)"
   ]
  },
  {
   "cell_type": "code",
   "execution_count": null,
   "metadata": {
    "tags": []
   },
   "outputs": [],
   "source": [
    "# 更新到raw_data\n",
    "current_anomaly_idx = current_data[current_data['label']==1].index\n",
    "print(\"sum of current anomaly data: {}\".format(current_anomaly_idx.shape))\n",
    "\n",
    "raw_data.loc[current_anomaly_idx, 'label']=1\n",
    "print(\"sum of raw data anomaly data: {}\".format(np.sum(raw_data['label']==1)))"
   ]
  },
  {
   "cell_type": "markdown",
   "metadata": {},
   "source": [
    "#### 9.2 九号第二条线"
   ]
  },
  {
   "cell_type": "code",
   "execution_count": null,
   "metadata": {
    "tags": []
   },
   "outputs": [],
   "source": [
    "current_rotor = 9\n",
    "# 处理下边，除了9月，10月的月份，其中八月：1-26号\n",
    "current_data = raw_data[raw_data['WindNumber']==current_rotor]\n",
    "\n",
    "current_data = current_data[( (current_data['Month']==1) | (current_data['Month']==2) | (current_data['Month']==3) | (current_data['Month']==4) | (current_data['Month']==5) | (current_data['Month']==6) | (current_data['Month']==7) | (current_data['Month']==11) | (current_data['Month']==12) | ((current_data['Month']==8) & (current_data['Day']<=26)) )]\n",
    "\n",
    "# process_current_data(current_data)"
   ]
  },
  {
   "cell_type": "code",
   "execution_count": null,
   "metadata": {
    "tags": []
   },
   "outputs": [],
   "source": [
    "# 去底部异常\n",
    "removed_neg_data, neg_power_idx = remove_neg_power(current_data, current_rotor)\n",
    "current_data.loc[neg_power_idx, 'label']=1\n",
    "print(\"bottom: {}\".format(neg_power_idx.shape))\n",
    "\n",
    "# 去中部异常\n",
    "removed_mid_data, mid_anomaly_idx = remove_mid_anomaly(current_data,max_time=6,max_diff=2)\n",
    "current_data.loc[mid_anomaly_idx, 'label']=1\n",
    "print(\"mid: {}\".format(mid_anomaly_idx.shape))\n",
    "\n",
    "# 横向四分法\n",
    "horizonal_data, horizonal_anomaly_idx = horizonal_process(current_data,low_coef=2,up_coef=2.5)\n",
    "current_data.loc[horizonal_anomaly_idx, 'label']=1\n",
    "print(\"horizonal: {}\".format(horizonal_anomaly_idx.shape))\n",
    "\n",
    "# 纵向四分法\n",
    "vertical_data, vertical_anomaly_idx = vertical_process(current_data,low_coef=2, up_coef=2)\n",
    "current_data.loc[vertical_anomaly_idx, 'label']=1\n",
    "print(\"vertical: {}\".format(vertical_anomaly_idx.shape))"
   ]
  },
  {
   "cell_type": "code",
   "execution_count": null,
   "metadata": {},
   "outputs": [],
   "source": [
    "is_save=True\n",
    "line_num = 2\n",
    "fp = './figures/vp_{}_{}.png'.format(current_rotor,line_num)\n",
    "plot_current_data(current_data,rotor_num=current_rotor,save=is_save,file_path=fp)"
   ]
  },
  {
   "cell_type": "code",
   "execution_count": null,
   "metadata": {
    "tags": []
   },
   "outputs": [],
   "source": [
    "# 更新到raw_data\n",
    "current_anomaly_idx = current_data[current_data['label']==1].index\n",
    "print(\"sum of current anomaly data: {}\".format(current_anomaly_idx.shape))\n",
    "\n",
    "raw_data.loc[current_anomaly_idx, 'label']=1\n",
    "print(\"sum of raw data anomaly data: {}\".format(np.sum(raw_data['label']==1)))"
   ]
  },
  {
   "cell_type": "markdown",
   "metadata": {},
   "source": [
    "### 十月\n",
    "\n",
    "1. 左边曲线\n",
    "    - 12, 1月<=7日，11月>=12日\n",
    "2. 右边曲线\n",
    "    - 2, 3, 4, 5, 6, 7, 8, 9, 10，1月>7日，11月<12日"
   ]
  },
  {
   "cell_type": "markdown",
   "metadata": {},
   "source": [
    "#### 10.1 十号第一条"
   ]
  },
  {
   "cell_type": "code",
   "execution_count": null,
   "metadata": {
    "tags": []
   },
   "outputs": [],
   "source": [
    "current_rotor = 10\n",
    "# 处理左边，12, 1月<=7日，11月>=12日\n",
    "current_data = raw_data[raw_data['WindNumber']==current_rotor]\n",
    "current_data = current_data[( (current_data['Month']==12) | ((current_data['Month']==1)&(current_data['Day']<=7) ) | ((current_data['Month']==11) & (current_data['Day']>=12)))]\n",
    "# process_current_data(current_data)"
   ]
  },
  {
   "cell_type": "code",
   "execution_count": null,
   "metadata": {
    "tags": []
   },
   "outputs": [],
   "source": [
    "# # 去底部异常\n",
    "# removed_neg_data, neg_power_idx = remove_neg_power(current_data, current_rotor)\n",
    "# current_data.loc[neg_power_idx, 'label']=1\n",
    "# print(\"bottom: {}\".format(neg_power_idx.shape))\n",
    "\n",
    "# # 去中部异常\n",
    "# removed_mid_data, mid_anomaly_idx = remove_mid_anomaly(current_data)\n",
    "# current_data.loc[mid_anomaly_idx, 'label']=1\n",
    "# print(\"mid: {}\".format(mid_anomaly_idx.shape))\n",
    "\n",
    "# # # 横向四分法\n",
    "# horizonal_data, horizonal_anomaly_idx = horizonal_process(current_data,low_coef=2,up_coef=2)\n",
    "# current_data.loc[horizonal_anomaly_idx, 'label']=1\n",
    "# print(\"horizonal: {}\".format(horizonal_anomaly_idx.shape))\n",
    "\n",
    "# # # 纵向四分法\n",
    "# vertical_data, vertical_anomaly_idx = vertical_process(current_data,low_coef=2, up_coef=2)\n",
    "# current_data.loc[vertical_anomaly_idx, 'label']=1\n",
    "# print(\"vertical: {}\".format(vertical_anomaly_idx.shape))\n",
    "\n",
    "# # # 横向四分法\n",
    "# horizonal_data, horizonal_anomaly_idx = horizonal_process(current_data)\n",
    "# current_data.loc[horizonal_anomaly_idx, 'label']=1\n",
    "# print(\"horizonal: {}\".format(horizonal_anomaly_idx.shape))\n",
    "\n",
    "# # # 纵向四分法\n",
    "# vertical_data, vertical_anomaly_idx = vertical_process(current_data)\n",
    "# current_data.loc[vertical_anomaly_idx, 'label']=1\n",
    "# print(\"vertical: {}\".format(vertical_anomaly_idx.shape))\n",
    "# # # 纵向四分法\n",
    "# vertical_data, vertical_anomaly_idx = vertical_process(current_data)\n",
    "# current_data.loc[vertical_anomaly_idx, 'label']=1\n",
    "# print(\"vertical: {}\".format(vertical_anomaly_idx.shape))"
   ]
  },
  {
   "cell_type": "code",
   "execution_count": null,
   "metadata": {
    "tags": []
   },
   "outputs": [],
   "source": [
    "# 全部作为异常\n",
    "current_data['label']=1\n",
    "current_anomaly_idx = current_data[current_data['label']==1].index\n",
    "print(\"sum of current anomaly data: {}\".format(current_anomaly_idx.shape))\n",
    "\n",
    "raw_data.loc[current_anomaly_idx, 'label']=1\n",
    "print(\"sum of raw data anomaly data: {}\".format(np.sum(raw_data['label']==1)))"
   ]
  },
  {
   "cell_type": "code",
   "execution_count": null,
   "metadata": {},
   "outputs": [],
   "source": [
    "is_save=True\n",
    "line_num = 1\n",
    "fp = './figures/vp_{}_{}.png'.format(current_rotor,line_num)\n",
    "plot_current_data(current_data,rotor_num=current_rotor,save=is_save,file_path=fp)"
   ]
  },
  {
   "cell_type": "markdown",
   "metadata": {},
   "source": [
    "#### 10.2 十号第二条"
   ]
  },
  {
   "cell_type": "code",
   "execution_count": null,
   "metadata": {
    "tags": []
   },
   "outputs": [],
   "source": [
    "current_rotor = 10\n",
    "# 处理右边，2, 3, 4, 5, 6, 7, 8, 9, 10，1月>7日，11月<12日\n",
    "current_data = raw_data[raw_data['WindNumber']==current_rotor]\n",
    "\n",
    "current_data = current_data[( ((current_data['Month']==1)&(current_data['Day']>7)) | (current_data['Month']==2) | (current_data['Month']==3) | (current_data['Month']==4) | (current_data['Month']==5) | (current_data['Month']==6) | (current_data['Month']==7) | (current_data['Month']==8) | (current_data['Month']==9) | (current_data['Month']==10)| ((current_data['Month']==11)&(current_data['Day']<12)) )]\n",
    "\n",
    "# process_current_data(current_data)"
   ]
  },
  {
   "cell_type": "code",
   "execution_count": null,
   "metadata": {
    "tags": []
   },
   "outputs": [],
   "source": [
    "# 去底部异常\n",
    "removed_neg_data, neg_power_idx = remove_neg_power(current_data, current_rotor)\n",
    "current_data.loc[neg_power_idx, 'label']=1\n",
    "print(\"bottom: {}\".format(neg_power_idx.shape))\n",
    "\n",
    "# 去中部异常\n",
    "removed_mid_data, mid_anomaly_idx = remove_mid_anomaly(current_data,max_time=6,max_diff=2)\n",
    "current_data.loc[mid_anomaly_idx, 'label']=1\n",
    "print(\"mid: {}\".format(mid_anomaly_idx.shape))\n",
    "\n",
    "# # 横向四分法\n",
    "horizonal_data, horizonal_anomaly_idx = horizonal_process(current_data,low_coef=2,up_coef=2.1)\n",
    "current_data.loc[horizonal_anomaly_idx, 'label']=1\n",
    "print(\"horizonal: {}\".format(horizonal_anomaly_idx.shape))\n",
    "\n",
    "# # 纵向四分法\n",
    "vertical_data, vertical_anomaly_idx = vertical_process(current_data,low_coef=2,up_coef=1.9)\n",
    "current_data.loc[vertical_anomaly_idx, 'label']=1\n",
    "print(\"vertical: {}\".format(vertical_anomaly_idx.shape))"
   ]
  },
  {
   "cell_type": "code",
   "execution_count": null,
   "metadata": {},
   "outputs": [],
   "source": [
    "is_save=True\n",
    "line_num = 2\n",
    "fp = './figures/vp_{}_{}.png'.format(current_rotor,line_num)\n",
    "plot_current_data(current_data,rotor_num=current_rotor,save=is_save,file_path=fp)"
   ]
  },
  {
   "cell_type": "code",
   "execution_count": null,
   "metadata": {
    "tags": []
   },
   "outputs": [],
   "source": [
    "# 更新到raw_data\n",
    "current_anomaly_idx = current_data[current_data['label']==1].index\n",
    "print(\"sum of current anomaly data: {}\".format(current_anomaly_idx.shape))\n",
    "\n",
    "raw_data.loc[current_anomaly_idx, 'label']=1\n",
    "print(\"sum of raw data anomaly data: {}\".format(np.sum(raw_data['label']==1)))"
   ]
  },
  {
   "cell_type": "markdown",
   "metadata": {},
   "source": [
    "### 十一号"
   ]
  },
  {
   "cell_type": "code",
   "execution_count": null,
   "metadata": {
    "tags": []
   },
   "outputs": [],
   "source": [
    "current_rotor = 11\n",
    "current_data = raw_data[raw_data['WindNumber']==current_rotor]\n",
    "# process_current_data(current_data)"
   ]
  },
  {
   "cell_type": "code",
   "execution_count": null,
   "metadata": {
    "tags": []
   },
   "outputs": [],
   "source": [
    "# 去底部异常\n",
    "removed_neg_data, neg_power_idx = remove_neg_power(current_data, current_rotor)\n",
    "current_data.loc[neg_power_idx, 'label']=1\n",
    "print(\"bottom: {}\".format(neg_power_idx.shape))\n",
    "\n",
    "# 去中部异常\n",
    "removed_mid_data, mid_anomaly_idx = remove_mid_anomaly(current_data)\n",
    "current_data.loc[mid_anomaly_idx, 'label']=1\n",
    "print(\"mid: {}\".format(mid_anomaly_idx.shape))\n",
    "\n",
    "# # 横向四分法\n",
    "horizonal_data, horizonal_anomaly_idx = horizonal_process(current_data,low_coef=2.5,up_coef=3)\n",
    "current_data.loc[horizonal_anomaly_idx, 'label']=1\n",
    "print(\"horizonal: {}\".format(horizonal_anomaly_idx.shape))\n",
    "\n",
    "# # # 纵向四分法\n",
    "# vertical_data, vertical_anomaly_idx = vertical_process(current_data,low_coef=2,up_coef=2)\n",
    "# current_data.loc[vertical_anomaly_idx, 'label']=1\n",
    "# print(\"vertical: {}\".format(vertical_anomaly_idx.shape))"
   ]
  },
  {
   "cell_type": "code",
   "execution_count": null,
   "metadata": {},
   "outputs": [],
   "source": [
    "is_save=True\n",
    "line_num = 1\n",
    "fp = './figures/vp_{}_{}.png'.format(current_rotor,line_num)\n",
    "plot_current_data(current_data,rotor_num=current_rotor,save=is_save,file_path=fp)"
   ]
  },
  {
   "cell_type": "code",
   "execution_count": null,
   "metadata": {
    "tags": []
   },
   "outputs": [],
   "source": [
    "# 更新到raw_data\n",
    "current_anomaly_idx = current_data[current_data['label']==1].index\n",
    "print(\"sum of current anomaly data: {}\".format(current_anomaly_idx.shape))\n",
    "\n",
    "raw_data.loc[current_anomaly_idx, 'label']=1\n",
    "print(\"sum of raw data anomaly data: {}\".format(np.sum(raw_data['label']==1)))"
   ]
  },
  {
   "cell_type": "markdown",
   "metadata": {},
   "source": [
    "### 十二号"
   ]
  },
  {
   "cell_type": "code",
   "execution_count": null,
   "metadata": {
    "tags": []
   },
   "outputs": [],
   "source": [
    "current_rotor = 12\n",
    "current_data = raw_data[raw_data['WindNumber']==current_rotor]\n",
    "# process_current_data(current_data)"
   ]
  },
  {
   "cell_type": "code",
   "execution_count": null,
   "metadata": {
    "tags": []
   },
   "outputs": [],
   "source": [
    "# 去底部异常\n",
    "# removed_neg_data, neg_power_idx = remove_neg_power(current_data, current_rotor)\n",
    "# current_data.loc[neg_power_idx, 'label']=1\n",
    "# print(\"bottom: {}\".format(neg_power_idx.shape))\n",
    "\n",
    "# 去中部异常\n",
    "removed_mid_data, mid_anomaly_idx = remove_mid_anomaly(current_data)\n",
    "current_data.loc[mid_anomaly_idx, 'label']=1\n",
    "print(\"mid: {}\".format(mid_anomaly_idx.shape))\n",
    "\n",
    "# 横向四分法\n",
    "horizonal_data, horizonal_anomaly_idx = horizonal_process(current_data,low_coef=3,up_coef=3)\n",
    "current_data.loc[horizonal_anomaly_idx, 'label']=1\n",
    "print(\"horizonal: {}\".format(horizonal_anomaly_idx.shape))\n",
    "\n",
    "# 横向四分法\n",
    "horizonal_data, horizonal_anomaly_idx = horizonal_process(current_data,low_coef=1.5,up_coef=1.5)\n",
    "current_data.loc[horizonal_anomaly_idx, 'label']=1\n",
    "print(\"horizonal: {}\".format(horizonal_anomaly_idx.shape))\n",
    "\n",
    "# # 纵向四分法\n",
    "# vertical_data, vertical_anomaly_idx = vertical_process(current_data,low_coef=2,up_coef=2)\n",
    "# current_data.loc[vertical_anomaly_idx, 'label']=1\n",
    "# print(\"vertical: {}\".format(vertical_anomaly_idx.shape))"
   ]
  },
  {
   "cell_type": "code",
   "execution_count": null,
   "metadata": {},
   "outputs": [],
   "source": [
    "is_save=True\n",
    "line_num = 2\n",
    "fp = './figures/vp_{}_{}.png'.format(current_rotor,line_num)\n",
    "plot_current_data(current_data,rotor_num=current_rotor,save=is_save,file_path=fp)"
   ]
  },
  {
   "cell_type": "code",
   "execution_count": null,
   "metadata": {
    "tags": []
   },
   "outputs": [],
   "source": [
    "# 更新到raw_data\n",
    "current_anomaly_idx = current_data[current_data['label']==1].index\n",
    "print(\"sum of current anomaly data: {}\".format(current_anomaly_idx.shape))\n",
    "\n",
    "raw_data.loc[current_anomaly_idx, 'label']=1\n",
    "print(\"sum of raw data anomaly data: {}\".format(np.sum(raw_data['label']==1)))"
   ]
  },
  {
   "cell_type": "markdown",
   "metadata": {},
   "source": [
    "```\n",
    "sum of current anomaly data: (10565,)\n",
    "sum of raw data anomaly data: 158009\n",
    "```"
   ]
  },
  {
   "cell_type": "markdown",
   "metadata": {},
   "source": [
    "## 保存数据"
   ]
  },
  {
   "cell_type": "code",
   "execution_count": null,
   "metadata": {},
   "outputs": [],
   "source": [
    "raw_data.loc[raw_data['label']==-1, 'label']=0"
   ]
  },
  {
   "cell_type": "code",
   "execution_count": null,
   "metadata": {
    "tags": []
   },
   "outputs": [],
   "source": [
    "# current_data = raw_data\n",
    "# # 横向四分法\n",
    "# horizonal_data, horizonal_anomaly_idx = horizonal_process(current_data,low_coef=1.5,up_coef=1.5)\n",
    "# current_data.loc[horizonal_anomaly_idx, 'label']=1\n",
    "# print(\"horizonal: {}\".format(horizonal_anomaly_idx.shape))"
   ]
  },
  {
   "cell_type": "code",
   "execution_count": null,
   "metadata": {
    "tags": []
   },
   "outputs": [],
   "source": [
    "file_num = \"9_25\"\n",
    "RES_PATH='./submission/submission_{}.csv'.format(file_num)\n",
    "# print(\"未分类数：{}\".format(np.sum(raw_data['label'] == -1)))\n",
    "print(\"异常点数：{}\".format(np.sum(raw_data['label'] == 1)))\n",
    "print(\"正常点数：{}\".format(np.sum(raw_data['label'] == 0)))\n",
    "\n",
    "result = raw_data[['WindNumber', 'Time', 'label']]\n",
    "result.to_csv(RES_PATH, index=None)"
   ]
  },
  {
   "cell_type": "code",
   "execution_count": null,
   "metadata": {},
   "outputs": [],
   "source": []
  }
 ],
 "metadata": {
  "kernelspec": {
   "display_name": "Python 3",
   "language": "python",
   "name": "python3"
  },
  "language_info": {
   "codemirror_mode": {
    "name": "ipython",
    "version": 3
   },
   "file_extension": ".py",
   "mimetype": "text/x-python",
   "name": "python",
   "nbconvert_exporter": "python",
   "pygments_lexer": "ipython3",
   "version": "3.7.7-final"
  }
 },
 "nbformat": 4,
 "nbformat_minor": 2
}