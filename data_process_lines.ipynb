{
 "cells": [
  {
   "cell_type": "code",
   "execution_count": 1,
   "metadata": {},
   "outputs": [],
   "source": [
    "import numpy as np\n",
    "import pandas as pd\n",
    "import seaborn as sns\n",
    "import matplotlib.pyplot as plt"
   ]
  },
  {
   "cell_type": "markdown",
   "metadata": {},
   "source": [
    "## 读入数据并处理特征"
   ]
  },
  {
   "cell_type": "code",
   "execution_count": 2,
   "metadata": {},
   "outputs": [
    {
     "output_type": "execute_result",
     "data": {
      "text/plain": "   WindNumber            Time  WindSpeed       Power  RotorSpeed  Width  \\\n0           1  2017/11/1 0:20   4.188333   65.750000    5.779167   99.0   \n1           1  2017/11/1 0:30   4.042500  120.700000    8.636500   99.0   \n2           1  2017/11/1 0:40   4.137368  135.157895    8.668421   99.0   \n3           1  2017/11/1 0:50   4.274737  157.315789    8.727895   99.0   \n4           1  2017/11/1 1:00   4.108947  129.894737    8.656842   99.0   \n\n   RatedPower  CutInWindSpeed  CutOutWindSpeed  WheelSpeedMin  WheelSpesdMax  \n0        2000             3.0               25           8.33           16.8  \n1        2000             3.0               25           8.33           16.8  \n2        2000             3.0               25           8.33           16.8  \n3        2000             3.0               25           8.33           16.8  \n4        2000             3.0               25           8.33           16.8  ",
      "text/html": "<div>\n<style scoped>\n    .dataframe tbody tr th:only-of-type {\n        vertical-align: middle;\n    }\n\n    .dataframe tbody tr th {\n        vertical-align: top;\n    }\n\n    .dataframe thead th {\n        text-align: right;\n    }\n</style>\n<table border=\"1\" class=\"dataframe\">\n  <thead>\n    <tr style=\"text-align: right;\">\n      <th></th>\n      <th>WindNumber</th>\n      <th>Time</th>\n      <th>WindSpeed</th>\n      <th>Power</th>\n      <th>RotorSpeed</th>\n      <th>Width</th>\n      <th>RatedPower</th>\n      <th>CutInWindSpeed</th>\n      <th>CutOutWindSpeed</th>\n      <th>WheelSpeedMin</th>\n      <th>WheelSpesdMax</th>\n    </tr>\n  </thead>\n  <tbody>\n    <tr>\n      <th>0</th>\n      <td>1</td>\n      <td>2017/11/1 0:20</td>\n      <td>4.188333</td>\n      <td>65.750000</td>\n      <td>5.779167</td>\n      <td>99.0</td>\n      <td>2000</td>\n      <td>3.0</td>\n      <td>25</td>\n      <td>8.33</td>\n      <td>16.8</td>\n    </tr>\n    <tr>\n      <th>1</th>\n      <td>1</td>\n      <td>2017/11/1 0:30</td>\n      <td>4.042500</td>\n      <td>120.700000</td>\n      <td>8.636500</td>\n      <td>99.0</td>\n      <td>2000</td>\n      <td>3.0</td>\n      <td>25</td>\n      <td>8.33</td>\n      <td>16.8</td>\n    </tr>\n    <tr>\n      <th>2</th>\n      <td>1</td>\n      <td>2017/11/1 0:40</td>\n      <td>4.137368</td>\n      <td>135.157895</td>\n      <td>8.668421</td>\n      <td>99.0</td>\n      <td>2000</td>\n      <td>3.0</td>\n      <td>25</td>\n      <td>8.33</td>\n      <td>16.8</td>\n    </tr>\n    <tr>\n      <th>3</th>\n      <td>1</td>\n      <td>2017/11/1 0:50</td>\n      <td>4.274737</td>\n      <td>157.315789</td>\n      <td>8.727895</td>\n      <td>99.0</td>\n      <td>2000</td>\n      <td>3.0</td>\n      <td>25</td>\n      <td>8.33</td>\n      <td>16.8</td>\n    </tr>\n    <tr>\n      <th>4</th>\n      <td>1</td>\n      <td>2017/11/1 1:00</td>\n      <td>4.108947</td>\n      <td>129.894737</td>\n      <td>8.656842</td>\n      <td>99.0</td>\n      <td>2000</td>\n      <td>3.0</td>\n      <td>25</td>\n      <td>8.33</td>\n      <td>16.8</td>\n    </tr>\n  </tbody>\n</table>\n</div>"
     },
     "metadata": {},
     "execution_count": 2
    }
   ],
   "source": [
    "data_path = './data/combined_data.csv'\n",
    "raw_data = pd.read_csv(data_path)\n",
    "raw_data.head()"
   ]
  },
  {
   "cell_type": "markdown",
   "metadata": {},
   "source": [
    "### 给raw_data添加label, year, month, day"
   ]
  },
  {
   "cell_type": "code",
   "execution_count": 3,
   "metadata": {},
   "outputs": [],
   "source": [
    "raw_data['label']=-1\n",
    "raw_data['Year'] = raw_data['Time'].apply(lambda x:int(x.split(' ')[0].split('/')[0]))\n",
    "raw_data['Month'] = raw_data['Time'].apply(lambda x:int(x.split(' ')[0].split('/')[1]))\n",
    "raw_data['Day'] = raw_data['Time'].apply(lambda x:int(x.split(' ')[0].split('/')[2]))\n",
    "raw_data['Index'] = raw_data.index\n",
    "\n",
    "# 把windspeed和power归一化保存\n",
    "max_min_scaler = lambda x : (x-np.min(x))/(np.max(x)-np.min(x))\n",
    "raw_data['NormWindSpeed'] = raw_data[['WindSpeed']].apply(max_min_scaler)\n",
    "raw_data['NormPower'] = raw_data[['Power']].apply(max_min_scaler)"
   ]
  },
  {
   "cell_type": "code",
   "execution_count": 4,
   "metadata": {},
   "outputs": [],
   "source": [
    "raw_data=raw_data[['WindNumber', 'Time', 'WindSpeed', 'Power', 'RotorSpeed', 'label', 'Year', 'Month', 'Day', 'NormWindSpeed', 'NormPower']]"
   ]
  },
  {
   "cell_type": "code",
   "execution_count": 5,
   "metadata": {},
   "outputs": [
    {
     "output_type": "execute_result",
     "data": {
      "text/plain": "   WindNumber            Time  WindSpeed       Power  RotorSpeed  label  Year  \\\n0           1  2017/11/1 0:20   4.188333   65.750000    5.779167     -1  2017   \n1           1  2017/11/1 0:30   4.042500  120.700000    8.636500     -1  2017   \n2           1  2017/11/1 0:40   4.137368  135.157895    8.668421     -1  2017   \n3           1  2017/11/1 0:50   4.274737  157.315789    8.727895     -1  2017   \n4           1  2017/11/1 1:00   4.108947  129.894737    8.656842     -1  2017   \n\n   Month  Day  NormWindSpeed  NormPower  \n0     11    1       0.419569   0.076748  \n1     11    1       0.415905   0.100808  \n2     11    1       0.418289   0.107138  \n3     11    1       0.421740   0.116839  \n4     11    1       0.417575   0.104833  ",
      "text/html": "<div>\n<style scoped>\n    .dataframe tbody tr th:only-of-type {\n        vertical-align: middle;\n    }\n\n    .dataframe tbody tr th {\n        vertical-align: top;\n    }\n\n    .dataframe thead th {\n        text-align: right;\n    }\n</style>\n<table border=\"1\" class=\"dataframe\">\n  <thead>\n    <tr style=\"text-align: right;\">\n      <th></th>\n      <th>WindNumber</th>\n      <th>Time</th>\n      <th>WindSpeed</th>\n      <th>Power</th>\n      <th>RotorSpeed</th>\n      <th>label</th>\n      <th>Year</th>\n      <th>Month</th>\n      <th>Day</th>\n      <th>NormWindSpeed</th>\n      <th>NormPower</th>\n    </tr>\n  </thead>\n  <tbody>\n    <tr>\n      <th>0</th>\n      <td>1</td>\n      <td>2017/11/1 0:20</td>\n      <td>4.188333</td>\n      <td>65.750000</td>\n      <td>5.779167</td>\n      <td>-1</td>\n      <td>2017</td>\n      <td>11</td>\n      <td>1</td>\n      <td>0.419569</td>\n      <td>0.076748</td>\n    </tr>\n    <tr>\n      <th>1</th>\n      <td>1</td>\n      <td>2017/11/1 0:30</td>\n      <td>4.042500</td>\n      <td>120.700000</td>\n      <td>8.636500</td>\n      <td>-1</td>\n      <td>2017</td>\n      <td>11</td>\n      <td>1</td>\n      <td>0.415905</td>\n      <td>0.100808</td>\n    </tr>\n    <tr>\n      <th>2</th>\n      <td>1</td>\n      <td>2017/11/1 0:40</td>\n      <td>4.137368</td>\n      <td>135.157895</td>\n      <td>8.668421</td>\n      <td>-1</td>\n      <td>2017</td>\n      <td>11</td>\n      <td>1</td>\n      <td>0.418289</td>\n      <td>0.107138</td>\n    </tr>\n    <tr>\n      <th>3</th>\n      <td>1</td>\n      <td>2017/11/1 0:50</td>\n      <td>4.274737</td>\n      <td>157.315789</td>\n      <td>8.727895</td>\n      <td>-1</td>\n      <td>2017</td>\n      <td>11</td>\n      <td>1</td>\n      <td>0.421740</td>\n      <td>0.116839</td>\n    </tr>\n    <tr>\n      <th>4</th>\n      <td>1</td>\n      <td>2017/11/1 1:00</td>\n      <td>4.108947</td>\n      <td>129.894737</td>\n      <td>8.656842</td>\n      <td>-1</td>\n      <td>2017</td>\n      <td>11</td>\n      <td>1</td>\n      <td>0.417575</td>\n      <td>0.104833</td>\n    </tr>\n  </tbody>\n</table>\n</div>"
     },
     "metadata": {},
     "execution_count": 5
    }
   ],
   "source": [
    "raw_data.head()"
   ]
  },
  {
   "cell_type": "markdown",
   "metadata": {},
   "source": [
    "## 定义各项函数"
   ]
  },
  {
   "cell_type": "markdown",
   "metadata": {},
   "source": [
    "### 四分法函数"
   ]
  },
  {
   "cell_type": "code",
   "execution_count": 6,
   "metadata": {},
   "outputs": [],
   "source": [
    "def get_mid(data):\n",
    "    # data: series\n",
    "    # idx在n为偶数时返回n/2\n",
    "    x = data.sort_values()\n",
    "    n = x.shape[0]\n",
    "    idx = (n+1)/2 if n%2==1 else n/2\n",
    "    idx = int(idx-1)\n",
    "    mid = x.iloc[idx] if n%2==1 else (x.iloc[idx]+x.iloc[int((n+2)/2-1)])/2\n",
    "    return idx, mid\n",
    "\n",
    "def get_F(data, low_coef=1.5, up_coef=1.5):\n",
    "    # data: series\n",
    "    x = data.sort_values()\n",
    "    n = x.shape[0]\n",
    "    idx_2, q_2 = get_mid(x)\n",
    "    k = n//4\n",
    "    # print(k, n)\n",
    "    if n%2==0:\n",
    "        q_1_data = x.iloc[:idx_2] if idx_2%2 else x.iloc[:idx_2+1]\n",
    "        q_3_data = x.iloc[idx_2+1:]\n",
    "        idx_1, q_1 = get_mid(q_1_data)\n",
    "        idx_3, q_3 = get_mid(q_3_data)\n",
    "    elif n%4==3:\n",
    "        q_1 = 0.75*x.iloc[k]+0.25*x.iloc[k+1]\n",
    "        q_3 = 0.25*x.iloc[3*k]+0.75*x.iloc[3*k+2]\n",
    "    elif n%4==1:\n",
    "        q_1 = 0.25*x.iloc[k-1]+0.75*x.iloc[k]\n",
    "        q_3 = 0.75*x.iloc[3*k]+0.25*x.iloc[3*k+1]\n",
    "    i_qr = q_3-q_1\n",
    "    f_1, f_u = q_1-low_coef*i_qr, q_3+up_coef*i_qr\n",
    "    return f_1, f_u"
   ]
  },
  {
   "cell_type": "markdown",
   "metadata": {},
   "source": [
    "### 定义横向和纵向四分位法"
   ]
  },
  {
   "cell_type": "code",
   "execution_count": 7,
   "metadata": {},
   "outputs": [],
   "source": [
    "def horizonal_process(current_data,low_coef=1.5, up_coef=1.5):\n",
    "    '''传入DataFrame，返回异常数据的index\n",
    "    '''\n",
    "    res_data = current_data[current_data['label']!=1].copy()\n",
    "    res_data = res_data.sort_values(by=['Power'])\n",
    "    st = np.linspace(0, 2000, 81, dtype=int)\n",
    "\n",
    "    # 对每个power段\n",
    "    for i in range(1, st.shape[0]):\n",
    "        p_min, p_max = st[i-1], st[i]\n",
    "        flag = (res_data['Power']>=p_min) & (res_data['Power']<=p_max)\n",
    "        sub_data = res_data[flag]\n",
    "\n",
    "        if sub_data.shape[0]<4:\n",
    "            # continue\n",
    "            f_1 = f_u = 0\n",
    "        else:\n",
    "            f_1, f_u = get_F(sub_data['WindSpeed'],low_coef,up_coef)\n",
    "\n",
    "        flag_1_u = (res_data['WindSpeed']<f_1) | (res_data['WindSpeed']>f_u)\n",
    "        flag_com = flag & flag_1_u\n",
    "        res_data.loc[flag_com, 'label']=1\n",
    "\n",
    "    # 返回DataFrame和下标\n",
    "    res_data.loc[res_data[res_data['label']==1].index, 'label']=1\n",
    "    return res_data, res_data[res_data['label']==1].index\n",
    "\n",
    "\n",
    "def vertical_process(current_data,low_coef=1.5, up_coef=1.5):\n",
    "    res_data = current_data[current_data['label']!=1].copy()\n",
    "    res_data = res_data.sort_values(by=['Power'])\n",
    "    st = np.arange(0, 25.5, 0.5)\n",
    "\n",
    "    # 对每个风速段\n",
    "    for i in range(1, st.shape[0]):\n",
    "        p_min, p_max = st[i-1], st[i]\n",
    "        flag = (res_data['WindSpeed']>=p_min) & (res_data['WindSpeed']<=p_max)\n",
    "        sub_data = res_data[flag]\n",
    "        # print(sub_data)\n",
    "\n",
    "        if sub_data.shape[0]<4:\n",
    "            # continue\n",
    "            f_1 = f_u = 0\n",
    "        else:\n",
    "            f_1, f_u = get_F(sub_data['Power'],low_coef,up_coef)\n",
    "\n",
    "        # 超过[F1, Fu]的都算作异常\n",
    "        flag_1_u = (res_data['Power']<f_1) | (res_data['Power']>f_u)\n",
    "        flag_com = flag & flag_1_u\n",
    "        res_data.loc[flag_com, 'label']=1\n",
    "\n",
    "    # 返回DataFrame和下标\n",
    "    res_data.loc[res_data[res_data['label']==1].index, 'label']=1\n",
    "    return res_data, res_data[res_data['label']==1].index\n"
   ]
  },
  {
   "cell_type": "markdown",
   "metadata": {},
   "source": [
    "### 去除功率为负的异常点函数"
   ]
  },
  {
   "cell_type": "code",
   "execution_count": 8,
   "metadata": {},
   "outputs": [],
   "source": [
    "def get_cut_int_out(current_rotor):\n",
    "    '''返回当前风电机切入和切出风速\n",
    "    '''\n",
    "    cut_int=cut_out=0\n",
    "    if current_rotor in [1,2,3,4,6,7,8,9,10]:\n",
    "        cut_in = 3\n",
    "        cut_out = 25\n",
    "    elif current_rotor ==5:\n",
    "        cut_in = 3\n",
    "        cut_out = 22\n",
    "    elif current_rotor == 11:\n",
    "        cut_in = 2.5\n",
    "        cut_out = 19\n",
    "    elif current_rotor == 12:\n",
    "        cut_in = 3\n",
    "        cut_out = 22\n",
    "    return cut_in, cut_out\n",
    "    \n",
    "def judge_power(row, cut_in, cut_out):\n",
    "    # 切入以下的且功率小于0的暂且认为正常\n",
    "    if row['Power']<0 and row['WindSpeed']<cut_in:\n",
    "        return 0\n",
    "    # 切入以下功率大于0的为异常\n",
    "    elif row['Power']>=0 and row['WindSpeed']<cut_in:\n",
    "        return 1\n",
    "    # 切入风速以上，切出风速以下，power小于等于0的为异常\n",
    "    elif row['Power']<=1 and row['WindSpeed']<cut_out and row['WindSpeed']>cut_in:\n",
    "        return 1\n",
    "    # 切出风速以上，power大于0的为异常\n",
    "    elif row['Power']>0 and row['WindSpeed']>cut_out:\n",
    "        return 1\n",
    "    # 切出风速以上，power小于0的暂且认为是正常\n",
    "    elif row['Power']<=0 and row['WindSpeed']>cut_out:\n",
    "        return 0\n",
    "    else:\n",
    "        return -1\n",
    "\n",
    "def remove_neg_power(current_data, current_rotor):\n",
    "    '''返回current_data功率异常区域为负数的下标\n",
    "    '''\n",
    "    current_data = current_data[current_data['label']!=1]\n",
    "    cut_in, cut_out = get_cut_int_out(current_rotor)\n",
    "    tmp_data = current_data\n",
    "    tmp_data['label'] = tmp_data.apply(judge_power, axis=1, args=(cut_in, cut_out))\n",
    "\n",
    "    return tmp_data, tmp_data[tmp_data['label']==1].index"
   ]
  },
  {
   "cell_type": "markdown",
   "metadata": {},
   "source": [
    "### 定义去除中部限功率数据函数"
   ]
  },
  {
   "cell_type": "code",
   "execution_count": 9,
   "metadata": {
    "tags": []
   },
   "outputs": [],
   "source": [
    "def remove_mid_anomaly(current_data, max_a=0.5, max_diff=3,max_time=12,min_speed=0.3,power_step=6):\n",
    "    '''传入的是待处理的风电机数据，在函数内部对功率进行划分\n",
    "    max_a = 0.5 # y=ax+b，这个设置基本没用，都是接近0的\n",
    "    max_diff = 3 # 3kw\n",
    "    max_time = 12 # 6*10s \n",
    "    min_speed = 0.3 # 0.5m/s\n",
    "    '''\n",
    "    res_data = current_data[current_data['label']!=1].copy()\n",
    "    st = np.arange(0,1900,power_step)\n",
    "\n",
    "    res_idx = np.array([])\n",
    "\n",
    "    for i in range(1, st.shape[0]):\n",
    "        p_min, p_max = st[i-1], st[i]\n",
    "        flag = (res_data['Power']>=p_min) & (res_data['Power']<=p_max)\n",
    "        sub_data = res_data[flag]\n",
    "        \n",
    "        # 拟合y=ax+b\n",
    "        x = sub_data['WindSpeed']\n",
    "        y = sub_data['Power']\n",
    "        if(x.shape[0]==0):\n",
    "            continue\n",
    "        a,b = np.polyfit(x,y,1)\n",
    "        # print(\"{}-{}: {}个点， y={:.2f}x+{:.2f}\".format(p_min, p_max, x.shape[0], a, b))\n",
    "\n",
    "        # 处理符合条件的点\n",
    "        # if(a>max_a):\n",
    "        #     continue\n",
    "\n",
    "        # 和拟合曲线差在max_diff以内\n",
    "        sub_data['diff'] = np.abs(sub_data['WindSpeed']*a+b-sub_data['Power'])\n",
    "        diff_idx = sub_data[sub_data['diff']<max_diff].index\n",
    "        tmp_idx = []\n",
    "\n",
    "        # diff_idx[0]忽略\n",
    "        for i in range(1, diff_idx.shape[0]):\n",
    "            cur_idx, pre_idx = diff_idx[i],diff_idx[i-1]\n",
    "            cur_windspeed, pre_windspeed = sub_data.loc[cur_idx, 'WindSpeed'], sub_data.loc[pre_idx, 'WindSpeed']\n",
    "\n",
    "            # print(\"idx: {}-{}, diff_idx: {}, diff_speed: {}, diff_power: {}\".format(pre_idx, cur_idx,cur_idx-pre_idx, cur_windspeed-pre_windspeed, sub_data.loc[cur_idx, 'Power']-sub_data.loc[pre_idx, 'Power']))\n",
    "            # 时间差在max_time以内，且windspeed差在min_speed以上\n",
    "            if(cur_idx-pre_idx<max_time and cur_windspeed-pre_windspeed>min_speed):\n",
    "                tmp_idx.append(cur_idx)\n",
    "                # print(\"idx: {}-{}, diff_idx: {}, diff_speed: {}, diff_power: {}\".format(pre_idx, cur_idx,cur_idx-pre_idx, cur_windspeed-pre_windspeed, sub_data.loc[cur_idx, 'Power']-sub_data.loc[pre_idx, 'Power']))\n",
    "            \n",
    "        tmp_idx = np.array(tmp_idx)\n",
    "        res_idx = np.concatenate((res_idx, tmp_idx))\n",
    "\n",
    "    res_data.loc[res_idx,'label'] = 1\n",
    "    return res_data, res_idx"
   ]
  },
  {
   "cell_type": "markdown",
   "metadata": {},
   "source": [
    "### 绘图函数"
   ]
  },
  {
   "cell_type": "code",
   "execution_count": 10,
   "metadata": {},
   "outputs": [],
   "source": [
    "def plot_current_data(current_data,rotor_num,save=False,file_path=None):\n",
    "    plt.figure(figsize=(16,4))\n",
    "\n",
    "    plt.subplot(141)\n",
    "    g_data = raw_data[raw_data['WindNumber']==rotor_num]\n",
    "    plt.plot(g_data['WindSpeed'],g_data['Power'], '.y', ms=4,label='origin data')\n",
    "    plt.ylim((-100,2200))\n",
    "    plt.xlim((-1,27))\n",
    "    plt.legend()\n",
    "\n",
    "\n",
    "    plt.subplot(142)\n",
    "    g_data = current_data\n",
    "    plt.plot(g_data['WindSpeed'],g_data['Power'], '.g', ms=4,label='origin data')\n",
    "    plt.ylim((-100,2200))\n",
    "    plt.xlim((-1,27))\n",
    "    plt.legend()\n",
    "\n",
    "    plt.subplot(143)\n",
    "    g_data = current_data.loc[current_data['label']!=1]\n",
    "    plt.plot(g_data['WindSpeed'],g_data['Power'], '.b', ms=4,label='normal data')\n",
    "    plt.ylim((-100,2200))\n",
    "    plt.xlim((-1,27))\n",
    "    plt.legend()\n",
    "\n",
    "    plt.subplot(144)\n",
    "    g_data = current_data.loc[current_data['label']==1]\n",
    "    plt.plot(g_data['WindSpeed'],g_data['Power'], '.r', ms=4,label='anomaly data')\n",
    "    plt.ylim((-100,2200))\n",
    "    plt.xlim((-1,27))\n",
    "    plt.legend()\n",
    "\n",
    "    if(save and file_path is not None):\n",
    "        plt.savefig(file_path)\n",
    "    plt.show()"
   ]
  },
  {
   "cell_type": "markdown",
   "metadata": {},
   "source": [
    "### 处理当前数据函数\n",
    "\n",
    "一整套流程，先去底部异常功率，再去中部异常，再横向四分法，最后纵向四分法，会自动更新到raw_data"
   ]
  },
  {
   "cell_type": "code",
   "execution_count": 11,
   "metadata": {},
   "outputs": [],
   "source": [
    "def process_current_data(current_data):\n",
    "    # 去底部异常\n",
    "    removed_neg_data, neg_power_idx = remove_neg_power(current_data, current_rotor)\n",
    "    current_data.loc[neg_power_idx, 'label']=1\n",
    "    print(\"bottom: {}\".format(neg_power_idx.shape))\n",
    "\n",
    "    # 去中部异常\n",
    "    removed_mid_data, mid_anomaly_idx = remove_mid_anomaly(current_data)\n",
    "    current_data.loc[mid_anomaly_idx, 'label']=1\n",
    "    print(\"mid: {}\".format(mid_anomaly_idx.shape))\n",
    "\n",
    "    # 横向四分法\n",
    "    horizonal_data, horizonal_anomaly_idx = horizonal_process(current_data)\n",
    "    current_data.loc[horizonal_anomaly_idx, 'label']=1\n",
    "    print(\"horizonal: {}\".format(horizonal_anomaly_idx.shape))\n",
    "\n",
    "    # 纵向四分法\n",
    "    vertical_data, vertical_anomaly_idx = vertical_process(current_data)\n",
    "    current_data.loc[vertical_anomaly_idx, 'label']=1\n",
    "    print(\"vertical: {}\".format(vertical_anomaly_idx.shape))\n",
    "\n",
    "    # 更新到raw_data\n",
    "    current_anomaly_idx = current_data[current_data['label']==1].index\n",
    "    print(\"sum of current anomaly data: {}\".format(current_anomaly_idx.shape))\n",
    "    \n",
    "    raw_data.loc[current_anomaly_idx, 'label']=1\n",
    "    print(\"sum of raw data anomaly data: {}\".format(np.sum(raw_data['label']==1)))"
   ]
  },
  {
   "cell_type": "markdown",
   "metadata": {},
   "source": [
    "## 测试各项函数"
   ]
  },
  {
   "cell_type": "markdown",
   "metadata": {},
   "source": [
    "### 测试四分法"
   ]
  },
  {
   "cell_type": "markdown",
   "metadata": {},
   "source": [
    "current_rotor = 1\n",
    "current_data = raw_data[raw_data['WindNumber']==current_rotor]"
   ]
  },
  {
   "cell_type": "markdown",
   "metadata": {},
   "source": [
    "horizonal_data, horizonal_anomaly_idx = horizonal_process(current_data)\n",
    "current_data.loc[horizonal_anomaly_idx, 'label']=1\n",
    "\n",
    "vertical_data, vertical_anomaly_idx = vertical_process(current_data)\n",
    "current_data.loc[vertical_anomaly_idx, 'label']=1"
   ]
  },
  {
   "cell_type": "markdown",
   "metadata": {},
   "source": [
    "len(horizonal_anomaly_idx), len(vertical_anomaly_idx)"
   ]
  },
  {
   "cell_type": "markdown",
   "metadata": {},
   "source": [
    "# horizonal test\n",
    "plt.figure(figsize=(16,5))\n",
    "plt.subplot(131)\n",
    "plt.plot(current_data['WindSpeed'],current_data['Power'], '.r', ms=4,label='origin data')\n",
    "plt.legend()\n",
    "plt.subplot(132)\n",
    "g_data = horizonal_data.loc[horizonal_anomaly_idx]\n",
    "plt.plot(g_data['WindSpeed'],g_data['Power'], '.r', ms=4,label='anomaly data')\n",
    "plt.legend()\n",
    "plt.subplot(133)\n",
    "g_data = horizonal_data.loc[horizonal_data['label']!=1]\n",
    "plt.plot(g_data['WindSpeed'],g_data['Power'], '.r', ms=4,label='normal data')\n",
    "plt.legend()"
   ]
  },
  {
   "cell_type": "markdown",
   "metadata": {},
   "source": [
    "# vertical test\n",
    "plt.figure(figsize=(16,5))\n",
    "plt.subplot(131)\n",
    "plt.plot(current_data['WindSpeed'],current_data['Power'], '.r', ms=4,label='origin data')\n",
    "plt.legend()\n",
    "plt.subplot(132)\n",
    "g_data = vertical_data.loc[vertical_anomaly_idx]\n",
    "plt.plot(g_data['WindSpeed'],g_data['Power'], '.r', ms=4,label='anomaly data')\n",
    "plt.legend()\n",
    "plt.subplot(133)\n",
    "g_data = vertical_data.loc[vertical_data['label']!=1]\n",
    "plt.plot(g_data['WindSpeed'],g_data['Power'], '.r', ms=4,label='normal data')\n",
    "plt.legend()"
   ]
  },
  {
   "cell_type": "markdown",
   "metadata": {},
   "source": [
    "### 测试去除底部异常功率数据"
   ]
  },
  {
   "cell_type": "markdown",
   "metadata": {},
   "source": [
    "current_rotor = 1\n",
    "current_data = raw_data[raw_data['WindNumber']==current_rotor]\n",
    "removed_neg_data, neg_power_idx = remove_neg_power(current_data, current_rotor)\n",
    "current_data.loc[neg_power_idx, 'label']=1"
   ]
  },
  {
   "cell_type": "markdown",
   "metadata": {},
   "source": [
    "current_data.shape[0],current_data[current_data['label']!=1].shape[0],current_data[current_data['label']==1].shape[0]"
   ]
  },
  {
   "cell_type": "markdown",
   "metadata": {},
   "source": [
    "plt.figure(figsize=(12,6))\n",
    "\n",
    "plt.subplot(121)\n",
    "g_data = current_data.loc[current_data['label']!=1]\n",
    "plt.plot(g_data['WindSpeed'],g_data['Power'], '.r', ms=4,label='normal data')\n",
    "plt.ylim((-100,2200))\n",
    "plt.legend()\n",
    "\n",
    "plt.subplot(122)\n",
    "g_data = current_data.loc[current_data['label']==1]\n",
    "plt.plot(g_data['WindSpeed'],g_data['Power'], '.r', ms=4,label='anomaly data')\n",
    "plt.ylim((-100,2200))\n",
    "plt.legend()\n",
    "plt.show()"
   ]
  },
  {
   "cell_type": "markdown",
   "metadata": {},
   "source": [
    "x = np.arange(11)\n",
    "y = 0.5*x+1\n",
    "plt.xlim((0,10))\n",
    "plt.ylim((0,10))\n",
    "plt.plot(x,y)"
   ]
  },
  {
   "cell_type": "markdown",
   "metadata": {},
   "source": [
    "### 测试去除mid限功率函数，基于Norm Data继续改"
   ]
  },
  {
   "cell_type": "markdown",
   "metadata": {},
   "source": [
    "current_rotor = 1\n",
    "current_data = raw_data[raw_data['WindNumber']==current_rotor]"
   ]
  },
  {
   "cell_type": "markdown",
   "metadata": {
    "tags": []
   },
   "source": [
    "tmp_data, mid_anomaly_idx = remove_mid_anomaly(current_data)\n",
    "current_data.loc[mid_anomaly_idx, 'label']=1"
   ]
  },
  {
   "cell_type": "markdown",
   "metadata": {},
   "source": [
    "current_data.shape[0],current_data[current_data['label']!=1].shape[0],current_data[current_data['label']==1].shape[0]"
   ]
  },
  {
   "cell_type": "markdown",
   "metadata": {},
   "source": [
    "plt.figure(figsize=(12,6))\n",
    "\n",
    "plt.subplot(121)\n",
    "g_data = current_data.loc[current_data['label']!=1]\n",
    "plt.plot(g_data['WindSpeed'],g_data['Power'], '.r', ms=4,label='normal data')\n",
    "plt.ylim((0,2200))\n",
    "plt.legend()\n",
    "\n",
    "plt.subplot(122)\n",
    "g_data = current_data.loc[current_data['label']==1]\n",
    "plt.plot(g_data['WindSpeed'],g_data['Power'], '.r', ms=4,label='anomaly data')\n",
    "plt.ylim((0,2200))\n",
    "plt.legend()\n",
    "plt.show()"
   ]
  },
  {
   "cell_type": "markdown",
   "metadata": {},
   "source": [
    "## 正式开始处理数据"
   ]
  },
  {
   "cell_type": "markdown",
   "metadata": {},
   "source": [
    "### 一号"
   ]
  },
  {
   "cell_type": "code",
   "execution_count": null,
   "metadata": {
    "tags": []
   },
   "outputs": [],
   "source": [
    "current_rotor = 1\n",
    "current_data = raw_data[raw_data['WindNumber']==current_rotor]\n",
    "\n",
    "process_current_data(current_data)"
   ]
  },
  {
   "cell_type": "code",
   "execution_count": null,
   "metadata": {},
   "outputs": [],
   "source": [
    "is_save=True\n",
    "line_num = 1\n",
    "fp = \"./figures/vp_{}_{}.png\".format(current_rotor,line_num)\n",
    "plot_current_data(current_data,rotor_num=current_rotor,save=is_save,file_path=fp)"
   ]
  },
  {
   "cell_type": "markdown",
   "metadata": {},
   "source": [
    "### 二号"
   ]
  },
  {
   "cell_type": "code",
   "execution_count": null,
   "metadata": {
    "tags": []
   },
   "outputs": [],
   "source": [
    "current_rotor = 2\n",
    "current_data = raw_data[raw_data['WindNumber']==current_rotor]\n",
    "# process_current_data(current_data)"
   ]
  },
  {
   "cell_type": "code",
   "execution_count": null,
   "metadata": {
    "tags": []
   },
   "outputs": [],
   "source": [
    "# 去底部异常\n",
    "removed_neg_data, neg_power_idx = remove_neg_power(current_data, current_rotor)\n",
    "current_data.loc[neg_power_idx, 'label']=1\n",
    "print(\"bottom: {}\".format(neg_power_idx.shape))\n",
    "\n",
    "# 去除最下面的线\n",
    "low_idx = current_data[((current_data['Month']==1) | (current_data['Month']==2) | (current_data['Month']==12)) & (current_data['WindSpeed']>9)].index\n",
    "current_data.loc[low_idx, 'label']=1\n",
    "print(\"low line: {}\".format(low_idx.shape))\n",
    "\n",
    "# 去中部异常\n",
    "removed_mid_data, mid_anomaly_idx = remove_mid_anomaly(current_data, max_time=9, max_diff=8, power_step=20)\n",
    "current_data.loc[mid_anomaly_idx, 'label']=1\n",
    "print(\"mid: {}\".format(mid_anomaly_idx.shape))\n",
    "\n",
    "# 横向四分法\n",
    "horizonal_data, horizonal_anomaly_idx = horizonal_process(current_data,low_coef=2.5,up_coef=2.8)\n",
    "current_data.loc[horizonal_anomaly_idx, 'label']=1\n",
    "print(\"horizonal: {}\".format(horizonal_anomaly_idx.shape))\n",
    "\n",
    "# # 纵向四分法\n",
    "vertical_data, vertical_anomaly_idx = vertical_process(current_data[current_data['WindSpeed']>8])\n",
    "current_data.loc[vertical_anomaly_idx, 'label']=1\n",
    "print(\"vertical: {}\".format(vertical_anomaly_idx.shape))\n",
    "\n",
    "# 横向四分法\n",
    "horizonal_data, horizonal_anomaly_idx = horizonal_process(current_data,low_coef=2,up_coef=1)\n",
    "current_data.loc[horizonal_anomaly_idx, 'label']=1\n",
    "print(\"horizonal: {}\".format(horizonal_anomaly_idx.shape))\n"
   ]
  },
  {
   "cell_type": "code",
   "execution_count": null,
   "metadata": {},
   "outputs": [],
   "source": [
    "is_save=True\n",
    "line_num = 1\n",
    "fp = './figures/vp_{}_{}.png'.format(current_rotor,line_num)\n",
    "plot_current_data(current_data,rotor_num=current_rotor,save=is_save,file_path=fp)"
   ]
  },
  {
   "cell_type": "code",
   "execution_count": null,
   "metadata": {
    "tags": []
   },
   "outputs": [],
   "source": [
    "# 更新到raw_data\n",
    "current_anomaly_idx = current_data[current_data['label']==1].index\n",
    "print(\"sum of current anomaly data: {}\".format(current_anomaly_idx.shape))\n",
    "\n",
    "raw_data.loc[current_anomaly_idx, 'label']=1\n",
    "print(\"sum of raw data anomaly data: {}\".format(np.sum(raw_data['label']==1)))"
   ]
  },
  {
   "cell_type": "markdown",
   "metadata": {},
   "source": [
    "### 三号\n",
    "\n",
    "- **三号风机两条曲线数据**\n",
    "\n",
    "1. 第一条到达额定功率2000曲线\n",
    "    - 5,6,7月，4月12-31号，8月1-21号，10月29号\\[99:], 30号\\[:50]\n",
    "2. 第二条功率1000左右的\n",
    "    - 1,2,3,9,11,12, 4月1-11号，8月22-31号，10月1-28号,29号\\[:99], 30号\\[50:]"
   ]
  },
  {
   "cell_type": "markdown",
   "metadata": {},
   "source": [
    "#### 3.1 三号第一条线"
   ]
  },
  {
   "cell_type": "code",
   "execution_count": null,
   "metadata": {
    "tags": []
   },
   "outputs": [],
   "source": [
    "current_rotor = 3\n",
    "# 处理第一条线 5,6,7月，4月18-31号，8月1-21号\n",
    "current_data = raw_data[raw_data['WindNumber']==current_rotor]\n",
    "\n",
    "oct29_data = current_data[((current_data['Month']==10) & (current_data['Day']==29))][99:]\n",
    "oct30_data = current_data[((current_data['Month']==10) & (current_data['Day']==30))][:50]\n",
    "\n",
    "current_data = current_data[(current_data['Month']==5) | (current_data['Month']==6) | (current_data['Month']==7) | ( (current_data['Month']==4) & (current_data['Day']>=12) ) | ( (current_data['Month']==8) & (current_data['Day']<=21) )]\n",
    "current_data = pd.concat([current_data, oct29_data, oct30_data])\n",
    "\n",
    "# process_current_data(current_data)"
   ]
  },
  {
   "cell_type": "code",
   "execution_count": null,
   "metadata": {
    "tags": []
   },
   "outputs": [],
   "source": [
    "# 去底部异常\n",
    "removed_neg_data, neg_power_idx = remove_neg_power(current_data, current_rotor)\n",
    "current_data.loc[neg_power_idx, 'label']=1\n",
    "print(\"bottom: {}\".format(neg_power_idx.shape))\n",
    "# 应用横部四分法\n",
    "horizonal_data, horizonal_anomaly_idx = horizonal_process(current_data,low_coef=1.5, up_coef=1.5)\n",
    "current_data.loc[horizonal_anomaly_idx, 'label']=1\n",
    "print(\"horizonal: {}\".format(horizonal_anomaly_idx.shape))\n",
    "\n",
    "\n",
    "vertical_data, vertical_anomaly_idx = vertical_process(current_data, low_coef=2, up_coef=2)\n",
    "current_data.loc[vertical_anomaly_idx, 'label']=1\n",
    "print(\"vertical: {}\".format(vertical_anomaly_idx.shape))"
   ]
  },
  {
   "cell_type": "code",
   "execution_count": null,
   "metadata": {},
   "outputs": [],
   "source": [
    "is_save=True\n",
    "line_num = 1\n",
    "fp = './figures/vp_{}_{}.png'.format(current_rotor,line_num)\n",
    "plot_current_data(current_data,rotor_num=current_rotor,save=is_save,file_path=fp)"
   ]
  },
  {
   "cell_type": "code",
   "execution_count": null,
   "metadata": {
    "tags": []
   },
   "outputs": [],
   "source": [
    "# 更新到raw_data\n",
    "current_anomaly_idx = current_data[current_data['label']==1].index\n",
    "print(\"sum of current anomaly data: {}\".format(current_anomaly_idx.shape))\n",
    "\n",
    "raw_data.loc[current_anomaly_idx, 'label']=1\n",
    "print(\"sum of raw data anomaly data: {}\".format(np.sum(raw_data['label']==1)))"
   ]
  },
  {
   "cell_type": "markdown",
   "metadata": {},
   "source": [
    "#### 3.2 三号第二条线"
   ]
  },
  {
   "cell_type": "code",
   "execution_count": null,
   "metadata": {
    "tags": []
   },
   "outputs": [],
   "source": [
    "current_rotor = 3\n",
    "# 处理第二条线 1,2,3,9,11,12, 4月1-11号，8月22-31号，10月1-28号,29号[:99], 30号[50:]\n",
    "current_data = raw_data[raw_data['WindNumber']==current_rotor]\n",
    "\n",
    "oct29_data = current_data[((current_data['Month']==10) & (current_data['Day']==29))][:99]\n",
    "oct30_data = current_data[((current_data['Month']==10) & (current_data['Day']==30))][50:]\n",
    "\n",
    "current_data = current_data[(current_data['Month']==1) | (current_data['Month']==2) | (current_data['Month']==3) | (current_data['Month']==9) | (current_data['Month']==11) | (current_data['Month']==12) | ( (current_data['Month']==4) & (current_data['Day']<12) ) | ( (current_data['Month']==8) & (current_data['Day']>21) ) | ( (current_data['Month']==10) & (current_data['Day']<29) )]\n",
    "current_data = pd.concat([current_data, oct29_data, oct30_data])\n",
    "\n",
    "# process_current_data(current_data)"
   ]
  },
  {
   "cell_type": "code",
   "execution_count": null,
   "metadata": {
    "tags": []
   },
   "outputs": [],
   "source": [
    "# # 去底部异常\n",
    "# removed_neg_data, neg_power_idx = remove_neg_power(current_data, current_rotor)\n",
    "# current_data.loc[neg_power_idx, 'label']=1\n",
    "# print(\"bottom: {}\".format(neg_power_idx.shape))\n",
    "# # 应用横部四分法\n",
    "# horizonal_data, horizonal_anomaly_idx = horizonal_process(current_data,low_coef=1.7, up_coef=1.9)\n",
    "# current_data.loc[horizonal_anomaly_idx, 'label']=1\n",
    "# print(\"horizonal: {}\".format(horizonal_anomaly_idx.shape))"
   ]
  },
  {
   "cell_type": "code",
   "execution_count": null,
   "metadata": {},
   "outputs": [],
   "source": [
    "current_data['label']=1"
   ]
  },
  {
   "cell_type": "code",
   "execution_count": null,
   "metadata": {},
   "outputs": [],
   "source": [
    "is_save=True\n",
    "line_num = 2\n",
    "fp = './figures/vp_{}_{}.png'.format(current_rotor,line_num)\n",
    "plot_current_data(current_data,rotor_num=current_rotor,save=is_save,file_path=fp)"
   ]
  },
  {
   "cell_type": "code",
   "execution_count": null,
   "metadata": {
    "tags": []
   },
   "outputs": [],
   "source": [
    "# 全部当作异常点\n",
    "current_anomaly_idx = current_data.index\n",
    "print(\"sum of current anomaly data: {}\".format(current_anomaly_idx.shape))\n",
    "\n",
    "raw_data.loc[current_anomaly_idx, 'label']=1\n",
    "print(\"sum of raw data anomaly data: {}\".format(np.sum(raw_data['label']==1)))"
   ]
  },
  {
   "cell_type": "markdown",
   "metadata": {},
   "source": [
    "### 四号"
   ]
  },
  {
   "cell_type": "code",
   "execution_count": null,
   "metadata": {
    "tags": []
   },
   "outputs": [],
   "source": [
    "current_rotor = 4\n",
    "current_data = raw_data[raw_data['WindNumber']==current_rotor]\n",
    "# process_current_data(current_data)"
   ]
  },
  {
   "cell_type": "code",
   "execution_count": null,
   "metadata": {
    "tags": []
   },
   "outputs": [],
   "source": [
    "# 去底部异常\n",
    "removed_neg_data, neg_power_idx = remove_neg_power(current_data, current_rotor)\n",
    "current_data.loc[neg_power_idx, 'label']=1\n",
    "print(\"bottom: {}\".format(neg_power_idx.shape))\n",
    "\n",
    "# 横向四分法\n",
    "horizonal_data, horizonal_anomaly_idx = horizonal_process(current_data, low_coef=4, up_coef=3)\n",
    "current_data.loc[horizonal_anomaly_idx, 'label']=1\n",
    "print(\"horizonal: {}\".format(horizonal_anomaly_idx.shape))\n",
    "\n",
    "# 纵向四分法\n",
    "vertical_data, vertical_anomaly_idx = vertical_process(current_data, low_coef=2, up_coef=2)\n",
    "current_data.loc[vertical_anomaly_idx, 'label']=1\n",
    "print(\"vertical: {}\".format(vertical_anomaly_idx.shape))"
   ]
  },
  {
   "cell_type": "code",
   "execution_count": null,
   "metadata": {},
   "outputs": [],
   "source": [
    "is_save=True\n",
    "line_num = 1\n",
    "fp = './figures/vp_{}_{}.png'.format(current_rotor,line_num)\n",
    "plot_current_data(current_data,rotor_num=current_rotor,save=is_save,file_path=fp)"
   ]
  },
  {
   "cell_type": "code",
   "execution_count": null,
   "metadata": {
    "tags": []
   },
   "outputs": [],
   "source": [
    "# 更新到raw_data\n",
    "current_anomaly_idx = current_data[current_data['label']==1].index\n",
    "print(\"sum of current anomaly data: {}\".format(current_anomaly_idx.shape))\n",
    "\n",
    "raw_data.loc[current_anomaly_idx, 'label']=1\n",
    "print(\"sum of raw data anomaly data: {}\".format(np.sum(raw_data['label']==1)))"
   ]
  },
  {
   "cell_type": "markdown",
   "metadata": {},
   "source": [
    "### 五号"
   ]
  },
  {
   "cell_type": "code",
   "execution_count": null,
   "metadata": {
    "tags": []
   },
   "outputs": [],
   "source": [
    "current_rotor = 5\n",
    "current_data = raw_data[raw_data['WindNumber']==current_rotor]\n",
    "# process_current_data(current_data)"
   ]
  },
  {
   "cell_type": "code",
   "execution_count": null,
   "metadata": {
    "tags": []
   },
   "outputs": [],
   "source": [
    "# 去底部异常\n",
    "removed_neg_data, neg_power_idx = remove_neg_power(current_data, current_rotor)\n",
    "current_data.loc[neg_power_idx, 'label']=1\n",
    "print(\"bottom: {}\".format(neg_power_idx.shape))\n",
    "\n",
    "# 去中部异常\n",
    "removed_mid_data, mid_anomaly_idx = remove_mid_anomaly(current_data)\n",
    "current_data.loc[mid_anomaly_idx, 'label']=1\n",
    "print(\"mid: {}\".format(mid_anomaly_idx.shape))\n",
    "\n",
    "# 横向四分法\n",
    "horizonal_data, horizonal_anomaly_idx = horizonal_process(current_data, low_coef=5, up_coef=4)\n",
    "current_data.loc[horizonal_anomaly_idx, 'label']=1\n",
    "print(\"horizonal: {}\".format(horizonal_anomaly_idx.shape))\n"
   ]
  },
  {
   "cell_type": "code",
   "execution_count": null,
   "metadata": {
    "tags": []
   },
   "outputs": [],
   "source": [
    "# 纵向四分法\n",
    "vertical_data, vertical_anomaly_idx = vertical_process(current_data, low_coef=1.5, up_coef=3)\n",
    "current_data.loc[vertical_anomaly_idx, 'label']=1\n",
    "print(\"vertical: {}\".format(vertical_anomaly_idx.shape))"
   ]
  },
  {
   "cell_type": "code",
   "execution_count": null,
   "metadata": {},
   "outputs": [],
   "source": [
    "is_save=True\n",
    "line_num = 1\n",
    "fp = './figures/vp_{}_{}.png'.format(current_rotor,line_num)\n",
    "plot_current_data(current_data,rotor_num=current_rotor,save=is_save,file_path=fp)"
   ]
  },
  {
   "cell_type": "code",
   "execution_count": null,
   "metadata": {
    "tags": []
   },
   "outputs": [],
   "source": [
    "# 更新到raw_data\n",
    "current_anomaly_idx = current_data[current_data['label']==1].index\n",
    "print(\"sum of current anomaly data: {}\".format(current_anomaly_idx.shape))\n",
    "\n",
    "raw_data.loc[current_anomaly_idx, 'label']=1\n",
    "print(\"sum of raw data anomaly data: {}\".format(np.sum(raw_data['label']==1)))"
   ]
  },
  {
   "cell_type": "markdown",
   "metadata": {},
   "source": [
    "### 六号\n",
    "\n",
    "1. 第一条到达额定功率2000曲线\n",
    "    - 9，10月\n",
    "2. 从下往上第二条功率1000左右的\n",
    "    - 5月18-31号，6，7，8月\n",
    "3. 最下面功率800左右的\n",
    "    - 1，2，3，4，11，12月，5月1-17号"
   ]
  },
  {
   "cell_type": "code",
   "execution_count": null,
   "metadata": {
    "tags": []
   },
   "outputs": [],
   "source": [
    "current_rotor = 6\n",
    "# 处理第一条线 9，10月\n",
    "current_data = raw_data[raw_data['WindNumber']==current_rotor]\n",
    "current_data = current_data[(current_data['Month']==9) | (current_data['Month']==10)]\n",
    "# process_current_data(current_data)"
   ]
  },
  {
   "cell_type": "markdown",
   "metadata": {},
   "source": [
    "#### 6.1 六号第一条线"
   ]
  },
  {
   "cell_type": "code",
   "execution_count": null,
   "metadata": {
    "tags": []
   },
   "outputs": [],
   "source": [
    "vertical_data, vertical_anomaly_idx = vertical_process(current_data)\n",
    "current_data.loc[vertical_anomaly_idx, 'label']=1\n",
    "print(\"vertical: {}\".format(vertical_anomaly_idx.shape))"
   ]
  },
  {
   "cell_type": "code",
   "execution_count": null,
   "metadata": {},
   "outputs": [],
   "source": [
    "is_save=True\n",
    "line_num = 1\n",
    "fp = './figures/vp_{}_{}.png'.format(current_rotor,line_num)\n",
    "plot_current_data(current_data,rotor_num=current_rotor,save=is_save,file_path=fp)"
   ]
  },
  {
   "cell_type": "code",
   "execution_count": null,
   "metadata": {
    "tags": []
   },
   "outputs": [],
   "source": [
    "# 更新到raw_data\n",
    "current_anomaly_idx = current_data[current_data['label']==1].index\n",
    "print(\"sum of current anomaly data: {}\".format(current_anomaly_idx.shape))\n",
    "\n",
    "raw_data.loc[current_anomaly_idx, 'label']=1\n",
    "print(\"sum of raw data anomaly data: {}\".format(np.sum(raw_data['label']==1)))"
   ]
  },
  {
   "cell_type": "markdown",
   "metadata": {},
   "source": [
    "#### 6.2 六号第二条线"
   ]
  },
  {
   "cell_type": "code",
   "execution_count": null,
   "metadata": {
    "tags": []
   },
   "outputs": [],
   "source": [
    "current_rotor = 6\n",
    "# 处理第二条线 5月18-31号，6，7，8月\n",
    "current_data = raw_data[raw_data['WindNumber']==current_rotor]\n",
    "current_data = current_data[(current_data['Month']==6) | (current_data['Month']==7) | (current_data['Month']==8) | ( (current_data['Month']==5) & (current_data['Day']>=18) ) ]\n",
    "# process_current_data(current_data)"
   ]
  },
  {
   "cell_type": "code",
   "execution_count": null,
   "metadata": {
    "tags": []
   },
   "outputs": [],
   "source": [
    "# # 去底部异常\n",
    "# removed_neg_data, neg_power_idx = remove_neg_power(current_data, current_rotor)\n",
    "# current_data.loc[neg_power_idx, 'label']=1\n",
    "# print(\"bottom: {}\".format(neg_power_idx.shape))\n",
    "\n",
    "# # 横向四分法\n",
    "# horizonal_data, horizonal_anomaly_idx = horizonal_process(current_data,low_coef=2, up_coef=2.5)\n",
    "# current_data.loc[horizonal_anomaly_idx, 'label']=1\n",
    "# print(\"horizonal: {}\".format(horizonal_anomaly_idx.shape))"
   ]
  },
  {
   "cell_type": "code",
   "execution_count": null,
   "metadata": {},
   "outputs": [],
   "source": [
    "current_data['label']=1"
   ]
  },
  {
   "cell_type": "code",
   "execution_count": null,
   "metadata": {},
   "outputs": [],
   "source": [
    "is_save=True\n",
    "line_num = 2\n",
    "fp = './figures/vp_{}_{}.png'.format(current_rotor,line_num)\n",
    "plot_current_data(current_data,rotor_num=current_rotor,save=is_save,file_path=fp)"
   ]
  },
  {
   "cell_type": "code",
   "execution_count": null,
   "metadata": {
    "tags": []
   },
   "outputs": [],
   "source": [
    "# 全部当作异常\n",
    "current_anomaly_idx = current_data[current_data['label']==1].index\n",
    "print(\"sum of current anomaly data: {}\".format(current_anomaly_idx.shape))\n",
    "\n",
    "raw_data.loc[current_anomaly_idx, 'label']=1\n",
    "print(\"sum of raw data anomaly data: {}\".format(np.sum(raw_data['label']==1)))"
   ]
  },
  {
   "cell_type": "markdown",
   "metadata": {},
   "source": [
    "#### 6.3 六号第三条曲线"
   ]
  },
  {
   "cell_type": "code",
   "execution_count": null,
   "metadata": {
    "tags": []
   },
   "outputs": [],
   "source": [
    "current_rotor = 6\n",
    "# 处理第三条线 1，2，3，4，11，12月，5月1-17号\n",
    "current_data = raw_data[raw_data['WindNumber']==current_rotor]\n",
    "current_data = current_data[(current_data['Month']==1) | (current_data['Month']==2) | (current_data['Month']==3)  | (current_data['Month']==4) | (current_data['Month']==11) | (current_data['Month']==12) | ( (current_data['Month']==5) & (current_data['Day']<18) ) ]\n",
    "# process_current_data(current_data)"
   ]
  },
  {
   "cell_type": "code",
   "execution_count": null,
   "metadata": {
    "tags": []
   },
   "outputs": [],
   "source": [
    "# # 去底部异常\n",
    "# removed_neg_data, neg_power_idx = remove_neg_power(current_data, current_rotor)\n",
    "# current_data.loc[neg_power_idx, 'label']=1\n",
    "# print(\"bottom: {}\".format(neg_power_idx.shape))\n",
    "\n",
    "# # 去中部异常\n",
    "# removed_mid_data, mid_anomaly_idx = remove_mid_anomaly(current_data)\n",
    "# current_data.loc[mid_anomaly_idx, 'label']=1\n",
    "# print(\"mid: {}\".format(mid_anomaly_idx.shape))\n",
    "\n",
    "# # 横向四分法\n",
    "# horizonal_data, horizonal_anomaly_idx = horizonal_process(current_data, low_coef=2.5, up_coef=3.5)\n",
    "# current_data.loc[horizonal_anomaly_idx, 'label']=1\n",
    "# print(\"horizonal: {}\".format(horizonal_anomaly_idx.shape))\n",
    "\n",
    "# # 纵向四分法\n",
    "# vertical_data, vertical_anomaly_idx = vertical_process(current_data, low_coef=1.5, up_coef=1.5)\n",
    "# current_data.loc[vertical_anomaly_idx, 'label']=1\n",
    "# print(\"vertical: {}\".format(vertical_anomaly_idx.shape))"
   ]
  },
  {
   "cell_type": "code",
   "execution_count": null,
   "metadata": {},
   "outputs": [],
   "source": [
    "current_data['label']=1"
   ]
  },
  {
   "cell_type": "code",
   "execution_count": null,
   "metadata": {},
   "outputs": [],
   "source": [
    "is_save=True\n",
    "line_num = 3\n",
    "fp = './figures/vp_{}_{}.png'.format(current_rotor,line_num)\n",
    "plot_current_data(current_data,rotor_num=current_rotor,save=is_save,file_path=fp)"
   ]
  },
  {
   "cell_type": "code",
   "execution_count": null,
   "metadata": {
    "tags": []
   },
   "outputs": [],
   "source": [
    "# 更新到raw_data\n",
    "current_anomaly_idx = current_data[current_data['label']==1].index\n",
    "print(\"sum of current anomaly data: {}\".format(current_anomaly_idx.shape))\n",
    "\n",
    "raw_data.loc[current_anomaly_idx, 'label']=1\n",
    "print(\"sum of raw data anomaly data: {}\".format(np.sum(raw_data['label']==1)))"
   ]
  },
  {
   "cell_type": "markdown",
   "metadata": {},
   "source": [
    "### 七号\n",
    "\n",
    "1. 左边曲线\n",
    "    - 9月10-17号\n",
    "2. 右边曲线\n",
    "    - 除了9月，加上0月1-9号，>=18号"
   ]
  },
  {
   "cell_type": "markdown",
   "metadata": {},
   "source": [
    "#### 7.1 七号第一条"
   ]
  },
  {
   "cell_type": "code",
   "execution_count": null,
   "metadata": {
    "tags": []
   },
   "outputs": [],
   "source": [
    "current_rotor = 7\n",
    "# 处理左边，9月10-17\n",
    "current_data = raw_data[raw_data['WindNumber']==current_rotor]\n",
    "current_data = current_data[( (current_data['Month']==9) & (current_data['Day']<=17) & (current_data['Day']>=10))]\n",
    "# process_current_data(current_data)"
   ]
  },
  {
   "cell_type": "code",
   "execution_count": null,
   "metadata": {
    "tags": []
   },
   "outputs": [],
   "source": [
    "# 去底部异常\n",
    "# removed_neg_data, neg_power_idx = remove_neg_power(current_data, current_rotor)\n",
    "# current_data.loc[neg_power_idx, 'label']=1\n",
    "# print(\"bottom: {}\".format(neg_power_idx.shape))\n",
    "\n",
    "# # 纵向四分法\n",
    "# vertical_data, vertical_anomaly_idx = vertical_process(current_data, low_coef=1.5, up_coef=1.5)\n",
    "# current_data.loc[vertical_anomaly_idx, 'label']=1\n",
    "# print(\"vertical: {}\".format(vertical_anomaly_idx.shape))\n",
    "\n",
    "# 全部当作异常\n",
    "current_data['label']=1"
   ]
  },
  {
   "cell_type": "markdown",
   "metadata": {},
   "source": [
    "#### 如果加上去掉功率异常的, 会导致下面去掉一条线, 是因为在切入风速以内,有power"
   ]
  },
  {
   "cell_type": "code",
   "execution_count": null,
   "metadata": {},
   "outputs": [],
   "source": [
    "is_save=True\n",
    "line_num = 1\n",
    "fp = './figures/vp_{}_{}.png'.format(current_rotor,line_num)\n",
    "plot_current_data(current_data,rotor_num=current_rotor,save=is_save,file_path=fp)"
   ]
  },
  {
   "cell_type": "code",
   "execution_count": null,
   "metadata": {
    "tags": []
   },
   "outputs": [],
   "source": [
    "# 更新到raw_data\n",
    "current_anomaly_idx = current_data[current_data['label']==1].index\n",
    "print(\"sum of current anomaly data: {}\".format(current_anomaly_idx.shape))\n",
    "\n",
    "raw_data.loc[current_anomaly_idx, 'label']=1\n",
    "print(\"sum of raw data anomaly data: {}\".format(np.sum(raw_data['label']==1)))"
   ]
  },
  {
   "cell_type": "markdown",
   "metadata": {},
   "source": [
    "#### 7.2 七号第二条"
   ]
  },
  {
   "cell_type": "code",
   "execution_count": null,
   "metadata": {
    "tags": []
   },
   "outputs": [],
   "source": [
    "current_rotor = 7\n",
    "# 处理右边，除了9月，加上9月1-9号，>=18号\n",
    "current_data = raw_data[raw_data['WindNumber']==current_rotor]\n",
    "\n",
    "sep_data = current_data[( (current_data['Month']==9) & (current_data['Day']>=18) ) | ((current_data['Month']==9) & (current_data['Day']<10))]\n",
    "\n",
    "current_data = current_data[( (current_data['Month']==1) | (current_data['Month']==2) | (current_data['Month']==3) | (current_data['Month']==4) | (current_data['Month']==5) | (current_data['Month']==6) | (current_data['Month']==7) | (current_data['Month']==8) | (current_data['Month']==10) | (current_data['Month']==11) | (current_data['Month']==12))]\n",
    "current_data = pd.concat([current_data, sep_data])\n",
    "\n",
    "# process_current_data(current_data)"
   ]
  },
  {
   "cell_type": "code",
   "execution_count": null,
   "metadata": {
    "tags": []
   },
   "outputs": [],
   "source": [
    "# 去底部异常\n",
    "removed_neg_data, neg_power_idx = remove_neg_power(current_data, current_rotor)\n",
    "current_data.loc[neg_power_idx, 'label']=1\n",
    "print(\"bottom: {}\".format(neg_power_idx.shape))\n",
    "\n",
    "# 去中部异常\n",
    "removed_mid_data, mid_anomaly_idx = remove_mid_anomaly(current_data)\n",
    "current_data.loc[mid_anomaly_idx, 'label']=1\n",
    "print(\"mid: {}\".format(mid_anomaly_idx.shape))\n",
    "\n",
    "# 横向四分法\n",
    "horizonal_data, horizonal_anomaly_idx = horizonal_process(current_data, low_coef=1.5, up_coef=1.7)\n",
    "current_data.loc[horizonal_anomaly_idx, 'label']=1\n",
    "print(\"horizonal: {}\".format(horizonal_anomaly_idx.shape))\n",
    "\n",
    "# 纵向四分法\n",
    "vertical_data, vertical_anomaly_idx = vertical_process(current_data)\n",
    "current_data.loc[vertical_anomaly_idx, 'label']=1\n",
    "print(\"vertical: {}\".format(vertical_anomaly_idx.shape))"
   ]
  },
  {
   "cell_type": "code",
   "execution_count": null,
   "metadata": {},
   "outputs": [],
   "source": [
    "is_save=True\n",
    "line_num = 2\n",
    "fp = './figures/vp_{}_{}.png'.format(current_rotor,line_num)\n",
    "plot_current_data(current_data,rotor_num=current_rotor,save=is_save,file_path=fp)"
   ]
  },
  {
   "cell_type": "code",
   "execution_count": null,
   "metadata": {
    "tags": []
   },
   "outputs": [],
   "source": [
    "# 更新到raw_data\n",
    "current_anomaly_idx = current_data[current_data['label']==1].index\n",
    "print(\"sum of current anomaly data: {}\".format(current_anomaly_idx.shape))\n",
    "\n",
    "raw_data.loc[current_anomaly_idx, 'label']=1\n",
    "print(\"sum of raw data anomaly data: {}\".format(np.sum(raw_data['label']==1)))"
   ]
  },
  {
   "cell_type": "markdown",
   "metadata": {},
   "source": [
    "### 八号"
   ]
  },
  {
   "cell_type": "code",
   "execution_count": null,
   "metadata": {
    "tags": []
   },
   "outputs": [],
   "source": [
    "current_rotor = 8\n",
    "current_data = raw_data[raw_data['WindNumber']==current_rotor]\n",
    "# process_current_data(current_data)"
   ]
  },
  {
   "cell_type": "code",
   "execution_count": null,
   "metadata": {
    "tags": []
   },
   "outputs": [],
   "source": [
    "# 去底部异常\n",
    "removed_neg_data, neg_power_idx = remove_neg_power(current_data, current_rotor)\n",
    "current_data.loc[neg_power_idx, 'label']=1\n",
    "print(\"bottom: {}\".format(neg_power_idx.shape))\n",
    "\n",
    "# 去中部异常\n",
    "removed_mid_data, mid_anomaly_idx = remove_mid_anomaly(current_data,max_diff=2,max_time=6)\n",
    "current_data.loc[mid_anomaly_idx, 'label']=1\n",
    "print(\"mid: {}\".format(mid_anomaly_idx.shape))\n",
    "\n",
    "# 横向四分法\n",
    "horizonal_data, horizonal_anomaly_idx = horizonal_process(current_data, low_coef=1.5, up_coef=2.2)\n",
    "current_data.loc[horizonal_anomaly_idx, 'label']=1\n",
    "print(\"horizonal: {}\".format(horizonal_anomaly_idx.shape))\n",
    "\n",
    "# 纵向四分法\n",
    "vertical_data, vertical_anomaly_idx = vertical_process(current_data, up_coef=2.2)\n",
    "current_data.loc[vertical_anomaly_idx, 'label']=1\n",
    "print(\"vertical: {}\".format(vertical_anomaly_idx.shape))"
   ]
  },
  {
   "cell_type": "code",
   "execution_count": null,
   "metadata": {},
   "outputs": [],
   "source": [
    "is_save=True\n",
    "line_num = 1\n",
    "fp = './figures/vp_{}_{}.png'.format(current_rotor,line_num)\n",
    "plot_current_data(current_data,rotor_num=current_rotor,save=is_save,file_path=fp)"
   ]
  },
  {
   "cell_type": "code",
   "execution_count": null,
   "metadata": {
    "tags": []
   },
   "outputs": [],
   "source": [
    "# 更新到raw_data\n",
    "current_anomaly_idx = current_data[current_data['label']==1].index\n",
    "print(\"sum of current anomaly data: {}\".format(current_anomaly_idx.shape))\n",
    "\n",
    "raw_data.loc[current_anomaly_idx, 'label']=1\n",
    "print(\"sum of raw data anomaly data: {}\".format(np.sum(raw_data['label']==1)))"
   ]
  },
  {
   "cell_type": "markdown",
   "metadata": {},
   "source": [
    "### 九号\n",
    "\n",
    "1. 上边曲线\n",
    "    - 9，10月，8月>26号\n",
    "2. 下边曲线\n",
    "    - 除了9月，10月的月份，其中八月：1-26号"
   ]
  },
  {
   "cell_type": "markdown",
   "metadata": {},
   "source": [
    "#### 9.1 九号第一条"
   ]
  },
  {
   "cell_type": "code",
   "execution_count": null,
   "metadata": {
    "tags": []
   },
   "outputs": [],
   "source": [
    "current_rotor = 9\n",
    "# 处理左边，9月，10月，8月>26号\n",
    "current_data = raw_data[raw_data['WindNumber']==current_rotor]\n",
    "current_data = current_data[( (current_data['Month']==9) | (current_data['Month']==10) | ((current_data['Month']==8) & (current_data['Day']>26)))]\n",
    "# process_current_data(current_data)"
   ]
  },
  {
   "cell_type": "code",
   "execution_count": null,
   "metadata": {
    "tags": []
   },
   "outputs": [],
   "source": [
    "# 去底部异常\n",
    "removed_neg_data, neg_power_idx = remove_neg_power(current_data, current_rotor)\n",
    "current_data.loc[neg_power_idx, 'label']=1\n",
    "print(\"bottom: {}\".format(neg_power_idx.shape))\n",
    "\n",
    "# 去中部异常\n",
    "removed_mid_data, mid_anomaly_idx = remove_mid_anomaly(current_data)\n",
    "current_data.loc[mid_anomaly_idx, 'label']=1\n",
    "print(\"mid: {}\".format(mid_anomaly_idx.shape))\n",
    "\n",
    "# 横向四分法\n",
    "horizonal_data, horizonal_anomaly_idx = horizonal_process(current_data,up_coef=2.6)\n",
    "current_data.loc[horizonal_anomaly_idx, 'label']=1\n",
    "print(\"horizonal: {}\".format(horizonal_anomaly_idx.shape))\n",
    "\n",
    "# # 纵向四分法\n",
    "vertical_data, vertical_anomaly_idx = vertical_process(current_data)\n",
    "current_data.loc[vertical_anomaly_idx, 'label']=1\n",
    "print(\"vertical: {}\".format(vertical_anomaly_idx.shape))"
   ]
  },
  {
   "cell_type": "code",
   "execution_count": null,
   "metadata": {},
   "outputs": [],
   "source": [
    "is_save=True\n",
    "line_num = 1\n",
    "fp = './figures/vp_{}_{}.png'.format(current_rotor,line_num)\n",
    "plot_current_data(current_data,rotor_num=current_rotor,save=is_save,file_path=fp)"
   ]
  },
  {
   "cell_type": "code",
   "execution_count": null,
   "metadata": {
    "tags": []
   },
   "outputs": [],
   "source": [
    "# 更新到raw_data\n",
    "current_anomaly_idx = current_data[current_data['label']==1].index\n",
    "print(\"sum of current anomaly data: {}\".format(current_anomaly_idx.shape))\n",
    "\n",
    "raw_data.loc[current_anomaly_idx, 'label']=1\n",
    "print(\"sum of raw data anomaly data: {}\".format(np.sum(raw_data['label']==1)))"
   ]
  },
  {
   "cell_type": "markdown",
   "metadata": {},
   "source": [
    "#### 9.2 九号第二条线"
   ]
  },
  {
   "cell_type": "code",
   "execution_count": null,
   "metadata": {
    "tags": []
   },
   "outputs": [],
   "source": [
    "current_rotor = 9\n",
    "# 处理下边，除了9月，10月的月份，其中八月：1-26号\n",
    "current_data = raw_data[raw_data['WindNumber']==current_rotor]\n",
    "\n",
    "current_data = current_data[( (current_data['Month']==1) | (current_data['Month']==2) | (current_data['Month']==3) | (current_data['Month']==4) | (current_data['Month']==5) | (current_data['Month']==6) | (current_data['Month']==7) | (current_data['Month']==11) | (current_data['Month']==12) | ((current_data['Month']==8) & (current_data['Day']<=26)) )]\n",
    "\n",
    "# process_current_data(current_data)"
   ]
  },
  {
   "cell_type": "code",
   "execution_count": null,
   "metadata": {
    "tags": []
   },
   "outputs": [],
   "source": [
    "# 去底部异常\n",
    "removed_neg_data, neg_power_idx = remove_neg_power(current_data, current_rotor)\n",
    "current_data.loc[neg_power_idx, 'label']=1\n",
    "print(\"bottom: {}\".format(neg_power_idx.shape))\n",
    "\n",
    "# 去中部异常\n",
    "removed_mid_data, mid_anomaly_idx = remove_mid_anomaly(current_data,max_time=6,max_diff=2)\n",
    "current_data.loc[mid_anomaly_idx, 'label']=1\n",
    "print(\"mid: {}\".format(mid_anomaly_idx.shape))\n",
    "\n",
    "# 横向四分法\n",
    "horizonal_data, horizonal_anomaly_idx = horizonal_process(current_data,low_coef=2,up_coef=2.5)\n",
    "current_data.loc[horizonal_anomaly_idx, 'label']=1\n",
    "print(\"horizonal: {}\".format(horizonal_anomaly_idx.shape))\n",
    "\n",
    "# 纵向四分法\n",
    "vertical_data, vertical_anomaly_idx = vertical_process(current_data,low_coef=2, up_coef=2)\n",
    "current_data.loc[vertical_anomaly_idx, 'label']=1\n",
    "print(\"vertical: {}\".format(vertical_anomaly_idx.shape))"
   ]
  },
  {
   "cell_type": "code",
   "execution_count": null,
   "metadata": {},
   "outputs": [],
   "source": [
    "is_save=True\n",
    "line_num = 2\n",
    "fp = './figures/vp_{}_{}.png'.format(current_rotor,line_num)\n",
    "plot_current_data(current_data,rotor_num=current_rotor,save=is_save,file_path=fp)"
   ]
  },
  {
   "cell_type": "code",
   "execution_count": null,
   "metadata": {
    "tags": []
   },
   "outputs": [],
   "source": [
    "# 更新到raw_data\n",
    "current_anomaly_idx = current_data[current_data['label']==1].index\n",
    "print(\"sum of current anomaly data: {}\".format(current_anomaly_idx.shape))\n",
    "\n",
    "raw_data.loc[current_anomaly_idx, 'label']=1\n",
    "print(\"sum of raw data anomaly data: {}\".format(np.sum(raw_data['label']==1)))"
   ]
  },
  {
   "cell_type": "markdown",
   "metadata": {},
   "source": [
    "### 十月\n",
    "\n",
    "1. 左边曲线\n",
    "    - 12, 1月<=7日，11月>=12日\n",
    "2. 右边曲线\n",
    "    - 2, 3, 4, 5, 6, 7, 8, 9, 10，1月>7日，11月<12日"
   ]
  },
  {
   "cell_type": "markdown",
   "metadata": {},
   "source": [
    "#### 10.1 十号第一条"
   ]
  },
  {
   "cell_type": "code",
   "execution_count": null,
   "metadata": {
    "tags": []
   },
   "outputs": [],
   "source": [
    "current_rotor = 10\n",
    "# 处理左边，12, 1月<=7日，11月>=12日\n",
    "current_data = raw_data[raw_data['WindNumber']==current_rotor]\n",
    "current_data = current_data[( (current_data['Month']==12) | ((current_data['Month']==1)&(current_data['Day']<=7) ) | ((current_data['Month']==11) & (current_data['Day']>=12)))]\n",
    "# process_current_data(current_data)"
   ]
  },
  {
   "cell_type": "code",
   "execution_count": null,
   "metadata": {
    "tags": []
   },
   "outputs": [],
   "source": [
    "# # 去底部异常\n",
    "# removed_neg_data, neg_power_idx = remove_neg_power(current_data, current_rotor)\n",
    "# current_data.loc[neg_power_idx, 'label']=1\n",
    "# print(\"bottom: {}\".format(neg_power_idx.shape))\n",
    "\n",
    "# # 去中部异常\n",
    "# removed_mid_data, mid_anomaly_idx = remove_mid_anomaly(current_data)\n",
    "# current_data.loc[mid_anomaly_idx, 'label']=1\n",
    "# print(\"mid: {}\".format(mid_anomaly_idx.shape))\n",
    "\n",
    "# # # 横向四分法\n",
    "# horizonal_data, horizonal_anomaly_idx = horizonal_process(current_data,low_coef=2,up_coef=2)\n",
    "# current_data.loc[horizonal_anomaly_idx, 'label']=1\n",
    "# print(\"horizonal: {}\".format(horizonal_anomaly_idx.shape))\n",
    "\n",
    "# # # 纵向四分法\n",
    "# vertical_data, vertical_anomaly_idx = vertical_process(current_data,low_coef=2, up_coef=2)\n",
    "# current_data.loc[vertical_anomaly_idx, 'label']=1\n",
    "# print(\"vertical: {}\".format(vertical_anomaly_idx.shape))\n",
    "\n",
    "# # # 横向四分法\n",
    "# horizonal_data, horizonal_anomaly_idx = horizonal_process(current_data)\n",
    "# current_data.loc[horizonal_anomaly_idx, 'label']=1\n",
    "# print(\"horizonal: {}\".format(horizonal_anomaly_idx.shape))\n",
    "\n",
    "# # # 纵向四分法\n",
    "# vertical_data, vertical_anomaly_idx = vertical_process(current_data)\n",
    "# current_data.loc[vertical_anomaly_idx, 'label']=1\n",
    "# print(\"vertical: {}\".format(vertical_anomaly_idx.shape))\n",
    "# # # 纵向四分法\n",
    "# vertical_data, vertical_anomaly_idx = vertical_process(current_data)\n",
    "# current_data.loc[vertical_anomaly_idx, 'label']=1\n",
    "# print(\"vertical: {}\".format(vertical_anomaly_idx.shape))"
   ]
  },
  {
   "cell_type": "code",
   "execution_count": null,
   "metadata": {
    "tags": []
   },
   "outputs": [],
   "source": [
    "# 全部作为异常\n",
    "current_data['label']=1\n",
    "current_anomaly_idx = current_data[current_data['label']==1].index\n",
    "print(\"sum of current anomaly data: {}\".format(current_anomaly_idx.shape))\n",
    "\n",
    "raw_data.loc[current_anomaly_idx, 'label']=1\n",
    "print(\"sum of raw data anomaly data: {}\".format(np.sum(raw_data['label']==1)))"
   ]
  },
  {
   "cell_type": "code",
   "execution_count": null,
   "metadata": {},
   "outputs": [],
   "source": [
    "is_save=True\n",
    "line_num = 1\n",
    "fp = './figures/vp_{}_{}.png'.format(current_rotor,line_num)\n",
    "plot_current_data(current_data,rotor_num=current_rotor,save=is_save,file_path=fp)"
   ]
  },
  {
   "cell_type": "markdown",
   "metadata": {},
   "source": [
    "#### 10.2 十号第二条"
   ]
  },
  {
   "cell_type": "code",
   "execution_count": null,
   "metadata": {
    "tags": []
   },
   "outputs": [],
   "source": [
    "current_rotor = 10\n",
    "# 处理右边，2, 3, 4, 5, 6, 7, 8, 9, 10，1月>7日，11月<12日\n",
    "current_data = raw_data[raw_data['WindNumber']==current_rotor]\n",
    "\n",
    "current_data = current_data[( ((current_data['Month']==1)&(current_data['Day']>7)) | (current_data['Month']==2) | (current_data['Month']==3) | (current_data['Month']==4) | (current_data['Month']==5) | (current_data['Month']==6) | (current_data['Month']==7) | (current_data['Month']==8) | (current_data['Month']==9) | (current_data['Month']==10)| ((current_data['Month']==11)&(current_data['Day']<12)) )]\n",
    "\n",
    "# process_current_data(current_data)"
   ]
  },
  {
   "cell_type": "code",
   "execution_count": null,
   "metadata": {
    "tags": []
   },
   "outputs": [],
   "source": [
    "# 去底部异常\n",
    "removed_neg_data, neg_power_idx = remove_neg_power(current_data, current_rotor)\n",
    "current_data.loc[neg_power_idx, 'label']=1\n",
    "print(\"bottom: {}\".format(neg_power_idx.shape))\n",
    "\n",
    "# 去中部异常\n",
    "removed_mid_data, mid_anomaly_idx = remove_mid_anomaly(current_data,max_time=6,max_diff=2)\n",
    "current_data.loc[mid_anomaly_idx, 'label']=1\n",
    "print(\"mid: {}\".format(mid_anomaly_idx.shape))\n",
    "\n",
    "# # 横向四分法\n",
    "horizonal_data, horizonal_anomaly_idx = horizonal_process(current_data,low_coef=2,up_coef=2.1)\n",
    "current_data.loc[horizonal_anomaly_idx, 'label']=1\n",
    "print(\"horizonal: {}\".format(horizonal_anomaly_idx.shape))\n",
    "\n",
    "# # 纵向四分法\n",
    "vertical_data, vertical_anomaly_idx = vertical_process(current_data,low_coef=2,up_coef=1.9)\n",
    "current_data.loc[vertical_anomaly_idx, 'label']=1\n",
    "print(\"vertical: {}\".format(vertical_anomaly_idx.shape))"
   ]
  },
  {
   "cell_type": "code",
   "execution_count": null,
   "metadata": {},
   "outputs": [],
   "source": [
    "is_save=True\n",
    "line_num = 2\n",
    "fp = './figures/vp_{}_{}.png'.format(current_rotor,line_num)\n",
    "plot_current_data(current_data,rotor_num=current_rotor,save=is_save,file_path=fp)"
   ]
  },
  {
   "cell_type": "code",
   "execution_count": null,
   "metadata": {
    "tags": []
   },
   "outputs": [],
   "source": [
    "# 更新到raw_data\n",
    "current_anomaly_idx = current_data[current_data['label']==1].index\n",
    "print(\"sum of current anomaly data: {}\".format(current_anomaly_idx.shape))\n",
    "\n",
    "raw_data.loc[current_anomaly_idx, 'label']=1\n",
    "print(\"sum of raw data anomaly data: {}\".format(np.sum(raw_data['label']==1)))"
   ]
  },
  {
   "cell_type": "markdown",
   "metadata": {},
   "source": [
    "### 十一号"
   ]
  },
  {
   "cell_type": "code",
   "execution_count": null,
   "metadata": {
    "tags": []
   },
   "outputs": [],
   "source": [
    "current_rotor = 11\n",
    "current_data = raw_data[raw_data['WindNumber']==current_rotor]\n",
    "# process_current_data(current_data)"
   ]
  },
  {
   "cell_type": "code",
   "execution_count": null,
   "metadata": {
    "tags": []
   },
   "outputs": [],
   "source": [
    "# 去底部异常\n",
    "removed_neg_data, neg_power_idx = remove_neg_power(current_data, current_rotor)\n",
    "current_data.loc[neg_power_idx, 'label']=1\n",
    "print(\"bottom: {}\".format(neg_power_idx.shape))\n",
    "\n",
    "# 去中部异常\n",
    "removed_mid_data, mid_anomaly_idx = remove_mid_anomaly(current_data)\n",
    "current_data.loc[mid_anomaly_idx, 'label']=1\n",
    "print(\"mid: {}\".format(mid_anomaly_idx.shape))\n",
    "\n",
    "# # 横向四分法\n",
    "horizonal_data, horizonal_anomaly_idx = horizonal_process(current_data,low_coef=2.5,up_coef=3)\n",
    "current_data.loc[horizonal_anomaly_idx, 'label']=1\n",
    "print(\"horizonal: {}\".format(horizonal_anomaly_idx.shape))\n",
    "\n",
    "# # # 纵向四分法\n",
    "# vertical_data, vertical_anomaly_idx = vertical_process(current_data,low_coef=2,up_coef=2)\n",
    "# current_data.loc[vertical_anomaly_idx, 'label']=1\n",
    "# print(\"vertical: {}\".format(vertical_anomaly_idx.shape))"
   ]
  },
  {
   "cell_type": "code",
   "execution_count": null,
   "metadata": {},
   "outputs": [],
   "source": [
    "is_save=True\n",
    "line_num = 1\n",
    "fp = './figures/vp_{}_{}.png'.format(current_rotor,line_num)\n",
    "plot_current_data(current_data,rotor_num=current_rotor,save=is_save,file_path=fp)"
   ]
  },
  {
   "cell_type": "code",
   "execution_count": null,
   "metadata": {
    "tags": []
   },
   "outputs": [],
   "source": [
    "# 更新到raw_data\n",
    "current_anomaly_idx = current_data[current_data['label']==1].index\n",
    "print(\"sum of current anomaly data: {}\".format(current_anomaly_idx.shape))\n",
    "\n",
    "raw_data.loc[current_anomaly_idx, 'label']=1\n",
    "print(\"sum of raw data anomaly data: {}\".format(np.sum(raw_data['label']==1)))"
   ]
  },
  {
   "cell_type": "markdown",
   "metadata": {},
   "source": [
    "### 十二号"
   ]
  },
  {
   "cell_type": "code",
   "execution_count": null,
   "metadata": {
    "tags": []
   },
   "outputs": [],
   "source": [
    "current_rotor = 12\n",
    "current_data = raw_data[raw_data['WindNumber']==current_rotor]\n",
    "# process_current_data(current_data)"
   ]
  },
  {
   "cell_type": "code",
   "execution_count": null,
   "metadata": {
    "tags": []
   },
   "outputs": [],
   "source": [
    "# 去底部异常\n",
    "# removed_neg_data, neg_power_idx = remove_neg_power(current_data, current_rotor)\n",
    "# current_data.loc[neg_power_idx, 'label']=1\n",
    "# print(\"bottom: {}\".format(neg_power_idx.shape))\n",
    "\n",
    "# 去中部异常\n",
    "removed_mid_data, mid_anomaly_idx = remove_mid_anomaly(current_data)\n",
    "current_data.loc[mid_anomaly_idx, 'label']=1\n",
    "print(\"mid: {}\".format(mid_anomaly_idx.shape))\n",
    "\n",
    "# 横向四分法\n",
    "horizonal_data, horizonal_anomaly_idx = horizonal_process(current_data,low_coef=3,up_coef=3)\n",
    "current_data.loc[horizonal_anomaly_idx, 'label']=1\n",
    "print(\"horizonal: {}\".format(horizonal_anomaly_idx.shape))\n",
    "\n",
    "# 横向四分法\n",
    "horizonal_data, horizonal_anomaly_idx = horizonal_process(current_data,low_coef=1.5,up_coef=1.5)\n",
    "current_data.loc[horizonal_anomaly_idx, 'label']=1\n",
    "print(\"horizonal: {}\".format(horizonal_anomaly_idx.shape))\n",
    "\n",
    "# # 纵向四分法\n",
    "# vertical_data, vertical_anomaly_idx = vertical_process(current_data,low_coef=2,up_coef=2)\n",
    "# current_data.loc[vertical_anomaly_idx, 'label']=1\n",
    "# print(\"vertical: {}\".format(vertical_anomaly_idx.shape))"
   ]
  },
  {
   "cell_type": "code",
   "execution_count": null,
   "metadata": {},
   "outputs": [],
   "source": [
    "is_save=True\n",
    "line_num = 2\n",
    "fp = './figures/vp_{}_{}.png'.format(current_rotor,line_num)\n",
    "plot_current_data(current_data,rotor_num=current_rotor,save=is_save,file_path=fp)"
   ]
  },
  {
   "cell_type": "code",
   "execution_count": null,
   "metadata": {
    "tags": []
   },
   "outputs": [],
   "source": [
    "# 更新到raw_data\n",
    "current_anomaly_idx = current_data[current_data['label']==1].index\n",
    "print(\"sum of current anomaly data: {}\".format(current_anomaly_idx.shape))\n",
    "\n",
    "raw_data.loc[current_anomaly_idx, 'label']=1\n",
    "print(\"sum of raw data anomaly data: {}\".format(np.sum(raw_data['label']==1)))"
   ]
  },
  {
   "cell_type": "markdown",
   "metadata": {},
   "source": [
    "```\n",
    "sum of current anomaly data: (10565,)\n",
    "sum of raw data anomaly data: 158009\n",
    "```"
   ]
  },
  {
   "cell_type": "markdown",
   "metadata": {},
   "source": [
    "## 保存数据"
   ]
  },
  {
   "cell_type": "code",
   "execution_count": null,
   "metadata": {},
   "outputs": [],
   "source": [
    "raw_data.loc[raw_data['label']==-1, 'label']=0"
   ]
  },
  {
   "cell_type": "code",
   "execution_count": null,
   "metadata": {
    "tags": []
   },
   "outputs": [],
   "source": [
    "# current_data = raw_data\n",
    "# # 横向四分法\n",
    "# horizonal_data, horizonal_anomaly_idx = horizonal_process(current_data,low_coef=1.5,up_coef=1.5)\n",
    "# current_data.loc[horizonal_anomaly_idx, 'label']=1\n",
    "# print(\"horizonal: {}\".format(horizonal_anomaly_idx.shape))"
   ]
  },
  {
   "cell_type": "code",
   "execution_count": null,
   "metadata": {
    "tags": []
   },
   "outputs": [],
   "source": [
    "file_num = \"9_25\"\n",
    "RES_PATH='./submission/submission_{}.csv'.format(file_num)\n",
    "# print(\"未分类数：{}\".format(np.sum(raw_data['label'] == -1)))\n",
    "print(\"异常点数：{}\".format(np.sum(raw_data['label'] == 1)))\n",
    "print(\"正常点数：{}\".format(np.sum(raw_data['label'] == 0)))\n",
    "\n",
    "result = raw_data[['WindNumber', 'Time', 'label']]\n",
    "result.to_csv(RES_PATH, index=None)"
   ]
  },
  {
   "cell_type": "code",
   "execution_count": null,
   "metadata": {},
   "outputs": [],
   "source": []
  }
 ],
 "metadata": {
  "kernelspec": {
   "display_name": "Python 3",
   "language": "python",
   "name": "python3"
  },
  "language_info": {
   "codemirror_mode": {
    "name": "ipython",
    "version": 3
   },
   "file_extension": ".py",
   "mimetype": "text/x-python",
   "name": "python",
   "nbconvert_exporter": "python",
   "pygments_lexer": "ipython3",
   "version": "3.7.7-final"
  }
 },
 "nbformat": 4,
 "nbformat_minor": 2
}