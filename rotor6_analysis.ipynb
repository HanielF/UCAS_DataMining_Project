{
 "metadata": {
  "language_info": {
   "codemirror_mode": {
    "name": "ipython",
    "version": 3
   },
   "file_extension": ".py",
   "mimetype": "text/x-python",
   "name": "python",
   "nbconvert_exporter": "python",
   "pygments_lexer": "ipython3",
   "version": "3.7.7-final"
  },
  "orig_nbformat": 2,
  "kernelspec": {
   "name": "python_defaultSpec_1600496385026",
   "display_name": "Python 3.7.7 64-bit ('pytorch37': conda)"
  }
 },
 "nbformat": 4,
 "nbformat_minor": 2,
 "cells": [
  {
   "cell_type": "code",
   "execution_count": null,
   "metadata": {},
   "outputs": [],
   "source": [
    "import numpy as np\n",
    "import pandas as pd\n",
    "import seaborn as sns\n",
    "import matplotlib.pyplot as plt"
   ]
  },
  {
   "cell_type": "code",
   "execution_count": null,
   "metadata": {},
   "outputs": [],
   "source": [
    "data_path = './data/combined_data.csv'"
   ]
  },
  {
   "cell_type": "markdown",
   "metadata": {},
   "source": [
    "## 读入数据"
   ]
  },
  {
   "cell_type": "code",
   "execution_count": null,
   "metadata": {},
   "outputs": [],
   "source": [
    "raw_data = pd.read_csv(data_path)\n",
    "raw_data.head()"
   ]
  },
  {
   "cell_type": "code",
   "execution_count": null,
   "metadata": {},
   "outputs": [],
   "source": [
    "raw_data['label']=-1"
   ]
  },
  {
   "cell_type": "markdown",
   "metadata": {},
   "source": [
    "### 设置待处理的部分数据\n",
    "\n",
    "**！修改这里切换数据集！**"
   ]
  },
  {
   "cell_type": "code",
   "execution_count": null,
   "metadata": {},
   "outputs": [],
   "source": [
    "current_rotor = 6\n",
    "current_data = raw_data[raw_data['WindNumber']==current_rotor]"
   ]
  },
  {
   "cell_type": "code",
   "execution_count": null,
   "metadata": {},
   "outputs": [],
   "source": [
    "current_data.shape"
   ]
  },
  {
   "cell_type": "markdown",
   "metadata": {},
   "source": [
    "### 获得年月日的特征"
   ]
  },
  {
   "cell_type": "code",
   "execution_count": null,
   "metadata": {},
   "outputs": [],
   "source": [
    "# 获得年月日的特征\n",
    "current_data['Year'] = current_data['Time'].apply(lambda x:int(x.split(' ')[0].split('/')[0]))\n",
    "current_data['Month'] = current_data['Time'].apply(lambda x:int(x.split(' ')[0].split('/')[1]))\n",
    "current_data['Day'] = current_data['Time'].apply(lambda x:int(x.split(' ')[0].split('/')[2]))\n",
    "current_data.head()"
   ]
  },
  {
   "cell_type": "code",
   "execution_count": null,
   "metadata": {},
   "outputs": [],
   "source": [
    "set(current_data['Month'].values)"
   ]
  },
  {
   "cell_type": "markdown",
   "metadata": {},
   "source": [
    "### 查看数据分布"
   ]
  },
  {
   "cell_type": "code",
   "execution_count": null,
   "metadata": {},
   "outputs": [],
   "source": [
    "plt.figure(figsize=(25, 10))\n",
    "g_data_2 = current_data[current_data['label'] == -1]\n",
    "plt.plot(g_data_2['WindSpeed'],\n",
    "            g_data_2['Power'],\n",
    "            '.y',\n",
    "            ms=4,\n",
    "            label='data')\n",
    "plt.legend()\n",
    "plt.xlabel('Wind Speed')\n",
    "plt.ylabel('Power')\n",
    "cur_title = \"{}_origin\".format(current_rotor)\n",
    "plt.title(cur_title)\n",
    "plt.show()"
   ]
  },
  {
   "cell_type": "markdown",
   "metadata": {},
   "source": [
    "### 查看四个季节的数据"
   ]
  },
  {
   "cell_type": "code",
   "execution_count": null,
   "metadata": {},
   "outputs": [],
   "source": [
    "season_data = current_data.groupby('Month')\n",
    "# season_data.groups\n",
    "spring_data = pd.concat([season_data.get_group(1), season_data.get_group(2), season_data.get_group(3)])\n",
    "summer_data = pd.concat([season_data.get_group(4), season_data.get_group(5), season_data.get_group(6)])\n",
    "autumn_data = pd.concat([season_data.get_group(7), season_data.get_group(8), season_data.get_group(9)])\n",
    "winter_data = pd.concat([season_data.get_group(10), season_data.get_group(11), season_data.get_group(12)])"
   ]
  },
  {
   "cell_type": "code",
   "execution_count": null,
   "metadata": {},
   "outputs": [],
   "source": [
    "plt.figure(figsize=(25, 10))\n",
    "g_data_2 = spring_data\n",
    "plt.plot(g_data_2['WindSpeed'],\n",
    "            g_data_2['Power'],\n",
    "            '.b',\n",
    "            ms=4,\n",
    "            label='spring data')\n",
    "g_data_2 = summer_data\n",
    "plt.plot(g_data_2['WindSpeed'],\n",
    "            g_data_2['Power'],\n",
    "            '.r',\n",
    "            ms=4,\n",
    "            label='summer data')\n",
    "g_data_2 = autumn_data\n",
    "plt.plot(g_data_2['WindSpeed'],\n",
    "            g_data_2['Power'],\n",
    "            '.y',\n",
    "            ms=4,\n",
    "            label='autumn data')\n",
    "g_data_2 = winter_data\n",
    "plt.plot(g_data_2['WindSpeed'],\n",
    "            g_data_2['Power'],\n",
    "            '.m',\n",
    "            ms=4,\n",
    "            label='winter data')\n",
    "plt.legend()\n",
    "plt.xlabel('Wind Speed')\n",
    "plt.ylabel('Power')\n",
    "cur_title = \"{}_origin\".format(current_rotor)\n",
    "plt.title(cur_title)\n",
    "plt.show()"
   ]
  },
  {
   "cell_type": "markdown",
   "metadata": {},
   "source": [
    "### 六号风机两条曲线数据\n",
    "\n",
    "1. 第一条到达额定功率2000曲线\n",
    "    - 9，10月\n",
    "2. 从下往上第二条功率1000左右的\n",
    "    - 5月18-31号，6，7，8月\n",
    "3. 最下面功率800左右的\n",
    "    - 1，2，3，4，11，12月，5月1-17号\n"
   ]
  },
  {
   "cell_type": "code",
   "execution_count": null,
   "metadata": {
    "tags": []
   },
   "outputs": [],
   "source": [
    "print(set(current_data['Year'].values))\n",
    "print(set(current_data.loc[current_data['Year']==2017, 'Month'].values))\n",
    "print(set(current_data.loc[current_data['Year']==2018, 'Month'].values))"
   ]
  },
  {
   "cell_type": "markdown",
   "metadata": {},
   "source": [
    "### 查看五月数据"
   ]
  },
  {
   "cell_type": "code",
   "execution_count": null,
   "metadata": {},
   "outputs": [],
   "source": [
    "may_data = current_data[((current_data['Year']==2018) & (current_data['Month']==5))]"
   ]
  },
  {
   "cell_type": "code",
   "execution_count": null,
   "metadata": {},
   "outputs": [],
   "source": [
    "sns.relplot('WindSpeed', 'Power', data=may_data[(may_data['Day']<=17)], hue='Day', palette='muted', size=5, aspect=2)"
   ]
  },
  {
   "cell_type": "markdown",
   "metadata": {},
   "source": [
    "- 从1-17号，是800w的线，18号开始是出现了1000w"
   ]
  },
  {
   "cell_type": "code",
   "execution_count": null,
   "metadata": {},
   "outputs": [],
   "source": [
    "sns.relplot('WindSpeed', 'Power', data=may_data[(may_data['Day']<=18)], hue='Day', palette='muted', size=5, aspect=2)"
   ]
  },
  {
   "cell_type": "markdown",
   "metadata": {},
   "source": [
    "- 17号数据"
   ]
  },
  {
   "cell_type": "code",
   "execution_count": null,
   "metadata": {},
   "outputs": [],
   "source": [
    "sns.relplot('WindSpeed', 'Power', data=may_data[(may_data['Day']==17)], hue='Day', palette='muted', size=5, aspect=2)"
   ]
  },
  {
   "cell_type": "markdown",
   "metadata": {},
   "source": [
    "- 18号到31号数据，是上面的线"
   ]
  },
  {
   "cell_type": "code",
   "execution_count": null,
   "metadata": {},
   "outputs": [],
   "source": [
    "sns.relplot('WindSpeed', 'Power', data=may_data[(may_data['Day']>17) & (may_data['Day']<=31)], hue='Day', palette='muted', size=5, aspect=2)"
   ]
  }
 ]
}