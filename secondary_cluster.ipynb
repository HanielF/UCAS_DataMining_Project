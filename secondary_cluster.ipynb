{
 "metadata": {
  "language_info": {
   "codemirror_mode": {
    "name": "ipython",
    "version": 3
   },
   "file_extension": ".py",
   "mimetype": "text/x-python",
   "name": "python",
   "nbconvert_exporter": "python",
   "pygments_lexer": "ipython3",
   "version": "3.7.7-final"
  },
  "orig_nbformat": 2,
  "kernelspec": {
   "name": "python_defaultSpec_1600327799950",
   "display_name": "Python 3.7.7 64-bit ('pytorch37': conda)"
  }
 },
 "nbformat": 4,
 "nbformat_minor": 2,
 "cells": [
  {
   "cell_type": "code",
   "execution_count": 2,
   "metadata": {},
   "outputs": [],
   "source": [
    "import numpy as np\n",
    "import pandas as pd\n",
    "import seaborn as sns\n",
    "import matplotlib.pyplot as plt"
   ]
  },
  {
   "cell_type": "code",
   "execution_count": 3,
   "metadata": {},
   "outputs": [],
   "source": [
    "data_path = './data/combined_data.csv'"
   ]
  },
  {
   "cell_type": "markdown",
   "metadata": {},
   "source": [
    "## 读入数据"
   ]
  },
  {
   "cell_type": "code",
   "execution_count": 4,
   "metadata": {},
   "outputs": [
    {
     "output_type": "execute_result",
     "data": {
      "text/plain": "   WindNumber            Time  WindSpeed       Power  RotorSpeed  Width  \\\n0           1  2017/11/1 0:20   4.188333   65.750000    5.779167   99.0   \n1           1  2017/11/1 0:30   4.042500  120.700000    8.636500   99.0   \n2           1  2017/11/1 0:40   4.137368  135.157895    8.668421   99.0   \n3           1  2017/11/1 0:50   4.274737  157.315789    8.727895   99.0   \n4           1  2017/11/1 1:00   4.108947  129.894737    8.656842   99.0   \n\n   RatedPower  CutInWindSpeed  CutOutWindSpeed  WheelSpeedMin  WheelSpesdMax  \n0        2000             3.0               25           8.33           16.8  \n1        2000             3.0               25           8.33           16.8  \n2        2000             3.0               25           8.33           16.8  \n3        2000             3.0               25           8.33           16.8  \n4        2000             3.0               25           8.33           16.8  ",
      "text/html": "<div>\n<style scoped>\n    .dataframe tbody tr th:only-of-type {\n        vertical-align: middle;\n    }\n\n    .dataframe tbody tr th {\n        vertical-align: top;\n    }\n\n    .dataframe thead th {\n        text-align: right;\n    }\n</style>\n<table border=\"1\" class=\"dataframe\">\n  <thead>\n    <tr style=\"text-align: right;\">\n      <th></th>\n      <th>WindNumber</th>\n      <th>Time</th>\n      <th>WindSpeed</th>\n      <th>Power</th>\n      <th>RotorSpeed</th>\n      <th>Width</th>\n      <th>RatedPower</th>\n      <th>CutInWindSpeed</th>\n      <th>CutOutWindSpeed</th>\n      <th>WheelSpeedMin</th>\n      <th>WheelSpesdMax</th>\n    </tr>\n  </thead>\n  <tbody>\n    <tr>\n      <th>0</th>\n      <td>1</td>\n      <td>2017/11/1 0:20</td>\n      <td>4.188333</td>\n      <td>65.750000</td>\n      <td>5.779167</td>\n      <td>99.0</td>\n      <td>2000</td>\n      <td>3.0</td>\n      <td>25</td>\n      <td>8.33</td>\n      <td>16.8</td>\n    </tr>\n    <tr>\n      <th>1</th>\n      <td>1</td>\n      <td>2017/11/1 0:30</td>\n      <td>4.042500</td>\n      <td>120.700000</td>\n      <td>8.636500</td>\n      <td>99.0</td>\n      <td>2000</td>\n      <td>3.0</td>\n      <td>25</td>\n      <td>8.33</td>\n      <td>16.8</td>\n    </tr>\n    <tr>\n      <th>2</th>\n      <td>1</td>\n      <td>2017/11/1 0:40</td>\n      <td>4.137368</td>\n      <td>135.157895</td>\n      <td>8.668421</td>\n      <td>99.0</td>\n      <td>2000</td>\n      <td>3.0</td>\n      <td>25</td>\n      <td>8.33</td>\n      <td>16.8</td>\n    </tr>\n    <tr>\n      <th>3</th>\n      <td>1</td>\n      <td>2017/11/1 0:50</td>\n      <td>4.274737</td>\n      <td>157.315789</td>\n      <td>8.727895</td>\n      <td>99.0</td>\n      <td>2000</td>\n      <td>3.0</td>\n      <td>25</td>\n      <td>8.33</td>\n      <td>16.8</td>\n    </tr>\n    <tr>\n      <th>4</th>\n      <td>1</td>\n      <td>2017/11/1 1:00</td>\n      <td>4.108947</td>\n      <td>129.894737</td>\n      <td>8.656842</td>\n      <td>99.0</td>\n      <td>2000</td>\n      <td>3.0</td>\n      <td>25</td>\n      <td>8.33</td>\n      <td>16.8</td>\n    </tr>\n  </tbody>\n</table>\n</div>"
     },
     "metadata": {},
     "execution_count": 4
    }
   ],
   "source": [
    "raw_data = pd.read_csv(data_path)\n",
    "raw_data.head()"
   ]
  },
  {
   "cell_type": "code",
   "execution_count": 5,
   "metadata": {
    "tags": []
   },
   "outputs": [
    {
     "output_type": "stream",
     "name": "stdout",
     "text": "<class 'pandas.core.frame.DataFrame'>\nRangeIndex: 497837 entries, 0 to 497836\nData columns (total 11 columns):\n #   Column           Non-Null Count   Dtype  \n---  ------           --------------   -----  \n 0   WindNumber       497837 non-null  int64  \n 1   Time             497837 non-null  object \n 2   WindSpeed        497837 non-null  float64\n 3   Power            497837 non-null  float64\n 4   RotorSpeed       497837 non-null  float64\n 5   Width            497837 non-null  float64\n 6   RatedPower       497837 non-null  int64  \n 7   CutInWindSpeed   497837 non-null  float64\n 8   CutOutWindSpeed  497837 non-null  int64  \n 9   WheelSpeedMin    497837 non-null  float64\n 10  WheelSpesdMax    497837 non-null  float64\ndtypes: float64(7), int64(3), object(1)\nmemory usage: 41.8+ MB\n"
    }
   ],
   "source": [
    "raw_data.info()"
   ]
  },
  {
   "cell_type": "code",
   "execution_count": null,
   "metadata": {},
   "outputs": [],
   "source": []
  }
 ]
}