{
 "cells": [
  {
   "cell_type": "code",
   "execution_count": 1,
   "metadata": {},
   "outputs": [],
   "source": [
    "#依赖包导入cell，请执行此cell导入相关依赖包\n",
    "from sklearn.cluster import KMeans,DBSCAN\n",
    "import pandas as pd\n",
    "import matplotlib.pyplot as plt\n",
    "import numpy as np\n",
    "from sklearn.gaussian_process import GaussianProcessRegressor"
   ]
  },
  {
   "cell_type": "code",
   "execution_count": 2,
   "metadata": {},
   "outputs": [],
   "source": [
    "#第二步，数据选择\n",
    "def select(d0, Pmin, Pmax,scale=20, select=0):\n",
    "    d3 = d0[0:0]\n",
    "    box_num = int((Pmax-Pmin)/scale+1)\n",
    "    box_min = Pmin\n",
    "    box_max = box_min + scale\n",
    "    for i in range(box_num):\n",
    "        box = d0[(d0.Power>=box_min) & (d0.Power<box_max)]\n",
    "        if len(box)<=0:\n",
    "            box_min += scale\n",
    "            box_max += scale\n",
    "            continue\n",
    "\n",
    "        row_Wmin = box[box.WindSpeed==box.WindSpeed.min()][0:1]\n",
    "        row_Wmax = box[box.WindSpeed==box.WindSpeed.max()][0:1]\n",
    "        \n",
    "        if select == 0 or select==-1:\n",
    "            d3 = d3.append(row_Wmin)\n",
    "        if select == 0 or select==1:\n",
    "            d3 = d3.append(row_Wmax)\n",
    "\n",
    "        box_min += scale\n",
    "        box_max += scale\n",
    "    \n",
    "    return d3\n",
    "#手动设定规则\n",
    "d0 = df[df['label']==0]\n",
    "d1 = df[df['label']==1]\n",
    "d3 = select(d0,600,1900,50,-1)\n",
    "\n",
    "def enselect(d1,d3, Pmin, Pmax,scale):\n",
    "    d0 = d1[0:0]\n",
    "    d3 = d3.sort_values(by='Power')\n",
    "    box_num = int((Pmax-Pmin)/scale+1)\n",
    "    box_min = Pmin\n",
    "    box_max = box_min + scale\n",
    "    for i in range(box_num):\n",
    "        box = d1[(d1.Power>=box_min) & (d1.Power<box_max)]\n",
    "        if len(box)<=0:\n",
    "            box_min += scale\n",
    "            box_max += scale\n",
    "            continue\n",
    "        \n",
    "        pair = list(d3.WindSpeed[i*2:i*2+2])\n",
    "        pair.sort()\n",
    "        rows = box[(box.WindSpeed>=pair[0]) & (box.WindSpeed<=pair[1])]\n",
    "\n",
    "\n",
    "        d0 = d0.append(rows)\n",
    "        \n",
    "        box_min += scale\n",
    "        box_max += scale\n",
    "    \n",
    "    return d0\n"
   ]
  },
  {
   "cell_type": "code",
   "execution_count": 154,
   "metadata": {},
   "outputs": [],
   "source": [
    "#第一步，导入数据\n",
    "WindNumber=6\n",
    "df = pd.read_csv(\"dataset.csv\")\n",
    "df1 = pd.read_csv(\"submission_WN10_changed.csv\")\n",
    "# df1 = pd.read_csv(\"submission_ALL_change_1017_F24681012_2.csv\")\n",
    "df = df[df['WindNumber']==WindNumber]\n",
    "df1 = df1[df1['WindNumber']==WindNumber]\n",
    "\n",
    "df = df.sort_values(by=\"Time\")\n",
    "df1 = df1.sort_values(by=\"Time\")\n",
    "df['label']=list(df1['label'])"
   ]
  },
  {
   "cell_type": "code",
   "execution_count": null,
   "metadata": {},
   "outputs": [],
   "source": [
    "#第四步，调节异常数据二次接受域\n",
    "d3 = df[ (df['label']==1) \n",
    "        & (df.Power>1300)\n",
    "        & (df.Power<1500) \n",
    "        & (df['Power']>=\n",
    "            model.predict(np.array(df.WindSpeed).reshape(-1,1)))\n",
    "        & (df['Power']<=\n",
    "           model.predict(np.array(df.WindSpeed).reshape(-1,1)+0.75))]\n",
    "\n",
    "d1 = d1.drop(d3.index)\n",
    "d3['label'] = 0\n",
    "d0 = d0.append(d3)\n",
    "print(len(d0),len(d1),len(d3),len(d0)+len(d1))"
   ]
  },
  {
   "cell_type": "code",
   "execution_count": 156,
   "metadata": {},
   "outputs": [
    {
     "name": "stdout",
     "output_type": "stream",
     "text": [
      "24827 20765 2981 45592\n",
      "24783 20765 1847 45548\n"
     ]
    }
   ],
   "source": [
    "#手动设定规则\n",
    "d0 = df[df['label']==0]\n",
    "d1 = df[df['label']==1]\n",
    "# d3 = df[(df['WindSpeed']<=5) & (df.label==0)&(df.Power>df.WindSpeed*110-400)]\n",
    "# d3.label=1\n",
    "#         & (df.WindSpeed>3.9)& (df.WindSpeed<4.1)]\n",
    "# d3 = df[ (df['label']==0) & (df['Power']>1700) & (df['WindSpeed']<15) & (df['WindSpeed']>13) & (df['Power']<2050)]\n",
    "\n",
    "d3 = select(d0,600,1900,50,-1)\n",
    "d3 = df[ (df['label']==0) &  (df['Power']>=model.predict(np.array(df.WindSpeed).reshape(-1,1)))\n",
    "        & (df.Power>1300)& (df.Power<1500)]\n",
    "        & (df['Power']<=model.predict(np.array(df.WindSpeed).reshape(-1,1)+0.8)+200)\n",
    "        & (df.WindSpeed>3.5) & (df.WindSpeed<9)\n",
    "        \n",
    "#        &  (df['Power']<=model.predict(np.array(df.WindSpeed).reshape(-1,1)+0.75))\n",
    "       \n",
    "#        \n",
    "#        &  (df['Power']<=model.predict(np.array(df.WindSpeed).reshape(-1,1)))& (df.WindSpeed<10)]\n",
    "# & (df['Power']>=model2.predict(np.array(df.WindSpeed).reshape(-1,1)))\n",
    "# d3 = enselect(d1,d3,0,1900,50)\n",
    "# d3 = d3[(d3.WindSpeed<4) & (d3.Power>50)]\n",
    "# d3 = df[ (df['label']==1) & (df['Power']>30) & (df['WindSpeed']<5.3)  & (df['WindSpeed']>5) & (df['Power']<100)]\n",
    "# d3 = df[ (df['label']==0) & (df['Power']<1750) & (df['Power']>=1600) & (df['WindSpeed']>=7) & (df['WindSpeed']<=10.5)]\n",
    "\n",
    "# # #\n",
    "# # # #倘若规则设定好请解除掉下方四行代码注释\n",
    "# # # # # #\n",
    "\n",
    "print(len(d0),len(d1),len(d3),len(d0)+len(d1))\n",
    "# d3.label=1\n",
    "# d4 = pd.merge(d1,d3)\n",
    "# print(len(d4))\n",
    "# d1 = d1.append(d4).drop_duplicates(keep=False)\n",
    "# print(len(d1))\n",
    "# d3['label'] = 0\n",
    "# d4 = pd.merge(d0,d3)\n",
    "# print(len(d4))\n",
    "d0 = d0.drop_duplicates(['Power','WindSpeed','Time'],keep=False)\n",
    "# print(len(d0))\n",
    "# d0 = d0.append(d3)\n",
    "\n",
    "print(len(d0),len(d1),len(d4),len(d0)+len(d1))\n",
    "\n",
    "\n",
    "#风机9，删除下面曲线数据\n",
    "# d3 = df[ (df['label']==0) & (df['Power']<1750) & (df['Power']>=1300) & (df['WindSpeed']>=11) & (df['WindSpeed']<=18)]"
   ]
  },
  {
   "cell_type": "code",
   "execution_count": 521,
   "metadata": {},
   "outputs": [],
   "source": [
    "#限定Power范围\n",
    "Pmin =0#1250\n",
    "Pmax =750#1550\n",
    "d1 = d1[(d1.Power>=Pmin) & (d1.Power<=Pmax)]\n",
    "d0 = d0[(d0.Power>=Pmin) & (d0.Power<=Pmax)]\n",
    "# d3 = d3[(d3.Power>=Pmin) & (d3.Power<=Pmax)]"
   ]
  },
  {
   "cell_type": "code",
   "execution_count": 246,
   "metadata": {},
   "outputs": [
    {
     "name": "stdout",
     "output_type": "stream",
     "text": [
      "112\n"
     ]
    }
   ],
   "source": [
    "#细精简d3\n",
    "tempT=d0.Time\n",
    "a = 374\n",
    "b = -2412\n",
    "d0.Time=pd.to_datetime(d0.Time,format='%Y/%m/%d %H:%M')\n",
    "# d3 = d0[(d0.Power<d0.WindSpeed*a+b)]\n",
    "d3 = d0[(d0.Time.dt.year==2018)  &(d0.Power<d0.WindSpeed*a+b)&(d0.Time.dt.month==3)]#、48    36(374,-2312)\n",
    "# d3.Time = tempT[(d0.Time.dt.year==2018)  &(d0.Power<d0.WindSpeed*a+b)&(d0.Time.dt.month>1)]#注意不要重复执行\n",
    "print(len(d3))"
   ]
  },
  {
   "cell_type": "code",
   "execution_count": 44,
   "metadata": {},
   "outputs": [],
   "source": [
    "d3 = d3.drop(d3[9:10].index)"
   ]
  },
  {
   "cell_type": "code",
   "execution_count": 95,
   "metadata": {},
   "outputs": [
    {
     "data": {
      "image/png": "[encoded data removed]",
      "text/plain": [
       "<Figure size 432x288 with 1 Axes>"
      ]
     },
     "metadata": {
      "needs_background": "light"
     },
     "output_type": "display_data"
    }
   ],
   "source": [
    "#第三步，结果绘图，观察规则效果\n",
    "plt.scatter(d1['WindSpeed'],d1['Power'],c='#FF00F5',s=1)\n",
    "plt.scatter(d0['WindSpeed'],d0['Power'],c='#4682B4',s=1)\n",
    "\n",
    "\n",
    "\n",
    "\n",
    "plt.scatter(d3['WindSpeed'],d3['Power'],c='#FF0000',s=1)\n",
    "\n",
    "# print('正常数据:',len(df),'异常数据:',len(dl))\n",
    "plt.show()"
   ]
  },
  {
   "cell_type": "code",
   "execution_count": 491,
   "metadata": {},
   "outputs": [
    {
     "data": {
      "image/png": "[encoded data removed]",
      "text/plain": [
       "<Figure size 432x288 with 1 Axes>"
      ]
     },
     "metadata": {
      "needs_background": "light"
     },
     "output_type": "display_data"
    }
   ],
   "source": [
    "#第三步，曲线拟合\n",
    "model = GaussianProcessRegressor()\n",
    "x = np.array(d3.WindSpeed).reshape(-1,1)\n",
    "y = np.array(d3.Power)\n",
    "model.fit(x, y)\n",
    "z = model.predict(x)\n",
    "\n",
    "# plt.scatter(d3.WindSpeed, d3.Power, s=1, color='b')\n",
    "plt.scatter(d3.WindSpeed, z, s=1, color='r')\n",
    "plt.show()"
   ]
  },
  {
   "cell_type": "code",
   "execution_count": 86,
   "metadata": {},
   "outputs": [
    {
     "data": {
      "image/png": "[encoded data removed]",
      "text/plain": [
       "<Figure size 432x288 with 1 Axes>"
      ]
     },
     "metadata": {
      "needs_background": "light"
     },
     "output_type": "display_data"
    }
   ],
   "source": [
    "x = np.random.randint(3,10,500).reshape(-1,1)\n",
    "z = model.predict(x)\n",
    "plt.scatter(x, z, s=1, color='r')\n",
    "plt.show()"
   ]
  },
  {
   "cell_type": "code",
   "execution_count": 39,
   "metadata": {},
   "outputs": [
    {
     "data": {
      "text/plain": [
       "(100.0, -400.0)"
      ]
     },
     "execution_count": 39,
     "metadata": {},
     "output_type": "execute_result"
    }
   ],
   "source": [
    "#计算线性方程\n",
    "def getab(x1,y1,x2,y2):\n",
    "    a = (y2-y1) / (x2-x1)\n",
    "    b = y1 - a*x1\n",
    "    return a,b\n",
    "getab(4,0,5,100)"
   ]
  },
  {
   "cell_type": "code",
   "execution_count": 31,
   "metadata": {},
   "outputs": [
    {
     "name": "stderr",
     "output_type": "stream",
     "text": [
      "c:\\users\\24320\\envs\\env_protection\\lib\\site-packages\\pandas\\core\\frame.py:7138: FutureWarning: Sorting because non-concatenation axis is not aligned. A future version\n",
      "of pandas will change to not sort by default.\n",
      "\n",
      "To accept the future behavior, pass 'sort=False'.\n",
      "\n",
      "To retain the current behavior and silence the warning, pass 'sort=True'.\n",
      "\n",
      "  sort=sort,\n"
     ]
    }
   ],
   "source": [
    "#数据替换与保存\n",
    "d0 = d0.append(d1)\n",
    "df1 = pd.read_csv(\"submission_ALL_change_1017_F24681012.csv\")\n",
    "df1 = df1.drop(d0.index)\n",
    "df1 = df1.append(d0)\n",
    "df1 = df1[['WindNumber','Time','label']]\n",
    "df1 = df1.sort_index()\n",
    "\n",
    "df1.to_csv(\"submission_ALL_change_1017_F24681012_2.csv\",index=None)"
   ]
  }
 ],
 "metadata": {
  "kernelspec": {
   "display_name": "Python 3",
   "language": "python",
   "name": "python3"
  },
  "language_info": {
   "codemirror_mode": {
    "name": "ipython",
    "version": 3
   },
   "file_extension": ".py",
   "mimetype": "text/x-python",
   "name": "python",
   "nbconvert_exporter": "python",
   "pygments_lexer": "ipython3",
   "version": "3.6.5"
  }
 },
 "nbformat": 4,
 "nbformat_minor": 2
}
