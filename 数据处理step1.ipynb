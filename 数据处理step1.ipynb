{
 "cells": [
  {
   "cell_type": "code",
   "execution_count": 1,
   "metadata": {},
   "outputs": [],
   "source": [
    "#依赖包导入cell，请执行此cell导入相关依赖包\n",
    "from sklearn.cluster import KMeans,DBSCAN\n",
    "import pandas as pd\n",
    "import matplotlib.pyplot as plt\n",
    "import numpy as np"
   ]
  },
  {
   "cell_type": "code",
   "execution_count": 2,
   "metadata": {},
   "outputs": [],
   "source": [
    "#函数定义cell，请执行此cell定义相关函数\n",
    "\n",
    "#数据预处理\n",
    "def data_prepro(df):\n",
    "    df_o = df\n",
    "    #获取风速范围内数据\n",
    "    df = df[df['WindSpeed']>=2.5]\n",
    "    df = df[df['WindSpeed']<=25]\n",
    "    #获取功率范围内数据\n",
    "    df = df[df['Power']>=0]\n",
    "    df = df[df['Power']<=2000]\n",
    "    return df,df_o.drop(df.index)\n"
   ]
  },
  {
   "cell_type": "code",
   "execution_count": 3,
   "metadata": {},
   "outputs": [],
   "source": [
    "#函数定义cell，请执行此cell定义相关函数\n",
    "\n",
    "#获得内限\n",
    "def get_F(data,key):\n",
    "    interval = len(data)\n",
    "    #计算四分位数\n",
    "    Q1=Q2=Q3=0\n",
    "    #当分组大小为偶数时\n",
    "    if interval % 2 == 0:\n",
    "        #获取中位数\n",
    "        shift = int(interval/2)\n",
    "        Q2 = (data[key].iloc[shift-1]+data[key].iloc[shift])/2         \n",
    "        #计算四分位数Q1，Q3\n",
    "        sub_interval = interval/2\n",
    "        if sub_interval%2 == 0:\n",
    "            sub_shift = int(sub_interval/2)\n",
    "            Q1 = (data[key].iloc[sub_shift-1]+data[key].iloc[sub_shift])/2   \n",
    "            Q3 = (data[key].iloc[shift+sub_shift-1]+data[key].iloc[shift+sub_shift])/2\n",
    "        else:\n",
    "            sub_shift = int(sub_interval/2+0.5)\n",
    "            Q1 = data[key].iloc[sub_shift-1]\n",
    "            Q3 = data[key].iloc[shift-1+sub_shift]\n",
    "    #当分组大小为奇数时\n",
    "    else:\n",
    "        #获取中位数\n",
    "        shift = int((interval+1)/2)\n",
    "        Q2 = data[key].iloc[shift-1]\n",
    "        k = int(interval/4)\n",
    "        #计算四分位数Q1，Q3\n",
    "        if interval % 4 == 3:\n",
    "            Q1 = 0.75*data[key].iloc[k] +0.25*data[key].iloc[k+1]\n",
    "            Q3 = 0.25*data[key].iloc[3*k+1] +0.75*data[key].iloc[3*k+2]\n",
    "        else:\n",
    "            Q1 = 0.25*data[key].iloc[k-1] +0.75*data[key].iloc[k]\n",
    "            Q3 = 0.75*data[key].iloc[3*k] +0.25*data[key].iloc[3*k+1]\n",
    "    \n",
    "    #获得四分位距\n",
    "    I_QR = Q3-Q1\n",
    "    #获得内限\n",
    "    F1 = Q1-1.5*I_QR\n",
    "    Fu = Q3+1.5*I_QR\n",
    "    return F1,Fu"
   ]
  },
  {
   "cell_type": "code",
   "execution_count": 4,
   "metadata": {},
   "outputs": [],
   "source": [
    "#函数定义cell，请执行此cell定义相关函数\n",
    "\n",
    "#横向四分位\n",
    "def quartile_x(df,Pe=2000, ratio=25):\n",
    "    result_df = df[0:0]\n",
    "    delete_df = df[0:0]\n",
    "\n",
    "    #获得分组数量\n",
    "    num = int(Pe/ratio)\n",
    "    #关键字\n",
    "    key = 'WindSpeed'\n",
    "    key_sort = 'Power'\n",
    "    \n",
    "    #按分组大小对数据进行划分，并处理每个分组\n",
    "    for i in range(num):\n",
    "        #获得每个分组内的数据\n",
    "        start = i*ratio\n",
    "        end = (i+1)*ratio\n",
    "        data = df[df[key_sort]>=start]\n",
    "        data = data[data[key_sort]<end]\n",
    "        data = data.sort_values(by=key)\n",
    "        interval = len(data)\n",
    "        \n",
    "        if interval<4:\n",
    "            result_df = result_df.append(data)\n",
    "            continue\n",
    "\n",
    "        F1,Fu = get_F(data,key)\n",
    "        #过滤数据\n",
    "#         delete_df = delete_df.append(data[data[key]<F1])\n",
    "#         delete_df = delete_df.append(data[data[key]>Fu])\n",
    "        data = data[data[key]>=F1]\n",
    "        data = data[data[key]<=Fu]\n",
    "        result_df = result_df.append(data)\n",
    "\n",
    "    return result_df,df.drop(result_df.index)"
   ]
  },
  {
   "cell_type": "code",
   "execution_count": 5,
   "metadata": {},
   "outputs": [],
   "source": [
    "#函数定义cell，请执行此cell定义相关函数\n",
    "\n",
    "#纵向四分位\n",
    "def quartile_y(df,Pe=25, ratio=0.5):\n",
    "    result_df = df[0:0]\n",
    "#     delete_df = df[0:0]\n",
    "\n",
    "    #获得分组数量\n",
    "    num = int(Pe/ratio)\n",
    "    #关键字\n",
    "    key = 'Power'\n",
    "    key_sort = 'WindSpeed'\n",
    "    #按分组大小对数据进行划分，并处理每个分组\n",
    "    for i in range(num):\n",
    "        #获得每个分组内的数据\n",
    "        start = i*ratio\n",
    "        end = (i+1)*ratio\n",
    "        data = df[df[key_sort]>=start]\n",
    "        data = data[data[key_sort]<end]\n",
    "        data = data.sort_values(by=key)\n",
    "        interval = len(data)\n",
    "\n",
    "        if interval<4:\n",
    "            result_df = result_df.append(data)\n",
    "            continue\n",
    "\n",
    "        F1,Fu = get_F(data,key)\n",
    "        #过滤数据\n",
    "#         delete_df = delete_df.append(data[data[key]>Fu])\n",
    "        data = data[data[key]<=Fu]\n",
    "        result_df = result_df.append(data)\n",
    "        \n",
    "    return result_df,df.drop(result_df.index)"
   ]
  },
  {
   "cell_type": "code",
   "execution_count": 6,
   "metadata": {},
   "outputs": [],
   "source": [
    "#函数定义cell，请执行此cell定义相关函数\n",
    "\n",
    "#聚类\n",
    "def cluster_data(df,Pe=25, ratio=0.5, T=400):\n",
    "    result_df = df[0:0]\n",
    "    delete_df = df[0:0]\n",
    "    result_df['label']=0\n",
    "    delete_df['label']=1\n",
    "    #获得分组数量\n",
    "    num = int(Pe/ratio)\n",
    "    #关键字\n",
    "    key = 'Power'\n",
    "    key_sort = 'WindSpeed'\n",
    "    #按分组大小对数据进行划分，并处理每个分组\n",
    "    for i in range(num):\n",
    "        #获得每个分组内的数据\n",
    "        start = i*ratio\n",
    "        end = (i+1)*ratio\n",
    "        data = df[df[key_sort]>=start]\n",
    "        data = data[data[key_sort]<end]\n",
    "        data = data.sort_values(by=key)\n",
    "        interval = len(data)\n",
    "\n",
    "        if interval<5:\n",
    "            data['label']=0\n",
    "            result_df = result_df.append(data)\n",
    "            continue\n",
    "\n",
    "        loan = np.array(data[[key,key_sort]])\n",
    "        clf=KMeans(n_clusters=5,random_state=9)\n",
    "        clf = clf.fit(loan)\n",
    "        data['label']=clf.labels_\n",
    "        w_max = max(clf.cluster_centers_[:,0])\n",
    "        for index,w in enumerate(clf.cluster_centers_[:,0]):\n",
    "            if w_max - w <= T:\n",
    "                result_df = result_df.append(data[data['label']==index])\n",
    "            else:\n",
    "                delete_df = delete_df.append(data[data['label']==index])\n",
    "                \n",
    "    result_df['label']=0\n",
    "    delete_df['label']=1\n",
    "    \n",
    "    return result_df,delete_df"
   ]
  },
  {
   "cell_type": "code",
   "execution_count": 38,
   "metadata": {},
   "outputs": [],
   "source": [
    "#实验cell，用于调试代码，观察实验结果\n",
    "#第一步，导入数据\n",
    "df = pd.read_csv(\"dataset.csv\")\n",
    "df = df[df['WindNumber']==2]"
   ]
  },
  {
   "cell_type": "code",
   "execution_count": 39,
   "metadata": {},
   "outputs": [
    {
     "name": "stdout",
     "output_type": "stream",
     "text": [
      "38855\n"
     ]
    }
   ],
   "source": [
    "#实验cell，用于调试代码，观察实验结果\n",
    "#第二步，数据分析\n",
    "\n",
    "#异常检测\n",
    "print(len(df))\n",
    "df,dl0 = data_prepro(df)\n",
    "# print(\"输出：{}，下一步输入:{}\".format(len(df)+len(dl0),len(df)))\n",
    "df,dl = quartile_x(df)\n",
    "# print(\"输出：{}，下一步输入:{}\".format(len(df)+len(dl),len(df)))\n",
    "df,dl2 = quartile_y(df)\n",
    "# print(\"输出：{}，下一步输入:{}\".format(len(df)+len(dl2),len(df)))\n",
    "df,dl3 = cluster_data(df)\n",
    "# print(\"输出：{}，下一步输入:{}\".format(len(df)+len(dl3),len(df)))\n",
    "\n",
    "#数据分组\n",
    "dl0['label']=1\n",
    "dl['label']=1\n",
    "dl2['label']=1\n",
    "dl = dl.append(dl0)\n",
    "dl = dl.append(dl2)\n",
    "dl = dl.append(dl3)\n"
   ]
  },
  {
   "cell_type": "code",
   "execution_count": 41,
   "metadata": {},
   "outputs": [],
   "source": [
    "dt = df[(df['Power']<1250) & (df['WindSpeed']>12)]\n",
    "df = df.drop(dt.index)\n",
    "dl = dl.append(dt)"
   ]
  },
  {
   "cell_type": "code",
   "execution_count": 42,
   "metadata": {},
   "outputs": [
    {
     "name": "stdout",
     "output_type": "stream",
     "text": [
      "正常数据: 23237 异常数据: 15618\n"
     ]
    },
    {
     "data": {
      "image/png": "[encoded data removed]",
      "text/plain": [
       "<Figure size 432x288 with 1 Axes>"
      ]
     },
     "metadata": {
      "needs_background": "light"
     },
     "output_type": "display_data"
    }
   ],
   "source": [
    "#实验cell，用于调试代码，观察实验结果\n",
    "#第三步，结果绘图\n",
    "\n",
    "plt.scatter(dl['WindSpeed'],dl['Power'],c='#FFF0F5')\n",
    "plt.scatter(df['WindSpeed'],df['Power'],c='#4682B4')\n",
    "print('正常数据:',len(df),'异常数据:',len(dl))\n",
    "plt.show()"
   ]
  },
  {
   "cell_type": "code",
   "execution_count": 43,
   "metadata": {},
   "outputs": [],
   "source": [
    "df = df.append(dl)\n",
    "d_out = df[['WindNumber','Time','label']]"
   ]
  },
  {
   "cell_type": "code",
   "execution_count": 46,
   "metadata": {},
   "outputs": [
    {
     "name": "stdout",
     "output_type": "stream",
     "text": [
      "497837\n",
      "458982\n"
     ]
    }
   ],
   "source": [
    "df2 = pd.read_csv(\"submission - 85.csv\")\n",
    "print(len(df2))\n",
    "df_other = df2[df2['WindNumber']!=2]\n",
    "print(len(df_other))"
   ]
  },
  {
   "cell_type": "code",
   "execution_count": 48,
   "metadata": {},
   "outputs": [],
   "source": [
    "df_other = df_other[['WindNumber','Time','label']]\n",
    "d_out = df_other.append(d_out)\n",
    "print(len(d_out))"
   ]
  },
  {
   "cell_type": "code",
   "execution_count": 50,
   "metadata": {},
   "outputs": [],
   "source": [
    "d_out.to_csv(\"submission2.csv\",index=None)"
   ]
  },
  {
   "cell_type": "code",
   "execution_count": 134,
   "metadata": {},
   "outputs": [],
   "source": [
    "#输出cell，用于输出结果文件\n",
    "#第一步，处理1号风机\n",
    "\n",
    "df = pd.read_csv(\"dataset.csv\")\n",
    "df = df[df['WindNumber']==1]\n",
    "#异常检测\n",
    "df,dl0 = data_prepro(df)\n",
    "df,dl = quartile_x(df)\n",
    "df,dl2 = quartile_y(df)\n",
    "df,dl3 = cluster_data(df)\n",
    "#数据分组\n",
    "dl0['label']=1\n",
    "dl['label']=1\n",
    "dl2['label']=1\n",
    "dl = dl.append(dl0)\n",
    "dl = dl.append(dl2)\n",
    "dl = dl.append(dl3)\n",
    "\n",
    "df = df.append(dl)\n",
    "d_out = df[['WindNumber','Time','label']]"
   ]
  },
  {
   "cell_type": "code",
   "execution_count": 135,
   "metadata": {
    "scrolled": true
   },
   "outputs": [
    {
     "name": "stdout",
     "output_type": "stream",
     "text": [
      "正在进行2\n",
      "原始数据量38855\n",
      "【总量】正常数据: 23269 异常数据: 15586\n",
      "\n",
      "正在进行3\n",
      "原始数据量38995\n",
      "【总量】正常数据: 20889 异常数据: 18106\n",
      "\n",
      "正在进行4\n",
      "原始数据量44335\n",
      "【总量】正常数据: 28445 异常数据: 15890\n",
      "\n",
      "正在进行5\n",
      "原始数据量50962\n",
      "【总量】正常数据: 29847 异常数据: 21115\n",
      "\n",
      "正在进行6\n",
      "原始数据量45592\n",
      "【总量】正常数据: 25490 异常数据: 20102\n",
      "\n",
      "正在进行7\n",
      "原始数据量43324\n",
      "【总量】正常数据: 24142 异常数据: 19182\n",
      "\n",
      "正在进行8\n",
      "原始数据量38470\n",
      "【总量】正常数据: 25619 异常数据: 12851\n",
      "\n",
      "正在进行9\n",
      "原始数据量42824\n",
      "【总量】正常数据: 27241 异常数据: 15583\n",
      "\n",
      "正在进行10\n",
      "原始数据量30184\n",
      "【总量】正常数据: 24189 异常数据: 5995\n",
      "\n",
      "正在进行11\n",
      "原始数据量36848\n",
      "【总量】正常数据: 27455 异常数据: 9393\n",
      "\n",
      "正在进行12\n",
      "原始数据量46721\n",
      "【总量】正常数据: 21947 异常数据: 24774\n",
      "\n"
     ]
    }
   ],
   "source": [
    "#输出cell，用于输出结果文件\n",
    "#第二步，处理2至12号风机\n",
    "\n",
    "df_source = pd.read_csv(\"dataset.csv\")\n",
    "for i in range(2,13):\n",
    "    print(\"正在进行{}\".format(i))\n",
    "    df = df_source[df_source['WindNumber']==i]\n",
    "    print(\"原始数据量{}\".format(len(df)))\n",
    "    #异常检测\n",
    "    df,dl0 = data_prepro(df)\n",
    "    df,dl = quartile_x(df)\n",
    "    df,dl2 = quartile_y(df)\n",
    "    df,dl3 = cluster_data(df)\n",
    "\n",
    "#     print(\"异常数据{},{},{}\".format(len(dl),len(dl2),len(dl3)))\n",
    "    #数据分组\n",
    "    dl0['label']=1\n",
    "    dl['label']=1\n",
    "    dl2['label']=1\n",
    "    dl = dl.append(dl0)\n",
    "    dl = dl.append(dl2)\n",
    "    dl = dl.append(dl3)\n",
    "    print('【总量】正常数据:',len(df),'异常数据:',len(dl))\n",
    "    print()\n",
    "    df = df.append(dl)\n",
    "    d_out = d_out.append(df[['WindNumber','Time','label']])\n"
   ]
  },
  {
   "cell_type": "code",
   "execution_count": 139,
   "metadata": {},
   "outputs": [
    {
     "name": "stdout",
     "output_type": "stream",
     "text": [
      "193721 497837\n"
     ]
    }
   ],
   "source": [
    "#输出cell，用于输出结果文件\n",
    "#第三步，查看异常数据数量\n",
    "\n",
    "print(len(d_out[d_out['label']==1]),len(df_source))"
   ]
  },
  {
   "cell_type": "code",
   "execution_count": 137,
   "metadata": {},
   "outputs": [],
   "source": [
    "#输出cell，用于输出结果文件\n",
    "#第四步，导出结果文件\n",
    "\n",
    "d_out.to_csv(\"submission.csv\")"
   ]
  },
  {
   "cell_type": "code",
   "execution_count": 191,
   "metadata": {},
   "outputs": [],
   "source": [
    "#测试cell，不需要执行，用于个人进行测试\n",
    "\n",
    "d = df[df['WindSpeed']>=10]\n",
    "dd = dd[dd['WindSpeed']<=12]"
   ]
  },
  {
   "cell_type": "code",
   "execution_count": 153,
   "metadata": {},
   "outputs": [
    {
     "ename": "ValueError",
     "evalue": "n_samples=4 should be >= n_clusters=5",
     "output_type": "error",
     "traceback": [
      "\u001b[1;31m---------------------------------------------------------------------------\u001b[0m",
      "\u001b[1;31mValueError\u001b[0m                                Traceback (most recent call last)",
      "\u001b[1;32m<ipython-input-153-a737bd94f47f>\u001b[0m in \u001b[0;36m<module>\u001b[1;34m\u001b[0m\n\u001b[0;32m      2\u001b[0m \u001b[0mdd\u001b[0m \u001b[1;33m=\u001b[0m \u001b[0mdd\u001b[0m\u001b[1;33m[\u001b[0m\u001b[1;36m0\u001b[0m\u001b[1;33m:\u001b[0m\u001b[1;36m6\u001b[0m\u001b[1;33m]\u001b[0m\u001b[1;33m\u001b[0m\u001b[0m\n\u001b[0;32m      3\u001b[0m \u001b[0mloan\u001b[0m \u001b[1;33m=\u001b[0m \u001b[0mnp\u001b[0m\u001b[1;33m.\u001b[0m\u001b[0marray\u001b[0m\u001b[1;33m(\u001b[0m\u001b[0mdd\u001b[0m\u001b[1;33m[\u001b[0m\u001b[1;33m[\u001b[0m\u001b[1;34m'Power'\u001b[0m\u001b[1;33m,\u001b[0m\u001b[1;34m'WindSpeed'\u001b[0m\u001b[1;33m]\u001b[0m\u001b[1;33m]\u001b[0m\u001b[1;33m)\u001b[0m\u001b[1;33m\u001b[0m\u001b[0m\n\u001b[1;32m----> 4\u001b[1;33m \u001b[0mlabels\u001b[0m\u001b[1;33m=\u001b[0m\u001b[0mKMeans\u001b[0m\u001b[1;33m(\u001b[0m\u001b[0mn_clusters\u001b[0m\u001b[1;33m=\u001b[0m\u001b[1;36m5\u001b[0m \u001b[1;33m,\u001b[0m\u001b[0mrandom_state\u001b[0m\u001b[1;33m=\u001b[0m\u001b[1;36m9\u001b[0m\u001b[1;33m)\u001b[0m\u001b[1;33m.\u001b[0m\u001b[0mfit_predict\u001b[0m\u001b[1;33m(\u001b[0m\u001b[0mloan\u001b[0m\u001b[1;33m)\u001b[0m\u001b[1;33m\u001b[0m\u001b[0m\n\u001b[0m\u001b[0;32m      5\u001b[0m \u001b[0mplt\u001b[0m\u001b[1;33m.\u001b[0m\u001b[0mscatter\u001b[0m\u001b[1;33m(\u001b[0m\u001b[0mdd\u001b[0m\u001b[1;33m[\u001b[0m\u001b[1;34m'WindSpeed'\u001b[0m\u001b[1;33m]\u001b[0m\u001b[1;33m,\u001b[0m\u001b[0mdd\u001b[0m\u001b[1;33m[\u001b[0m\u001b[1;34m'Power'\u001b[0m\u001b[1;33m]\u001b[0m\u001b[1;33m,\u001b[0m\u001b[0mc\u001b[0m\u001b[1;33m=\u001b[0m\u001b[0mlabels\u001b[0m\u001b[1;33m)\u001b[0m\u001b[1;33m\u001b[0m\u001b[0m\n\u001b[0;32m      6\u001b[0m \u001b[0mplt\u001b[0m\u001b[1;33m.\u001b[0m\u001b[0mshow\u001b[0m\u001b[1;33m(\u001b[0m\u001b[1;33m)\u001b[0m\u001b[1;33m\u001b[0m\u001b[0m\n",
      "\u001b[1;32mc:\\users\\24320\\envs\\env_protection\\lib\\site-packages\\sklearn\\cluster\\_kmeans.py\u001b[0m in \u001b[0;36mfit_predict\u001b[1;34m(self, X, y, sample_weight)\u001b[0m\n\u001b[0;32m   1006\u001b[0m             \u001b[0mIndex\u001b[0m \u001b[0mof\u001b[0m \u001b[0mthe\u001b[0m \u001b[0mcluster\u001b[0m \u001b[0meach\u001b[0m \u001b[0msample\u001b[0m \u001b[0mbelongs\u001b[0m \u001b[0mto\u001b[0m\u001b[1;33m.\u001b[0m\u001b[1;33m\u001b[0m\u001b[0m\n\u001b[0;32m   1007\u001b[0m         \"\"\"\n\u001b[1;32m-> 1008\u001b[1;33m         \u001b[1;32mreturn\u001b[0m \u001b[0mself\u001b[0m\u001b[1;33m.\u001b[0m\u001b[0mfit\u001b[0m\u001b[1;33m(\u001b[0m\u001b[0mX\u001b[0m\u001b[1;33m,\u001b[0m \u001b[0msample_weight\u001b[0m\u001b[1;33m=\u001b[0m\u001b[0msample_weight\u001b[0m\u001b[1;33m)\u001b[0m\u001b[1;33m.\u001b[0m\u001b[0mlabels_\u001b[0m\u001b[1;33m\u001b[0m\u001b[0m\n\u001b[0m\u001b[0;32m   1009\u001b[0m \u001b[1;33m\u001b[0m\u001b[0m\n\u001b[0;32m   1010\u001b[0m     \u001b[1;32mdef\u001b[0m \u001b[0mfit_transform\u001b[0m\u001b[1;33m(\u001b[0m\u001b[0mself\u001b[0m\u001b[1;33m,\u001b[0m \u001b[0mX\u001b[0m\u001b[1;33m,\u001b[0m \u001b[0my\u001b[0m\u001b[1;33m=\u001b[0m\u001b[1;32mNone\u001b[0m\u001b[1;33m,\u001b[0m \u001b[0msample_weight\u001b[0m\u001b[1;33m=\u001b[0m\u001b[1;32mNone\u001b[0m\u001b[1;33m)\u001b[0m\u001b[1;33m:\u001b[0m\u001b[1;33m\u001b[0m\u001b[0m\n",
      "\u001b[1;32mc:\\users\\24320\\envs\\env_protection\\lib\\site-packages\\sklearn\\cluster\\_kmeans.py\u001b[0m in \u001b[0;36mfit\u001b[1;34m(self, X, y, sample_weight)\u001b[0m\n\u001b[0;32m    861\u001b[0m         \u001b[1;32mif\u001b[0m \u001b[0m_num_samples\u001b[0m\u001b[1;33m(\u001b[0m\u001b[0mX\u001b[0m\u001b[1;33m)\u001b[0m \u001b[1;33m<\u001b[0m \u001b[0mself\u001b[0m\u001b[1;33m.\u001b[0m\u001b[0mn_clusters\u001b[0m\u001b[1;33m:\u001b[0m\u001b[1;33m\u001b[0m\u001b[0m\n\u001b[0;32m    862\u001b[0m             raise ValueError(\"n_samples=%d should be >= n_clusters=%d\" % (\n\u001b[1;32m--> 863\u001b[1;33m                 _num_samples(X), self.n_clusters))\n\u001b[0m\u001b[0;32m    864\u001b[0m \u001b[1;33m\u001b[0m\u001b[0m\n\u001b[0;32m    865\u001b[0m         \u001b[0mtol\u001b[0m \u001b[1;33m=\u001b[0m \u001b[0m_tolerance\u001b[0m\u001b[1;33m(\u001b[0m\u001b[0mX\u001b[0m\u001b[1;33m,\u001b[0m \u001b[0mself\u001b[0m\u001b[1;33m.\u001b[0m\u001b[0mtol\u001b[0m\u001b[1;33m)\u001b[0m\u001b[1;33m\u001b[0m\u001b[0m\n",
      "\u001b[1;31mValueError\u001b[0m: n_samples=4 should be >= n_clusters=5"
     ]
    }
   ],
   "source": [
    "#测试cell，不需要执行，用于个人进行测试\n",
    "\n",
    "dt = dd\n",
    "dd = dd[0:6]\n",
    "loan = np.array(dd[['Power','WindSpeed']])\n",
    "labels=KMeans(n_clusters=5 ,random_state=9).fit_predict(loan)\n",
    "plt.scatter(dd['WindSpeed'],dd['Power'],c=labels)\n",
    "plt.show()\n",
    "dd = dt"
   ]
  },
  {
   "cell_type": "code",
   "execution_count": 128,
   "metadata": {},
   "outputs": [
    {
     "data": {
      "image/png": "[encoded data removed]",
      "text/plain": [
       "<Figure size 432x288 with 1 Axes>"
      ]
     },
     "metadata": {
      "needs_background": "light"
     },
     "output_type": "display_data"
    }
   ],
   "source": [
    "#测试cell，不需要执行，用于个人进行测试\n",
    "\n",
    "loan = np.array(dd[['Power','WindSpeed']])\n",
    "labels=DBSCAN(eps=0.9,min_samples=2).fit_predict(loan)\n",
    "plt.scatter(dd['WindSpeed'],dd['Power'],c=labels)\n",
    "plt.show()"
   ]
  }
 ],
 "metadata": {
  "kernelspec": {
   "display_name": "Python 3",
   "language": "python",
   "name": "python3"
  },
  "language_info": {
   "codemirror_mode": {
    "name": "ipython",
    "version": 3
   },
   "file_extension": ".py",
   "mimetype": "text/x-python",
   "name": "python",
   "nbconvert_exporter": "python",
   "pygments_lexer": "ipython3",
   "version": "3.6.5"
  }
 },
 "nbformat": 4,
 "nbformat_minor": 2
}
